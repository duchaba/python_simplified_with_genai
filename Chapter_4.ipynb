{
  "nbformat": 4,
  "nbformat_minor": 0,
  "metadata": {
    "colab": {
      "provenance": [],
      "machine_shape": "hm",
      "authorship_tag": "ABX9TyPEUp5GVx02D74vH/p6V823",
      "include_colab_link": true
    },
    "kernelspec": {
      "name": "python3",
      "display_name": "Python 3"
    },
    "language_info": {
      "name": "python"
    }
  },
  "cells": [
    {
      "cell_type": "markdown",
      "metadata": {
        "id": "view-in-github",
        "colab_type": "text"
      },
      "source": [
        "<a href=\"https://colab.research.google.com/github/duchaba/python_simplified_with_genai/blob/master/Chapter_4.ipynb\" target=\"_parent\"><img src=\"https://colab.research.google.com/assets/colab-badge.svg\" alt=\"Open In Colab\"/></a>"
      ]
    },
    {
      "cell_type": "markdown",
      "source": [
        "# Flowchart"
      ],
      "metadata": {
        "id": "o6sEk-k8oHO0"
      }
    },
    {
      "cell_type": "code",
      "source": [
        "!pip install graphviz"
      ],
      "metadata": {
        "colab": {
          "base_uri": "https://localhost:8080/"
        },
        "id": "OgdMPRFtvki4",
        "outputId": "342be33f-d70e-471d-8132-b0c0971e378f"
      },
      "execution_count": 1,
      "outputs": [
        {
          "output_type": "stream",
          "name": "stdout",
          "text": [
            "Requirement already satisfied: graphviz in /usr/local/lib/python3.11/dist-packages (0.20.3)\n"
          ]
        }
      ]
    },
    {
      "cell_type": "code",
      "source": [
        "# Prompt GPT:\n",
        "# Write graphviz code to display the bubble sort algorithm\n",
        "\n",
        "from graphviz import Digraph\n",
        "\n",
        "# Create a directed graph\n",
        "dot = Digraph(engine='dot')\n",
        "\n",
        "# Set graph attributes for a dark gray background and white text\n",
        "dot.attr(bgcolor=\"gray20\")\n",
        "dot.attr(fontcolor=\"white\")\n",
        "\n",
        "# Add nodes with individual web colors, white text, and custom shapes\n",
        "dot.node(\"Start\", \"Start\", style=\"filled\", fillcolor=\"red\", fontcolor=\"white\", shape=\"circle\")\n",
        "dot.node(\"OuterLoop\", \"Outer Loop i: (0 to n-1)\", style=\"filled\", fillcolor=\"forestgreen\", fontcolor=\"white\", shape=\"box\")\n",
        "dot.node(\"InnerLoop\", \"Inner Loop j: (0 to n-i-2)\", style=\"filled\", fillcolor=\"yellowgreen\", fontcolor=\"white\", shape=\"box\")\n",
        "dot.node(\"Compare\", \"IF:\\na[j] > a[j+1]\\n?\", style=\"filled\", fillcolor=\"chocolate\", fontcolor=\"white\", shape=\"diamond\")\n",
        "dot.node(\"Swap\", \"Swap: a[j] <--> a[j+1]\", style=\"filled\", fillcolor=\"deepskyblue\", fontcolor=\"white\", shape=\"box\")\n",
        "dot.node(\"NoSwap\", \"No Swap\", style=\"filled\", fillcolor=\"deepskyblue\", fontcolor=\"white\", shape=\"box\")\n",
        "dot.node(\"EndInner\", \"Inner Loop End\", style=\"filled\", fillcolor=\"yellowgreen\", fontcolor=\"white\", shape=\"ellipse\")\n",
        "dot.node(\"EndOuter\", \"Outer Loop End\", style=\"filled\", fillcolor=\"forestgreen\", fontcolor=\"white\", shape=\"ellipse\")\n",
        "dot.node(\"Finish\", \"Stop\", style=\"filled\", fillcolor=\"red\", fontcolor=\"white\", shape=\"circle\")\n",
        "\n",
        "# Add edges with web colors and white text\n",
        "dot.edge(\"Start\", \"OuterLoop\", color=\"white\", fontcolor=\"white\")\n",
        "dot.edge(\"OuterLoop\", \"InnerLoop\", color=\"white\", fontcolor=\"white\")\n",
        "dot.edge(\"InnerLoop\", \"Compare\", color=\"white\", fontcolor=\"white\")\n",
        "dot.edge(\"Compare\", \"Swap\", label=\"Yes\", color=\"white\", fontcolor=\"white\")\n",
        "dot.edge(\"Compare\", \"NoSwap\", label=\"No\", color=\"white\", fontcolor=\"white\")\n",
        "dot.edge(\"Swap\", \"EndInner\", color=\"white\", fontcolor=\"white\")\n",
        "dot.edge(\"NoSwap\", \"EndInner\", color=\"white\", fontcolor=\"white\")\n",
        "dot.edge(\"EndInner\", \"InnerLoop\", label=\"Next j\", color=\"white\", fontcolor=\"white\")\n",
        "dot.edge(\"InnerLoop\", \"EndOuter\", label=\"j >= n-i-2\", style=\"dashed\", color=\"white\", fontcolor=\"white\")\n",
        "dot.edge(\"EndOuter\", \"OuterLoop\", label=\"Next i\", style=\"dashed\", color=\"white\", fontcolor=\"white\")\n",
        "dot.edge(\"OuterLoop\", \"Finish\", label=\"i >= n-1\", style=\"dashed\", color=\"white\", fontcolor=\"white\")\n",
        "\n",
        "# Render and display the flowchart\n",
        "dot.render(\"bubble_sort_flowchart\", format=\"png\", cleanup=True)  # Save as PNG\n",
        "dot  # Display inline in Jupyter Notebook\n"
      ],
      "metadata": {
        "colab": {
          "base_uri": "https://localhost:8080/",
          "height": 764
        },
        "id": "GfaD3F5L5GJx",
        "outputId": "9059c4a8-5930-4c9b-f891-b1800157510a"
      },
      "execution_count": 2,
      "outputs": [
        {
          "output_type": "execute_result",
          "data": {
            "image/svg+xml": "<?xml version=\"1.0\" encoding=\"UTF-8\" standalone=\"no\"?>\n<!DOCTYPE svg PUBLIC \"-//W3C//DTD SVG 1.1//EN\"\n \"http://www.w3.org/Graphics/SVG/1.1/DTD/svg11.dtd\">\n<!-- Generated by graphviz version 2.43.0 (0)\n -->\n<!-- Title: %3 Pages: 1 -->\n<svg width=\"477pt\" height=\"557pt\"\n viewBox=\"0.00 0.00 476.65 556.89\" xmlns=\"http://www.w3.org/2000/svg\" xmlns:xlink=\"http://www.w3.org/1999/xlink\">\n<g id=\"graph0\" class=\"graph\" transform=\"scale(1 1) rotate(0) translate(4 552.89)\">\n<title>%3</title>\n<polygon fill=\"#333333\" stroke=\"transparent\" points=\"-4,4 -4,-552.89 472.65,-552.89 472.65,4 -4,4\"/>\n<!-- Start -->\n<g id=\"node1\" class=\"node\">\n<title>Start</title>\n<ellipse fill=\"red\" stroke=\"black\" cx=\"363\" cy=\"-521.59\" rx=\"27.1\" ry=\"27.1\"/>\n<text text-anchor=\"middle\" x=\"363\" y=\"-517.89\" font-family=\"Times,serif\" font-size=\"14.00\" fill=\"white\">Start</text>\n</g>\n<!-- OuterLoop -->\n<g id=\"node2\" class=\"node\">\n<title>OuterLoop</title>\n<polygon fill=\"forestgreen\" stroke=\"black\" points=\"436,-457.3 290,-457.3 290,-421.3 436,-421.3 436,-457.3\"/>\n<text text-anchor=\"middle\" x=\"363\" y=\"-435.6\" font-family=\"Times,serif\" font-size=\"14.00\" fill=\"white\">Outer Loop i: (0 to n&#45;1)</text>\n</g>\n<!-- Start&#45;&gt;OuterLoop -->\n<g id=\"edge1\" class=\"edge\">\n<title>Start&#45;&gt;OuterLoop</title>\n<path fill=\"none\" stroke=\"white\" d=\"M363,-493.85C363,-485.39 363,-476.02 363,-467.52\"/>\n<polygon fill=\"white\" stroke=\"white\" points=\"366.5,-467.34 363,-457.34 359.5,-467.34 366.5,-467.34\"/>\n</g>\n<!-- InnerLoop -->\n<g id=\"node3\" class=\"node\">\n<title>InnerLoop</title>\n<polygon fill=\"yellowgreen\" stroke=\"black\" points=\"327,-361.65 175,-361.65 175,-325.65 327,-325.65 327,-361.65\"/>\n<text text-anchor=\"middle\" x=\"251\" y=\"-339.95\" font-family=\"Times,serif\" font-size=\"14.00\" fill=\"white\">Inner Loop j: (0 to n&#45;i&#45;2)</text>\n</g>\n<!-- OuterLoop&#45;&gt;InnerLoop -->\n<g id=\"edge2\" class=\"edge\">\n<title>OuterLoop&#45;&gt;InnerLoop</title>\n<path fill=\"none\" stroke=\"white\" d=\"M342.46,-421.12C324.7,-406.27 298.85,-384.66 279.16,-368.2\"/>\n<polygon fill=\"white\" stroke=\"white\" points=\"281.33,-365.44 271.41,-361.72 276.84,-370.81 281.33,-365.44\"/>\n</g>\n<!-- Finish -->\n<g id=\"node9\" class=\"node\">\n<title>Finish</title>\n<ellipse fill=\"red\" stroke=\"black\" cx=\"442\" cy=\"-343.65\" rx=\"26.8\" ry=\"26.8\"/>\n<text text-anchor=\"middle\" x=\"442\" y=\"-339.95\" font-family=\"Times,serif\" font-size=\"14.00\" fill=\"white\">Stop</text>\n</g>\n<!-- OuterLoop&#45;&gt;Finish -->\n<g id=\"edge11\" class=\"edge\">\n<title>OuterLoop&#45;&gt;Finish</title>\n<path fill=\"none\" stroke=\"white\" stroke-dasharray=\"5,2\" d=\"M377.49,-421.12C388.95,-407.54 405.17,-388.31 418.48,-372.53\"/>\n<polygon fill=\"white\" stroke=\"white\" points=\"421.36,-374.54 425.13,-364.64 416.01,-370.03 421.36,-374.54\"/>\n<text text-anchor=\"middle\" x=\"428\" y=\"-392.1\" font-family=\"Times,serif\" font-size=\"14.00\" fill=\"white\">i &gt;= n&#45;1</text>\n</g>\n<!-- Compare -->\n<g id=\"node4\" class=\"node\">\n<title>Compare</title>\n<polygon fill=\"chocolate\" stroke=\"black\" points=\"141,-266 56,-213 141,-160 226,-213 141,-266\"/>\n<text text-anchor=\"middle\" x=\"141\" y=\"-224.3\" font-family=\"Times,serif\" font-size=\"14.00\" fill=\"white\">IF:</text>\n<text text-anchor=\"middle\" x=\"141\" y=\"-209.3\" font-family=\"Times,serif\" font-size=\"14.00\" fill=\"white\">a[j] &gt; a[j+1]</text>\n<text text-anchor=\"middle\" x=\"141\" y=\"-194.3\" font-family=\"Times,serif\" font-size=\"14.00\" fill=\"white\">?</text>\n</g>\n<!-- InnerLoop&#45;&gt;Compare -->\n<g id=\"edge3\" class=\"edge\">\n<title>InnerLoop&#45;&gt;Compare</title>\n<path fill=\"none\" stroke=\"white\" d=\"M236.39,-325.56C221.27,-307.88 197.07,-279.58 176.83,-255.9\"/>\n<polygon fill=\"white\" stroke=\"white\" points=\"179.29,-253.4 170.14,-248.07 173.97,-257.95 179.29,-253.4\"/>\n</g>\n<!-- EndOuter -->\n<g id=\"node8\" class=\"node\">\n<title>EndOuter</title>\n<ellipse fill=\"forestgreen\" stroke=\"black\" cx=\"357\" cy=\"-213\" rx=\"68.49\" ry=\"18\"/>\n<text text-anchor=\"middle\" x=\"357\" y=\"-209.3\" font-family=\"Times,serif\" font-size=\"14.00\" fill=\"white\">Outer Loop End</text>\n</g>\n<!-- InnerLoop&#45;&gt;EndOuter -->\n<g id=\"edge9\" class=\"edge\">\n<title>InnerLoop&#45;&gt;EndOuter</title>\n<path fill=\"none\" stroke=\"white\" stroke-dasharray=\"5,2\" d=\"M262.8,-325.63C271.2,-313.74 282.93,-297.62 294,-284 306.85,-268.2 322.11,-251.2 334.39,-237.92\"/>\n<polygon fill=\"white\" stroke=\"white\" points=\"336.99,-240.26 341.24,-230.56 331.86,-235.49 336.99,-240.26\"/>\n<text text-anchor=\"middle\" x=\"321.5\" y=\"-287.8\" font-family=\"Times,serif\" font-size=\"14.00\" fill=\"white\">j &gt;= n&#45;i&#45;2</text>\n</g>\n<!-- Swap -->\n<g id=\"node5\" class=\"node\">\n<title>Swap</title>\n<polygon fill=\"deepskyblue\" stroke=\"black\" points=\"140,-109 0,-109 0,-73 140,-73 140,-109\"/>\n<text text-anchor=\"middle\" x=\"70\" y=\"-87.3\" font-family=\"Times,serif\" font-size=\"14.00\" fill=\"white\">Swap: a[j] &lt;&#45;&#45;&gt; a[j+1]</text>\n</g>\n<!-- Compare&#45;&gt;Swap -->\n<g id=\"edge4\" class=\"edge\">\n<title>Compare&#45;&gt;Swap</title>\n<path fill=\"none\" stroke=\"white\" d=\"M118.34,-173.7C107.62,-155.58 95.09,-134.41 85.48,-118.16\"/>\n<polygon fill=\"white\" stroke=\"white\" points=\"88.29,-116.05 80.19,-109.22 82.27,-119.61 88.29,-116.05\"/>\n<text text-anchor=\"middle\" x=\"110.5\" y=\"-130.8\" font-family=\"Times,serif\" font-size=\"14.00\" fill=\"white\">Yes</text>\n</g>\n<!-- NoSwap -->\n<g id=\"node6\" class=\"node\">\n<title>NoSwap</title>\n<polygon fill=\"deepskyblue\" stroke=\"black\" points=\"225.5,-109 158.5,-109 158.5,-73 225.5,-73 225.5,-109\"/>\n<text text-anchor=\"middle\" x=\"192\" y=\"-87.3\" font-family=\"Times,serif\" font-size=\"14.00\" fill=\"white\">No Swap</text>\n</g>\n<!-- Compare&#45;&gt;NoSwap -->\n<g id=\"edge5\" class=\"edge\">\n<title>Compare&#45;&gt;NoSwap</title>\n<path fill=\"none\" stroke=\"white\" d=\"M158.55,-170.7C165.88,-153.46 174.18,-133.93 180.68,-118.64\"/>\n<polygon fill=\"white\" stroke=\"white\" points=\"183.97,-119.84 184.66,-109.27 177.53,-117.11 183.97,-119.84\"/>\n<text text-anchor=\"middle\" x=\"185.5\" y=\"-130.8\" font-family=\"Times,serif\" font-size=\"14.00\" fill=\"white\">No</text>\n</g>\n<!-- EndInner -->\n<g id=\"node7\" class=\"node\">\n<title>EndInner</title>\n<ellipse fill=\"yellowgreen\" stroke=\"black\" cx=\"192\" cy=\"-18\" rx=\"66.89\" ry=\"18\"/>\n<text text-anchor=\"middle\" x=\"192\" y=\"-14.3\" font-family=\"Times,serif\" font-size=\"14.00\" fill=\"white\">Inner Loop End</text>\n</g>\n<!-- Swap&#45;&gt;EndInner -->\n<g id=\"edge6\" class=\"edge\">\n<title>Swap&#45;&gt;EndInner</title>\n<path fill=\"none\" stroke=\"white\" d=\"M99.22,-72.99C116.27,-63.07 137.91,-50.48 156.01,-39.95\"/>\n<polygon fill=\"white\" stroke=\"white\" points=\"158.22,-42.71 165.1,-34.65 154.7,-36.66 158.22,-42.71\"/>\n</g>\n<!-- NoSwap&#45;&gt;EndInner -->\n<g id=\"edge7\" class=\"edge\">\n<title>NoSwap&#45;&gt;EndInner</title>\n<path fill=\"none\" stroke=\"white\" d=\"M192,-72.81C192,-64.79 192,-55.05 192,-46.07\"/>\n<polygon fill=\"white\" stroke=\"white\" points=\"195.5,-46.03 192,-36.03 188.5,-46.03 195.5,-46.03\"/>\n</g>\n<!-- EndInner&#45;&gt;InnerLoop -->\n<g id=\"edge8\" class=\"edge\">\n<title>EndInner&#45;&gt;InnerLoop</title>\n<path fill=\"none\" stroke=\"white\" d=\"M209.39,-35.81C218.44,-45.7 228.7,-59.01 234,-73 265.73,-156.78 259.58,-265.63 254.41,-315.52\"/>\n<polygon fill=\"white\" stroke=\"white\" points=\"250.92,-315.19 253.3,-325.51 257.88,-315.96 250.92,-315.19\"/>\n<text text-anchor=\"middle\" x=\"269\" y=\"-130.8\" font-family=\"Times,serif\" font-size=\"14.00\" fill=\"white\">Next j</text>\n</g>\n<!-- EndOuter&#45;&gt;OuterLoop -->\n<g id=\"edge10\" class=\"edge\">\n<title>EndOuter&#45;&gt;OuterLoop</title>\n<path fill=\"none\" stroke=\"white\" stroke-dasharray=\"5,2\" d=\"M357.46,-231.29C358.5,-270.08 361.02,-364.3 362.27,-411.05\"/>\n<polygon fill=\"white\" stroke=\"white\" points=\"358.77,-411.16 362.54,-421.07 365.77,-410.98 358.77,-411.16\"/>\n<text text-anchor=\"middle\" x=\"379\" y=\"-339.95\" font-family=\"Times,serif\" font-size=\"14.00\" fill=\"white\">Next i</text>\n</g>\n</g>\n</svg>\n",
            "text/plain": [
              "<graphviz.graphs.Digraph at 0x7bdefa03d650>"
            ]
          },
          "metadata": {},
          "execution_count": 2
        }
      ]
    },
    {
      "cell_type": "markdown",
      "source": [
        "Express Bubble Sort's logic compactly in a mathematical-style pseudo-formula:\n",
        "\n",
        "$$\n",
        "Repeat\\ (\\eta-\\kappa)\\ times\\ for\\ each\\ \\kappa\\:∈ [1,\\eta]:\\\\\n",
        "If\\ a[i]>a[i+1]: Swap\\ a[i]\\ and\\ a[i+1]\n",
        "$$"
      ],
      "metadata": {
        "id": "BVsnmxrMgC3I"
      }
    },
    {
      "cell_type": "markdown",
      "source": [
        "# bubble sort"
      ],
      "metadata": {
        "id": "g3vqS6gvoOyT"
      }
    },
    {
      "cell_type": "code",
      "source": [
        "# prompt GPT:\n",
        "# Write a simple Bubble Sort function in Python with inline documentation\n",
        "\n",
        "def bubble_sort(input_list, is_debug=True):\n",
        "  \"\"\"Sorts a list using the bubble sort algorithm.\n",
        "\n",
        "  Args:\n",
        "      input_list: The list to be sorted.\n",
        "\n",
        "  Returns:\n",
        "      list: The sorted list.\n",
        "  \"\"\"\n",
        "  n = len(input_list)  # Get the length of the list (array)\n",
        "\n",
        "  # debug statement\n",
        "  if (is_debug):\n",
        "    print(f\"Debug log: Length of the input list is: {n}\")\n",
        "\n",
        "  # Traverse through all element in the list\n",
        "  # outer loop\n",
        "  for i in range(n):\n",
        "\n",
        "    # Flag to optimize - if no swaps occur, the list is sorted\n",
        "    swapped = False\n",
        "\n",
        "    # debug statement\n",
        "    if (is_debug):\n",
        "      print(f\"Debug log: Pass {i}: {' '*11}{input_list}\")\n",
        "\n",
        "    # inner loop\n",
        "    for j in range(0, n - i - 1):\n",
        "      if input_list[j] > input_list[j + 1]:    # check for swapping\n",
        "        input_list[j], input_list[j + 1] = input_list[j + 1], input_list[j]\n",
        "        swapped = True\n",
        "    if not swapped:\n",
        "      break  # If no two elements were swapped in inner loop, the array is sorted\n",
        "  return input_list"
      ],
      "metadata": {
        "id": "t3LdvKDP1wvd"
      },
      "execution_count": 5,
      "outputs": []
    },
    {
      "cell_type": "code",
      "source": [
        "# check bubble sort, inner loop debug\n",
        "\n",
        "unorder_list = [5, 3, 8, 6, 2]\n",
        "order_list = bubble_sort(unorder_list)\n",
        "print(f\"Output order list: {' '*11}{order_list}\")"
      ],
      "metadata": {
        "id": "ISqc5V991wx2",
        "colab": {
          "base_uri": "https://localhost:8080/"
        },
        "outputId": "78e06758-c9c5-42f3-d9e8-369ed4121d97"
      },
      "execution_count": 14,
      "outputs": [
        {
          "output_type": "stream",
          "name": "stdout",
          "text": [
            "Debug log: Length of the input list is: 5\n",
            "Debug log: Pass 0:            [5, 3, 8, 6, 2]\n",
            "Debug log: Pass 1:            [3, 5, 6, 2, 8]\n",
            "Debug log: Pass 2:            [3, 5, 2, 6, 8]\n",
            "Debug log: Pass 3:            [3, 2, 5, 6, 8]\n",
            "Debug log: Pass 4:            [2, 3, 5, 6, 8]\n",
            "Output order list:            [2, 3, 5, 6, 8]\n"
          ]
        }
      ]
    },
    {
      "cell_type": "code",
      "source": [
        "# Bubble sort and swapped flag\n",
        "\n",
        "unorder_list = [5, 2, 8, 6, 3]\n",
        "order_list = bubble_sort(unorder_list)\n",
        "print(f\"Output order list: {' '*11}{order_list}\")"
      ],
      "metadata": {
        "id": "qNk-9SD31w1P",
        "colab": {
          "base_uri": "https://localhost:8080/"
        },
        "outputId": "61d56a18-a0a5-4b09-b35d-597c7e09f21c"
      },
      "execution_count": 10,
      "outputs": [
        {
          "output_type": "stream",
          "name": "stdout",
          "text": [
            "Debug log: Length of the input list is: 5\n",
            "Debug log: Pass 0:            [5, 2, 8, 6, 3]\n",
            "Debug log: Pass 1:            [2, 5, 6, 3, 8]\n",
            "Debug log: Pass 2:            [2, 5, 3, 6, 8]\n",
            "Debug log: Pass 3:            [2, 3, 5, 6, 8]\n",
            "Output order list:            [2, 3, 5, 6, 8]\n"
          ]
        }
      ]
    },
    {
      "cell_type": "code",
      "source": [
        "# Bubble sort and swapped flag 2\n",
        "\n",
        "unorder_list = [8, 2, 3, 5, 6]\n",
        "order_list = bubble_sort(unorder_list)\n",
        "print(f\"Output order list: {' '*11}{order_list}\")"
      ],
      "metadata": {
        "id": "LUzTJgI1KAMt",
        "colab": {
          "base_uri": "https://localhost:8080/"
        },
        "outputId": "3e86d3fa-20eb-45ab-a88c-100b637aed75"
      },
      "execution_count": 12,
      "outputs": [
        {
          "output_type": "stream",
          "name": "stdout",
          "text": [
            "Debug log: Length of the input list is: 5\n",
            "Debug log: Pass 0:            [8, 2, 3, 5, 6]\n",
            "Debug log: Pass 1:            [2, 3, 5, 6, 8]\n",
            "Output order list:            [2, 3, 5, 6, 8]\n"
          ]
        }
      ]
    },
    {
      "cell_type": "markdown",
      "source": [
        "# bar chart bubble sort"
      ],
      "metadata": {
        "id": "oHCLkX5soZoB"
      }
    },
    {
      "cell_type": "code",
      "source": [
        "import matplotlib.pyplot as plt\n",
        "import numpy as np\n",
        "\n",
        "def plot_bubble_sort(array, steps, color=\"deepskyblue\"):\n",
        "    \"\"\"\n",
        "    Visualize bubble sort process step by step using matplotlib.\n",
        "    \"\"\"\n",
        "    fig, axes = plt.subplots(len(steps), 1, figsize=(6, int(len(steps)*1.6)))\n",
        "\n",
        "    for i, step in enumerate(steps):\n",
        "        axes[i].bar(range(len(array)), step, color=color, alpha=0.85)\n",
        "        axes[i].set_title(f\"Outer loop pass: {i}\", color='white')\n",
        "        #axes[i].set_xticks(range(len(array)))\n",
        "        axes[i].set_xticks([]) # Remove x-axis ticks\n",
        "        axes[i].set_yticks(range(max(array) + 2))\n",
        "        #\n",
        "        axes[i].set_facecolor(\"#303030\") #set background color to black\n",
        "        axes[i].tick_params(axis='x', colors='white')  # Set x-axis tick color to white\n",
        "        axes[i].tick_params(axis='y', colors='white')  # Set y-axis tick color to white\n",
        "        axes[i].spines['bottom'].set_color('white')\n",
        "        axes[i].spines['top'].set_color('white')\n",
        "        axes[i].spines['right'].set_color('white')\n",
        "        axes[i].spines['left'].set_color('white')\n",
        "        #\n",
        "        for j, value in enumerate(step):\n",
        "            axes[i].text(j, value, str(value), ha='center', va='bottom', color='white')\n",
        "        #\n",
        "    fig.patch.set_facecolor('#202020') # Set the figure's background color to black\n",
        "    plt.tight_layout()\n",
        "    plt.show()\n",
        "\n",
        "# prompt GPT:\n",
        "# Write a simple Bubble Sort function in Python with inline documentation\n",
        "\n",
        "def bubble_sort_2(input_list):\n",
        "  \"\"\"Sorts a list using the bubble sort algorithm.\n",
        "\n",
        "  Args:\n",
        "      input_list: The list to be sorted.\n",
        "\n",
        "  Returns:\n",
        "      list: The sorted list.\n",
        "  \"\"\"\n",
        "  n = len(input_list)  # Get the length of the list (array)\n",
        "\n",
        "  # debug statement\n",
        "  #print(f\"Debug log: Length of the input list is: {n}\")\n",
        "\n",
        "  outer_steps = []\n",
        "  # Traverse through all element in the list\n",
        "  # outer loop\n",
        "  for i in range(n):\n",
        "\n",
        "    # Flag to optimize - if no swaps occur, the list is sorted\n",
        "    swapped = False\n",
        "\n",
        "    # debug statement\n",
        "    #print(f\"Debug log: Pass {i}: {' '*11}{input_list}\")\n",
        "    outer_steps.append(input_list.copy())\n",
        "\n",
        "    # inner loop\n",
        "    for j in range(0, n - i - 1):\n",
        "      if input_list[j] > input_list[j + 1]:    # check for swapping\n",
        "        input_list[j], input_list[j + 1] = input_list[j + 1], input_list[j]\n",
        "\n",
        "        # debug statement\n",
        "        #print(f\"Debug log: Inner loop pass {j}: {input_list}\")\n",
        "        swapped = True\n",
        "    if not swapped:\n",
        "      break  # If no two elements were swapped in inner loop, the array is sorted\n",
        "  return outer_steps\n",
        "\n",
        "# Initial array\n",
        "unorder_list = [5, 3, 8, 6, 2]\n",
        "\n",
        "# Get the steps of bubble sort\n",
        "steps = bubble_sort_2(unorder_list.copy())\n",
        "\n",
        "# Plot the steps\n",
        "plot_bubble_sort(unorder_list, steps, color=\"#1DA1F2\")\n",
        "\n",
        "#\n"
      ],
      "metadata": {
        "colab": {
          "base_uri": "https://localhost:8080/",
          "height": 807
        },
        "id": "sVPXf-sgC45W",
        "outputId": "c8b38e01-2d6f-4761-d323-e873c46e5a3b"
      },
      "execution_count": 15,
      "outputs": [
        {
          "output_type": "display_data",
          "data": {
            "text/plain": [
              "<Figure size 600x800 with 5 Axes>"
            ],
            "image/png": "[encoded data removed]"
          },
          "metadata": {}
        }
      ]
    },
    {
      "cell_type": "code",
      "source": [
        "print (steps)\n"
      ],
      "metadata": {
        "colab": {
          "base_uri": "https://localhost:8080/"
        },
        "id": "Qpg04OTzGcwC",
        "outputId": "4744acbb-7bfa-4c79-8961-7a76f983fe87"
      },
      "execution_count": null,
      "outputs": [
        {
          "output_type": "stream",
          "name": "stdout",
          "text": [
            "[[5, 3, 8, 6, 2], [3, 5, 6, 2, 8], [3, 5, 2, 6, 8], [3, 2, 5, 6, 8], [2, 3, 5, 6, 8]]\n"
          ]
        }
      ]
    },
    {
      "cell_type": "code",
      "source": [
        "# prompt: draw a chart for 1000 value of random number that is ordered\n",
        "\n",
        "import matplotlib.pyplot as plt\n",
        "import numpy as np\n",
        "\n",
        "# Generate 1000 random numbers and sort them\n",
        "random_numbers = np.random.rand(1000)\n",
        "sorted_numbers = np.sort(random_numbers)\n",
        "\n",
        "# Create the plot\n",
        "plt.figure(figsize=(10, 6))\n",
        "plt.bar(range(len(sorted_numbers)), sorted_numbers)\n",
        "plt.title(\"Sorted Random Numbers (1000 values)\")\n",
        "plt.xlabel(\"Index\")\n",
        "plt.ylabel(\"Value\")\n",
        "plt.grid(True)\n",
        "plt.show()"
      ],
      "metadata": {
        "colab": {
          "base_uri": "https://localhost:8080/",
          "height": 564
        },
        "id": "y0YhsuNWWsHN",
        "outputId": "6767309e-e611-4e53-8636-c0d3d58ab8f8"
      },
      "execution_count": null,
      "outputs": [
        {
          "output_type": "display_data",
          "data": {
            "text/plain": [
              "<Figure size 1000x600 with 1 Axes>"
            ],
            "image/png": "[encoded data removed]"
          },
          "metadata": {}
        }
      ]
    },
    {
      "cell_type": "code",
      "source": [
        "# prompt: draw a simple bar chart with just value no categories\n",
        "\n",
        "import matplotlib.pyplot as plt\n",
        "import numpy as np\n",
        "\n",
        "# Generate 1000 random numbers and sort them\n",
        "random_numbers = np.random.rand(1000)\n",
        "sorted_numbers = np.sort(random_numbers)\n",
        "\n",
        "# Create the plot\n",
        "plt.figure(figsize=(10, 6))\n",
        "plt.bar(range(len(sorted_numbers)), sorted_numbers)\n",
        "plt.title(\"Sorted Random Numbers (1000 values)\")\n",
        "plt.xlabel(\"Index\")\n",
        "plt.ylabel(\"Value\")\n",
        "plt.grid(True)\n",
        "plt.show()"
      ],
      "metadata": {
        "colab": {
          "base_uri": "https://localhost:8080/",
          "height": 564
        },
        "id": "bQTe43BRXO0Q",
        "outputId": "b4783c4c-49aa-45f4-ea16-939a9004d590"
      },
      "execution_count": null,
      "outputs": [
        {
          "output_type": "display_data",
          "data": {
            "text/plain": [
              "<Figure size 800x600 with 1 Axes>"
            ],
            "image/png": "[encoded data removed]"
          },
          "metadata": {}
        }
      ]
    },
    {
      "cell_type": "code",
      "source": [],
      "metadata": {
        "id": "ku6TuLVqXO3b"
      },
      "execution_count": null,
      "outputs": []
    },
    {
      "cell_type": "code",
      "source": [
        "# prompt: don't display the x value\n",
        "\n",
        "def plot_bubble_sort(array, steps, color=\"deepskyblue\"):\n",
        "    \"\"\"\n",
        "    Visualize bubble sort process step by step using matplotlib.\n",
        "    \"\"\"\n",
        "    fig, axes = plt.subplots(len(steps), 1, figsize=(6, int(len(steps)*2)))\n",
        "\n",
        "    for i, step in enumerate(steps):\n",
        "        axes[i].bar(range(len(array)), step, color=color, alpha=0.85)\n",
        "        axes[i].set_title(f\"Pass: {i}\", color='white')\n",
        "        axes[i].set_xticks([]) # Remove x-axis ticks\n",
        "        axes[i].set_yticks(range(max(array) + 1))\n",
        "        #\n",
        "        axes[i].set_facecolor(\"#303030\") #set background color to black\n",
        "        axes[i].tick_params(axis='y', colors='white')  # Set y-axis tick color to white\n",
        "        axes[i].spines['bottom'].set_color('white')\n",
        "        axes[i].spines['top'].set_color('white')\n",
        "        axes[i].spines['right'].set_color('white')\n",
        "        axes[i].spines['left'].set_color('white')\n",
        "        #\n",
        "        for j, value in enumerate(step):\n",
        "            axes[i].text(j, value, str(value), ha='center', va='bottom', color='white')\n",
        "        #\n",
        "    fig.patch.set_facecolor('#202020') # Set the figure's background color to black\n",
        "    plt.tight_layout()\n",
        "    plt.show()"
      ],
      "metadata": {
        "id": "QfVoYwg5C5DP"
      },
      "execution_count": null,
      "outputs": []
    },
    {
      "cell_type": "code",
      "source": [],
      "metadata": {
        "id": "h26gTaDpC5F1"
      },
      "execution_count": null,
      "outputs": []
    },
    {
      "cell_type": "code",
      "source": [
        "# Recreating the flowchart for Selection Sort with corrected structure\n",
        "from graphviz import Digraph\n",
        "\n",
        "# Create a directed graph for Selection Sort\n",
        "dot = Digraph(comment=\"Flowchart for Selection Sort\", format=\"png\")\n",
        "\n",
        "# Add nodes\n",
        "dot.node(\"Start\", \"Start\", shape=\"circle\", style=\"filled\", fillcolor=\"lightblue\")\n",
        "dot.node(\"Outer Loop\", \"Outer Loop: i = 0 to n-2\", shape=\"box\")\n",
        "dot.node(\"Set Min\", \"Set min_idx = i\", shape=\"box\")\n",
        "dot.node(\"Inner Loop\", \"Inner Loop: j = i+1 to n-1\", shape=\"box\")\n",
        "dot.node(\"Compare\", \"Compare arr[j] < arr[min_idx]?\", shape=\"diamond\")\n",
        "dot.node(\"Update Min\", \"Update min_idx = j\", shape=\"box\")\n",
        "dot.node(\"Swap\", \"Swap arr[i] and arr[min_idx]\", shape=\"box\")\n",
        "dot.node(\"Next i\", \"Increment i\", shape=\"box\")\n",
        "dot.node(\"End\", \"End\", shape=\"circle\", style=\"filled\", fillcolor=\"lightgreen\")\n",
        "\n",
        "# Add edges to show flow\n",
        "dot.edge(\"Start\", \"Outer Loop\")\n",
        "dot.edge(\"Outer Loop\", \"Set Min\")\n",
        "dot.edge(\"Set Min\", \"Inner Loop\")\n",
        "dot.edge(\"Inner Loop\", \"Compare\")\n",
        "dot.edge(\"Compare\", \"Update Min\", label=\"Yes\")\n",
        "dot.edge(\"Compare\", \"Inner Loop\", label=\"No\")\n",
        "dot.edge(\"Update Min\", \"Inner Loop\")\n",
        "dot.edge(\"Inner Loop\", \"Swap\", constraint=\"false\")\n",
        "dot.edge(\"Swap\", \"Next i\")\n",
        "dot.edge(\"Next i\", \"Outer Loop\", label=\"i < n-2\", constraint=\"false\")\n",
        "dot.edge(\"Outer Loop\", \"End\", label=\"i = n-2\")\n",
        "\n",
        "# Render the flowchart\n",
        "file_path = dot.render(\"corrected_selection_sort_flowchart\", cleanup=True)\n",
        "\n",
        "# Display the output file path\n",
        "file_path\n"
      ],
      "metadata": {
        "colab": {
          "base_uri": "https://localhost:8080/",
          "height": 35
        },
        "id": "HAtihmkpjLFX",
        "outputId": "0c152fc1-1440-4564-b28d-7cf968e85f3d"
      },
      "execution_count": null,
      "outputs": [
        {
          "output_type": "execute_result",
          "data": {
            "text/plain": [
              "'corrected_selection_sort_flowchart.png'"
            ],
            "application/vnd.google.colaboratory.intrinsic+json": {
              "type": "string"
            }
          },
          "metadata": {},
          "execution_count": 56
        }
      ]
    },
    {
      "cell_type": "code",
      "source": [
        "display(dot)"
      ],
      "metadata": {
        "colab": {
          "base_uri": "https://localhost:8080/",
          "height": 665
        },
        "id": "rN_rAxWtNf9M",
        "outputId": "4a6a8f0c-8ee1-4a8d-dbdf-a91981d36a03"
      },
      "execution_count": null,
      "outputs": [
        {
          "output_type": "display_data",
          "data": {
            "image/svg+xml": "<?xml version=\"1.0\" encoding=\"UTF-8\" standalone=\"no\"?>\n<!DOCTYPE svg PUBLIC \"-//W3C//DTD SVG 1.1//EN\"\n \"http://www.w3.org/Graphics/SVG/1.1/DTD/svg11.dtd\">\n<!-- Generated by graphviz version 2.43.0 (0)\n -->\n<!-- Title: %3 Pages: 1 -->\n<svg width=\"534pt\" height=\"483pt\"\n viewBox=\"0.00 0.00 534.14 482.99\" xmlns=\"http://www.w3.org/2000/svg\" xmlns:xlink=\"http://www.w3.org/1999/xlink\">\n<g id=\"graph0\" class=\"graph\" transform=\"scale(1 1) rotate(0) translate(4 478.99)\">\n<title>%3</title>\n<polygon fill=\"white\" stroke=\"transparent\" points=\"-4,4 -4,-478.99 530.14,-478.99 530.14,4 -4,4\"/>\n<!-- Start -->\n<g id=\"node1\" class=\"node\">\n<title>Start</title>\n<ellipse fill=\"lightblue\" stroke=\"black\" cx=\"268.64\" cy=\"-447.69\" rx=\"27.1\" ry=\"27.1\"/>\n<text text-anchor=\"middle\" x=\"268.64\" y=\"-443.99\" font-family=\"Times,serif\" font-size=\"14.00\">Start</text>\n</g>\n<!-- Outer Loop -->\n<g id=\"node2\" class=\"node\">\n<title>Outer Loop</title>\n<polygon fill=\"none\" stroke=\"black\" points=\"343.14,-383.4 194.14,-383.4 194.14,-347.4 343.14,-347.4 343.14,-383.4\"/>\n<text text-anchor=\"middle\" x=\"268.64\" y=\"-361.7\" font-family=\"Times,serif\" font-size=\"14.00\">Outer Loop: i = 0 to n&#45;2</text>\n</g>\n<!-- Start&#45;&gt;Outer Loop -->\n<g id=\"edge1\" class=\"edge\">\n<title>Start&#45;&gt;Outer Loop</title>\n<path fill=\"none\" stroke=\"black\" d=\"M268.64,-419.96C268.64,-411.49 268.64,-402.12 268.64,-393.62\"/>\n<polygon fill=\"black\" stroke=\"black\" points=\"272.14,-393.44 268.64,-383.44 265.14,-393.44 272.14,-393.44\"/>\n</g>\n<!-- Set Min -->\n<g id=\"node3\" class=\"node\">\n<title>Set Min</title>\n<polygon fill=\"none\" stroke=\"black\" points=\"259.14,-289.7 156.14,-289.7 156.14,-253.7 259.14,-253.7 259.14,-289.7\"/>\n<text text-anchor=\"middle\" x=\"207.64\" y=\"-268\" font-family=\"Times,serif\" font-size=\"14.00\">Set min_idx = i</text>\n</g>\n<!-- Outer Loop&#45;&gt;Set Min -->\n<g id=\"edge2\" class=\"edge\">\n<title>Outer Loop&#45;&gt;Set Min</title>\n<path fill=\"none\" stroke=\"black\" d=\"M257.17,-347.15C248.05,-333.44 235.16,-314.06 224.81,-298.51\"/>\n<polygon fill=\"black\" stroke=\"black\" points=\"227.51,-296.26 219.06,-289.87 221.69,-300.13 227.51,-296.26\"/>\n</g>\n<!-- End -->\n<g id=\"node9\" class=\"node\">\n<title>End</title>\n<ellipse fill=\"lightgreen\" stroke=\"black\" cx=\"301.64\" cy=\"-271.7\" rx=\"24.9\" ry=\"24.9\"/>\n<text text-anchor=\"middle\" x=\"301.64\" y=\"-268\" font-family=\"Times,serif\" font-size=\"14.00\">End</text>\n</g>\n<!-- Outer Loop&#45;&gt;End -->\n<g id=\"edge11\" class=\"edge\">\n<title>Outer Loop&#45;&gt;End</title>\n<path fill=\"none\" stroke=\"black\" d=\"M274.85,-347.15C279.16,-335.18 285.02,-318.87 290.17,-304.58\"/>\n<polygon fill=\"black\" stroke=\"black\" points=\"293.49,-305.67 293.59,-295.07 286.91,-303.3 293.49,-305.67\"/>\n<text text-anchor=\"middle\" x=\"305.64\" y=\"-318.2\" font-family=\"Times,serif\" font-size=\"14.00\">i = n&#45;2</text>\n</g>\n<!-- Inner Loop -->\n<g id=\"node4\" class=\"node\">\n<title>Inner Loop</title>\n<polygon fill=\"none\" stroke=\"black\" points=\"287.14,-210 128.14,-210 128.14,-174 287.14,-174 287.14,-210\"/>\n<text text-anchor=\"middle\" x=\"207.64\" y=\"-188.3\" font-family=\"Times,serif\" font-size=\"14.00\">Inner Loop: j = i+1 to n&#45;1</text>\n</g>\n<!-- Set Min&#45;&gt;Inner Loop -->\n<g id=\"edge3\" class=\"edge\">\n<title>Set Min&#45;&gt;Inner Loop</title>\n<path fill=\"none\" stroke=\"black\" d=\"M207.64,-253.45C207.64,-243.7 207.64,-231.27 207.64,-220.23\"/>\n<polygon fill=\"black\" stroke=\"black\" points=\"211.14,-220.2 207.64,-210.2 204.14,-220.2 211.14,-220.2\"/>\n</g>\n<!-- Compare -->\n<g id=\"node5\" class=\"node\">\n<title>Compare</title>\n<polygon fill=\"none\" stroke=\"black\" points=\"174.64,-123 -0.14,-105 174.64,-87 349.42,-105 174.64,-123\"/>\n<text text-anchor=\"middle\" x=\"174.64\" y=\"-101.3\" font-family=\"Times,serif\" font-size=\"14.00\">Compare arr[j] &lt; arr[min_idx]?</text>\n</g>\n<!-- Inner Loop&#45;&gt;Compare -->\n<g id=\"edge4\" class=\"edge\">\n<title>Inner Loop&#45;&gt;Compare</title>\n<path fill=\"none\" stroke=\"black\" d=\"M197.38,-173.93C194.29,-168.34 191.08,-162.02 188.64,-156 185.66,-148.65 183.07,-140.44 180.96,-132.84\"/>\n<polygon fill=\"black\" stroke=\"black\" points=\"184.3,-131.77 178.39,-122.98 177.53,-133.54 184.3,-131.77\"/>\n</g>\n<!-- Swap -->\n<g id=\"node7\" class=\"node\">\n<title>Swap</title>\n<polygon fill=\"none\" stroke=\"black\" points=\"526.14,-465.69 351.14,-465.69 351.14,-429.69 526.14,-429.69 526.14,-465.69\"/>\n<text text-anchor=\"middle\" x=\"438.64\" y=\"-443.99\" font-family=\"Times,serif\" font-size=\"14.00\">Swap arr[i] and arr[min_idx]</text>\n</g>\n<!-- Inner Loop&#45;&gt;Swap -->\n<g id=\"edge8\" class=\"edge\">\n<title>Inner Loop&#45;&gt;Swap</title>\n<path fill=\"none\" stroke=\"black\" d=\"M274.84,-210.01C296.48,-218.23 319.11,-230.1 335.64,-247 381.23,-293.61 357.36,-326.75 389.64,-383.4 397.33,-396.9 407.66,-410.69 416.85,-421.93\"/>\n<polygon fill=\"black\" stroke=\"black\" points=\"414.18,-424.2 423.28,-429.63 419.55,-419.71 414.18,-424.2\"/>\n</g>\n<!-- Compare&#45;&gt;Inner Loop -->\n<g id=\"edge6\" class=\"edge\">\n<title>Compare&#45;&gt;Inner Loop</title>\n<path fill=\"none\" stroke=\"black\" d=\"M181.08,-122.6C185.69,-134.47 192,-150.72 197.31,-164.39\"/>\n<polygon fill=\"black\" stroke=\"black\" points=\"194.08,-165.74 200.96,-173.8 200.61,-163.21 194.08,-165.74\"/>\n<text text-anchor=\"middle\" x=\"202.14\" y=\"-144.8\" font-family=\"Times,serif\" font-size=\"14.00\">No</text>\n</g>\n<!-- Update Min -->\n<g id=\"node6\" class=\"node\">\n<title>Update Min</title>\n<polygon fill=\"none\" stroke=\"black\" points=\"339.14,-36 214.14,-36 214.14,0 339.14,0 339.14,-36\"/>\n<text text-anchor=\"middle\" x=\"276.64\" y=\"-14.3\" font-family=\"Times,serif\" font-size=\"14.00\">Update min_idx = j</text>\n</g>\n<!-- Compare&#45;&gt;Update Min -->\n<g id=\"edge5\" class=\"edge\">\n<title>Compare&#45;&gt;Update Min</title>\n<path fill=\"none\" stroke=\"black\" d=\"M192.88,-88.8C208.28,-75.97 230.6,-57.37 248.33,-42.59\"/>\n<polygon fill=\"black\" stroke=\"black\" points=\"250.67,-45.2 256.11,-36.11 246.19,-39.82 250.67,-45.2\"/>\n<text text-anchor=\"middle\" x=\"243.14\" y=\"-57.8\" font-family=\"Times,serif\" font-size=\"14.00\">Yes</text>\n</g>\n<!-- Update Min&#45;&gt;Inner Loop -->\n<g id=\"edge7\" class=\"edge\">\n<title>Update Min&#45;&gt;Inner Loop</title>\n<path fill=\"none\" stroke=\"black\" d=\"M306.76,-36.1C337.99,-56.11 379.55,-90.66 358.64,-123 344.38,-145.06 321.06,-160.04 296.97,-170.18\"/>\n<polygon fill=\"black\" stroke=\"black\" points=\"295.38,-167.04 287.35,-173.96 297.94,-173.55 295.38,-167.04\"/>\n</g>\n<!-- Next i -->\n<g id=\"node8\" class=\"node\">\n<title>Next i</title>\n<polygon fill=\"none\" stroke=\"black\" points=\"478.64,-383.4 398.64,-383.4 398.64,-347.4 478.64,-347.4 478.64,-383.4\"/>\n<text text-anchor=\"middle\" x=\"438.64\" y=\"-361.7\" font-family=\"Times,serif\" font-size=\"14.00\">Increment i</text>\n</g>\n<!-- Swap&#45;&gt;Next i -->\n<g id=\"edge9\" class=\"edge\">\n<title>Swap&#45;&gt;Next i</title>\n<path fill=\"none\" stroke=\"black\" d=\"M438.64,-429.66C438.64,-419.23 438.64,-405.64 438.64,-393.73\"/>\n<polygon fill=\"black\" stroke=\"black\" points=\"442.14,-393.4 438.64,-383.4 435.14,-393.4 442.14,-393.4\"/>\n</g>\n<!-- Next i&#45;&gt;Outer Loop -->\n<g id=\"edge10\" class=\"edge\">\n<title>Next i&#45;&gt;Outer Loop</title>\n<path fill=\"none\" stroke=\"black\" d=\"M398.22,-365.4C384.69,-365.4 369.07,-365.4 353.45,-365.4\"/>\n<polygon fill=\"black\" stroke=\"black\" points=\"353.2,-361.9 343.2,-365.4 353.2,-368.9 353.2,-361.9\"/>\n<text text-anchor=\"middle\" x=\"370.89\" y=\"-372.2\" font-family=\"Times,serif\" font-size=\"14.00\">i &lt; n&#45;2</text>\n</g>\n</g>\n</svg>\n",
            "text/plain": [
              "<graphviz.graphs.Digraph at 0x7e673afe1e10>"
            ]
          },
          "metadata": {}
        }
      ]
    },
    {
      "cell_type": "markdown",
      "source": [
        "# Selection sort"
      ],
      "metadata": {
        "id": "wsSbVZvXokXf"
      }
    },
    {
      "cell_type": "code",
      "source": [
        "# prompt GPT:\n",
        "# Write a Python function with documentation for the selection sort\n",
        "\n",
        "def selection_sort(input_list, is_debug=True):\n",
        "  \"\"\"\n",
        "  Sorts a list using the selection sort algorithm.\n",
        "\n",
        "  Args:\n",
        "      input_list: The list to be sorted.\n",
        "\n",
        "  Returns:\n",
        "      The sorted list.\n",
        "  \"\"\"\n",
        "  n = len(input_list)\n",
        "  for i in range(n):\n",
        "      # Find the minimum element in the unsorted part of the array\n",
        "\n",
        "      # Debug log\n",
        "      if (is_debug):\n",
        "        print(f\"Debug log: Pass {i}: {' '*26}{input_list}\")\n",
        "\n",
        "      min_idx = i\n",
        "      for j in range(i + 1, n):\n",
        "        if input_list[j] < input_list[min_idx]:\n",
        "          min_idx = j\n",
        "\n",
        "          # Debug log\n",
        "          if (is_debug):\n",
        "            print(f\"Debug log: Inner loop pass {j}: Smaller found: {input_list[min_idx]}\")\n",
        "\n",
        "      # Swap the found minimum element with the first element of the unsorted part\n",
        "      input_list[i], input_list[min_idx] = input_list[min_idx], input_list[i]\n",
        "  return input_list"
      ],
      "metadata": {
        "id": "DqG2cJ9gNgBh"
      },
      "execution_count": 16,
      "outputs": []
    },
    {
      "cell_type": "code",
      "source": [
        "# Testing selection sort\n",
        "\n",
        "unorder_list = [5, 3, 8, 6, 2]\n",
        "sorted_list = selection_sort(unorder_list)\n",
        "print(f'Output ordered list: {\" \"*24}{sorted_list}')"
      ],
      "metadata": {
        "colab": {
          "base_uri": "https://localhost:8080/"
        },
        "id": "xSbM4xAcNgD2",
        "outputId": "3a81cc42-e0e5-4095-8e67-a82f2dbba06d"
      },
      "execution_count": 17,
      "outputs": [
        {
          "output_type": "stream",
          "name": "stdout",
          "text": [
            "Debug log: Pass 0:                           [5, 3, 8, 6, 2]\n",
            "Debug log: Inner loop pass 1: Smaller found: 3\n",
            "Debug log: Inner loop pass 4: Smaller found: 2\n",
            "Debug log: Pass 1:                           [2, 3, 8, 6, 5]\n",
            "Debug log: Pass 2:                           [2, 3, 8, 6, 5]\n",
            "Debug log: Inner loop pass 3: Smaller found: 6\n",
            "Debug log: Inner loop pass 4: Smaller found: 5\n",
            "Debug log: Pass 3:                           [2, 3, 5, 6, 8]\n",
            "Debug log: Pass 4:                           [2, 3, 5, 6, 8]\n",
            "Output ordered list:                         [2, 3, 5, 6, 8]\n"
          ]
        }
      ]
    },
    {
      "cell_type": "code",
      "source": [
        "# Testing selection sort, use case 2\n",
        "\n",
        "unorder_list = [8, 6, 3, 2, 5]\n",
        "sorted_list = selection_sort(unorder_list)\n",
        "print(f'Output ordered list: {\" \"*24}{sorted_list}')"
      ],
      "metadata": {
        "colab": {
          "base_uri": "https://localhost:8080/"
        },
        "id": "liMHZzu_NgF7",
        "outputId": "7d66d860-5679-47bf-b863-5e4854d3c1fe"
      },
      "execution_count": 18,
      "outputs": [
        {
          "output_type": "stream",
          "name": "stdout",
          "text": [
            "Debug log: Pass 0:                           [8, 6, 3, 2, 5]\n",
            "Debug log: Inner loop pass 1: Smaller found: 6\n",
            "Debug log: Inner loop pass 2: Smaller found: 3\n",
            "Debug log: Inner loop pass 3: Smaller found: 2\n",
            "Debug log: Pass 1:                           [2, 6, 3, 8, 5]\n",
            "Debug log: Inner loop pass 2: Smaller found: 3\n",
            "Debug log: Pass 2:                           [2, 3, 6, 8, 5]\n",
            "Debug log: Inner loop pass 4: Smaller found: 5\n",
            "Debug log: Pass 3:                           [2, 3, 5, 8, 6]\n",
            "Debug log: Inner loop pass 4: Smaller found: 6\n",
            "Debug log: Pass 4:                           [2, 3, 5, 6, 8]\n",
            "Output ordered list:                         [2, 3, 5, 6, 8]\n"
          ]
        }
      ]
    },
    {
      "cell_type": "code",
      "source": [],
      "metadata": {
        "id": "UIrMkotSop2E"
      },
      "execution_count": null,
      "outputs": []
    },
    {
      "cell_type": "markdown",
      "source": [
        "# Insertion sort"
      ],
      "metadata": {
        "id": "2eIbd3H3oqLx"
      }
    },
    {
      "cell_type": "code",
      "source": [
        "# prompt: write a function with documentation for the insertion sort\n",
        "\n",
        "def insertion_sort(input_list, is_debug=True):\n",
        "  \"\"\"Sorts a list using the insertion sort algorithm.\n",
        "\n",
        "  Args:\n",
        "    arr: The list to be sorted.\n",
        "\n",
        "  Returns:\n",
        "    The sorted list.\n",
        "  \"\"\"\n",
        "  for i in range(1, len(input_list)):\n",
        "\n",
        "    # Debug log outer loop\n",
        "    if (is_debug):\n",
        "      print(f'Debug log: Pass {i}: {\" \"*11}{input_list}')\n",
        "\n",
        "    key = input_list[i]\n",
        "    j = i - 1\n",
        "\n",
        "    while j >= 0 and key < input_list[j]:\n",
        "      input_list[j + 1] = input_list[j]\n",
        "      j -= 1\n",
        "      # Debug log\n",
        "      if (is_debug):\n",
        "        print(f\"Debug log: Inner loop pass {j}: {input_list}\")\n",
        "\n",
        "    input_list[j + 1] = key\n",
        "\n",
        "  return input_list"
      ],
      "metadata": {
        "id": "KC-O3dbeNgKG"
      },
      "execution_count": 19,
      "outputs": []
    },
    {
      "cell_type": "code",
      "source": [
        "# Testing insertion sort\n",
        "\n",
        "unorder_list = [5, 3, 8, 6, 2]\n",
        "sorted_list = insertion_sort(unorder_list)\n",
        "print(f'Output ordered list: {\" \"*9}{sorted_list}')"
      ],
      "metadata": {
        "colab": {
          "base_uri": "https://localhost:8080/"
        },
        "id": "nvNlNHiXNgNr",
        "outputId": "8faf633c-5c4f-4e71-ff9a-8f8a54ef2668"
      },
      "execution_count": 20,
      "outputs": [
        {
          "output_type": "stream",
          "name": "stdout",
          "text": [
            "Debug log: Pass 1:            [5, 3, 8, 6, 2]\n",
            "Debug log: Inner loop pass -1: [5, 5, 8, 6, 2]\n",
            "Debug log: Pass 2:            [3, 5, 8, 6, 2]\n",
            "Debug log: Pass 3:            [3, 5, 8, 6, 2]\n",
            "Debug log: Inner loop pass 1: [3, 5, 8, 8, 2]\n",
            "Debug log: Pass 4:            [3, 5, 6, 8, 2]\n",
            "Debug log: Inner loop pass 2: [3, 5, 6, 8, 8]\n",
            "Debug log: Inner loop pass 1: [3, 5, 6, 6, 8]\n",
            "Debug log: Inner loop pass 0: [3, 5, 5, 6, 8]\n",
            "Debug log: Inner loop pass -1: [3, 3, 5, 6, 8]\n",
            "Output ordered list:          [2, 3, 5, 6, 8]\n"
          ]
        }
      ]
    },
    {
      "cell_type": "code",
      "source": [
        "# Testing insertion sort, use case 2\n",
        "\n",
        "unorder_list = [8, 6, 3, 2, 5]\n",
        "sorted_list = insertion_sort(unorder_list)\n",
        "print(f'Output ordered list: {\" \"*9}{sorted_list}')"
      ],
      "metadata": {
        "colab": {
          "base_uri": "https://localhost:8080/"
        },
        "id": "QDgEy4x1NgQk",
        "outputId": "9fbc124c-d075-45a9-93c6-4e106dac999d"
      },
      "execution_count": 21,
      "outputs": [
        {
          "output_type": "stream",
          "name": "stdout",
          "text": [
            "Debug log: Pass 1:            [8, 6, 3, 2, 5]\n",
            "Debug log: Inner loop pass -1: [8, 8, 3, 2, 5]\n",
            "Debug log: Pass 2:            [6, 8, 3, 2, 5]\n",
            "Debug log: Inner loop pass 0: [6, 8, 8, 2, 5]\n",
            "Debug log: Inner loop pass -1: [6, 6, 8, 2, 5]\n",
            "Debug log: Pass 3:            [3, 6, 8, 2, 5]\n",
            "Debug log: Inner loop pass 1: [3, 6, 8, 8, 5]\n",
            "Debug log: Inner loop pass 0: [3, 6, 6, 8, 5]\n",
            "Debug log: Inner loop pass -1: [3, 3, 6, 8, 5]\n",
            "Debug log: Pass 4:            [2, 3, 6, 8, 5]\n",
            "Debug log: Inner loop pass 2: [2, 3, 6, 8, 8]\n",
            "Debug log: Inner loop pass 1: [2, 3, 6, 6, 8]\n",
            "Output ordered list:          [2, 3, 5, 6, 8]\n"
          ]
        }
      ]
    },
    {
      "cell_type": "markdown",
      "source": [
        "### version 2"
      ],
      "metadata": {
        "id": "3g2cIkk5xj3Q"
      }
    },
    {
      "cell_type": "code",
      "source": [
        "# prompt GPT4:\n",
        "# Write a function with documentation for the insertion sort\n",
        "\n",
        "def insertion_sort(input_list, is_debug=False):\n",
        "    \"\"\"\n",
        "    Sorts an array using the insertion sort algorithm.\n",
        "\n",
        "    Parameters:\n",
        "    arr (list): The list of elements to be sorted.\n",
        "\n",
        "    Returns:\n",
        "    list: The same list with elements sorted in ascending order.\n",
        "\n",
        "    Time Complexity:\n",
        "    - Best Case: O(n) (when the array is already sorted)\n",
        "    - Worst Case: O(n^2) (when the array is sorted in reverse order)\n",
        "    \"\"\"\n",
        "    # Debug log\n",
        "    if (is_debug):\n",
        "      print(f\"\\nDebug log: Input list: {' '*22}{input_list}\")\n",
        "\n",
        "    n = len(input_list)\n",
        "    for i in range(1, len(input_list)):\n",
        "        key = input_list[i]\n",
        "        j = i - 1\n",
        "\n",
        "        # Debug log\n",
        "        if (is_debug):\n",
        "          print(f\"\\nDebug log: Outer loop at index {i}: {' '*11}{key}\")\n",
        "        # Check greater than key to one position ahead\n",
        "        while j >= 0 and input_list[j] > key:\n",
        "\n",
        "            # Debug log\n",
        "            if (is_debug):\n",
        "              print(f\"Debug log: Inner loop at index {j}: {' '*11}{input_list[j]} \")\n",
        "\n",
        "            input_list[j + 1] = input_list[j]\n",
        "            j -= 1\n",
        "\n",
        "        input_list[j + 1] = key\n",
        "\n",
        "        # Debug log\n",
        "        if (is_debug):\n",
        "          print(f\"Debug log: Outer loop inserted {key} at index {j + 1}: {input_list}\")\n",
        "    return input_list\n"
      ],
      "metadata": {
        "id": "RR0dcmd_xkNI"
      },
      "execution_count": 22,
      "outputs": []
    },
    {
      "cell_type": "code",
      "source": [
        "# Sample run insertion sort\n",
        "\n",
        "unorder_list = [5, 3, 8, 6, 2]\n",
        "sorted_list = insertion_sort(unorder_list, is_debug=True)\n",
        "print(f\"Output ordered list: {' '*24}{sorted_list}\")"
      ],
      "metadata": {
        "colab": {
          "base_uri": "https://localhost:8080/"
        },
        "id": "rz2RIn4AXyRh",
        "outputId": "1b4505ba-0ea7-49c0-cdea-4098cc3e911e"
      },
      "execution_count": 23,
      "outputs": [
        {
          "output_type": "stream",
          "name": "stdout",
          "text": [
            "\n",
            "Debug log: Input list:                       [5, 3, 8, 6, 2]\n",
            "\n",
            "Debug log: Outer loop at index 1:            3\n",
            "Debug log: Inner loop at index 0:            5 \n",
            "Debug log: Outer loop inserted 3 at index 0: [3, 5, 8, 6, 2]\n",
            "\n",
            "Debug log: Outer loop at index 2:            8\n",
            "Debug log: Outer loop inserted 8 at index 2: [3, 5, 8, 6, 2]\n",
            "\n",
            "Debug log: Outer loop at index 3:            6\n",
            "Debug log: Inner loop at index 2:            8 \n",
            "Debug log: Outer loop inserted 6 at index 2: [3, 5, 6, 8, 2]\n",
            "\n",
            "Debug log: Outer loop at index 4:            2\n",
            "Debug log: Inner loop at index 3:            8 \n",
            "Debug log: Inner loop at index 2:            6 \n",
            "Debug log: Inner loop at index 1:            5 \n",
            "Debug log: Inner loop at index 0:            3 \n",
            "Debug log: Outer loop inserted 2 at index 0: [2, 3, 5, 6, 8]\n",
            "Output ordered list:                         [2, 3, 5, 6, 8]\n"
          ]
        }
      ]
    },
    {
      "cell_type": "code",
      "source": [
        "# Sample run insertion sort, case 2\n",
        "\n",
        "unorder_list = ['O', 'S', 'P', 'L', 'O']\n",
        "sorted_list = insertion_sort(unorder_list, is_debug=True)\n",
        "print(f\"Output ordered list: {' '*24}{sorted_list}\")"
      ],
      "metadata": {
        "colab": {
          "base_uri": "https://localhost:8080/"
        },
        "id": "lniec8pcXuds",
        "outputId": "073a2e71-599a-4080-fee7-a794cf621780"
      },
      "execution_count": 24,
      "outputs": [
        {
          "output_type": "stream",
          "name": "stdout",
          "text": [
            "\n",
            "Debug log: Input list:                       ['O', 'S', 'P', 'L', 'O']\n",
            "\n",
            "Debug log: Outer loop at index 1:            S\n",
            "Debug log: Outer loop inserted S at index 1: ['O', 'S', 'P', 'L', 'O']\n",
            "\n",
            "Debug log: Outer loop at index 2:            P\n",
            "Debug log: Inner loop at index 1:            S \n",
            "Debug log: Outer loop inserted P at index 1: ['O', 'P', 'S', 'L', 'O']\n",
            "\n",
            "Debug log: Outer loop at index 3:            L\n",
            "Debug log: Inner loop at index 2:            S \n",
            "Debug log: Inner loop at index 1:            P \n",
            "Debug log: Inner loop at index 0:            O \n",
            "Debug log: Outer loop inserted L at index 0: ['L', 'O', 'P', 'S', 'O']\n",
            "\n",
            "Debug log: Outer loop at index 4:            O\n",
            "Debug log: Inner loop at index 3:            S \n",
            "Debug log: Inner loop at index 2:            P \n",
            "Debug log: Outer loop inserted O at index 2: ['L', 'O', 'O', 'P', 'S']\n",
            "Output ordered list:                         ['L', 'O', 'O', 'P', 'S']\n"
          ]
        }
      ]
    },
    {
      "cell_type": "code",
      "source": [],
      "metadata": {
        "id": "n5MKiEwmxkRT"
      },
      "execution_count": null,
      "outputs": []
    },
    {
      "cell_type": "code",
      "source": [],
      "metadata": {
        "id": "Y1GmpKWZxkWL"
      },
      "execution_count": null,
      "outputs": []
    },
    {
      "cell_type": "markdown",
      "source": [
        "# Merge sort"
      ],
      "metadata": {
        "id": "4Ar3AJazovrK"
      }
    },
    {
      "cell_type": "code",
      "source": [
        "# prompt: write example using merge_sort\n",
        "\n",
        "def merge_sort(arr, is_debug=False):\n",
        "  \"\"\"\n",
        "  Sorts a list using the merge sort algorithm.\n",
        "\n",
        "  This function implements the merge sort algorithm, a divide-and-conquer sorting\n",
        "  algorithm that recursively divides the input list into smaller sublists until\n",
        "  each sublist contains only one element. Then, it repeatedly merges the sublists\n",
        "  in sorted order until a single sorted list is obtained.\n",
        "\n",
        "  Args:\n",
        "    arr: The list to be sorted.\n",
        "\n",
        "  Returns:\n",
        "    A new list containing the sorted elements of the input list.\n",
        "  \"\"\"\n",
        "  if len(arr) <= 1:\n",
        "    return arr\n",
        "\n",
        "  mid = len(arr) // 2\n",
        "  left_half = arr[:mid]\n",
        "  right_half = arr[mid:]\n",
        "\n",
        "  # Debug log\n",
        "  if (is_debug):\n",
        "    print(f\"Debug log: Left half:  {left_half}\")\n",
        "    print(f\"Debug log: Right half: {right_half}\")\n",
        "\n",
        "  left_half = merge_sort(left_half)\n",
        "  right_half = merge_sort(right_half)\n",
        "\n",
        "  ordered_list = _merge(left_half, right_half)\n",
        "  return ordered_list\n",
        "\n",
        "def _merge(left, right):\n",
        "  \"\"\"Merges two sorted lists into a single sorted list.\"\"\"\n",
        "  merged = []\n",
        "  i = j = 0\n",
        "\n",
        "  while i < len(left) and j < len(right):\n",
        "    if left[i] <= right[j]:\n",
        "      merged.append(left[i])\n",
        "      i += 1\n",
        "    else:\n",
        "      merged.append(right[j])\n",
        "      j += 1\n",
        "\n",
        "  merged.extend(left[i:])\n",
        "  merged.extend(right[j:])\n",
        "\n",
        "  return merged"
      ],
      "metadata": {
        "id": "3U8mMwm2cjOC"
      },
      "execution_count": 25,
      "outputs": []
    },
    {
      "cell_type": "code",
      "source": [
        "# Example usage\n",
        "unorder_list = [5, 3, 8, 6, 2]\n",
        "sorted_list = merge_sort(unorder_list, is_debug=True)\n",
        "print(f\"Sorted list: {sorted_list}\")"
      ],
      "metadata": {
        "colab": {
          "base_uri": "https://localhost:8080/"
        },
        "id": "RsRkxmg1b9e_",
        "outputId": "ab63c7df-c11a-4c86-c1d1-172eb67809a6"
      },
      "execution_count": 27,
      "outputs": [
        {
          "output_type": "stream",
          "name": "stdout",
          "text": [
            "Debug log: Left half:  [5, 3]\n",
            "Debug log: Right half: [8, 6, 2]\n",
            "Sorted list: [2, 3, 5, 6, 8]\n"
          ]
        }
      ]
    },
    {
      "cell_type": "markdown",
      "source": [
        "### Version 2"
      ],
      "metadata": {
        "id": "NJL9YT80gZ-8"
      }
    },
    {
      "cell_type": "code",
      "source": [
        "# Prompt GPT-4o\n",
        "# Write a python function with documentation for the merge sort.\n",
        "# (And many more prompt engineering to break it down to simpler functions)\n",
        "\n",
        "def split_list(input_list):\n",
        "    \"\"\"\n",
        "    Splits a list into two halves.\n",
        "\n",
        "    Parameters:\n",
        "    input_list (list): The list to be split.\n",
        "\n",
        "    Returns:\n",
        "    tuple: A tuple containing the two halves.\n",
        "    \"\"\"\n",
        "    # Split the array into two halves\n",
        "    mid = len(input_list) // 2\n",
        "    left_half = input_list[:mid]\n",
        "    right_half = input_list[mid:]\n",
        "\n",
        "    # print debug log\n",
        "    # print(f\"Debug log: Split left half:   {left_half}\")\n",
        "    # print(f\"Debug log: Split right helf:  {right_half}\")\n",
        "\n",
        "    return left_half, right_half\n",
        "#\n",
        "#\n",
        "def merge_list(left, right):\n",
        "    \"\"\"\n",
        "    Merges two sorted arrays into a single sorted array.\n",
        "\n",
        "    Parameters:\n",
        "    left (list): The left sorted half.\n",
        "    right (list): The right sorted half.\n",
        "\n",
        "    Returns:\n",
        "    list: A merged sorted array.\n",
        "    \"\"\"\n",
        "    halves_merged_list = []\n",
        "    i = j = 0\n",
        "\n",
        "    while i < len(left) and j < len(right):\n",
        "        if left[i] <= right[j]:\n",
        "            halves_merged_list.append(left[i])\n",
        "            i += 1\n",
        "        else:\n",
        "            halves_merged_list.append(right[j])\n",
        "            j += 1\n",
        "\n",
        "    # Add any remaining elements from left and right\n",
        "    halves_merged_list.extend(left[i:])\n",
        "    halves_merged_list.extend(right[j:])\n",
        "\n",
        "    # print(f\"Debug log: Merging halves: {' '*3}{halves_merged_list}\")\n",
        "    return halves_merged_list\n",
        "#\n",
        "#\n",
        "def merge_sort(input_list):\n",
        "    \"\"\"\n",
        "    Sorts an array using the merge sort algorithm.\n",
        "\n",
        "    Parameters:\n",
        "    input_list (list): The list of elements to be sorted.\n",
        "\n",
        "    Returns:\n",
        "    list: A new list containing the sorted elements.\n",
        "\n",
        "    Time Complexity:\n",
        "    - Best/Average/Worst Case: O(n log n)\n",
        "    \"\"\"\n",
        "\n",
        "    # Base case: A list of zero or one elements is already sorted\n",
        "    if len(input_list) <= 1:\n",
        "        # print(f\"Debug log: Base case reached: {input_list}\")\n",
        "        return input_list       # exit this loop, base case\n",
        "\n",
        "    # Split the array into two halves\n",
        "    left_half, right_half = split_list(input_list)\n",
        "\n",
        "    # Recursively sort each half, calling ourself again\n",
        "    sorted_left = merge_sort(left_half)\n",
        "    sorted_right = merge_sort(right_half)\n",
        "\n",
        "    # Merge the sorted halves\n",
        "    simi_merged_list = merge_list(sorted_left, sorted_right)\n",
        "\n",
        "    return simi_merged_list\n"
      ],
      "metadata": {
        "id": "uhy-HApagaQb"
      },
      "execution_count": 28,
      "outputs": []
    },
    {
      "cell_type": "code",
      "source": [
        "# sample Merge sort run\n",
        "\n",
        "unorder_list = [5, 3, 8, 6, 2]\n",
        "print(f\"Unorder input list: {' '*10}{unorder_list}\")\n",
        "order_list = merge_sort(unorder_list)\n",
        "print(f\"Order output list: {' '*11}{order_list}\")"
      ],
      "metadata": {
        "colab": {
          "base_uri": "https://localhost:8080/"
        },
        "id": "VlK8tybTgaTw",
        "outputId": "a099c222-a998-4d0c-c3f4-7edd3789e9ef"
      },
      "execution_count": 29,
      "outputs": [
        {
          "output_type": "stream",
          "name": "stdout",
          "text": [
            "Unorder input list:           [5, 3, 8, 6, 2]\n",
            "Order output list:            [2, 3, 5, 6, 8]\n"
          ]
        }
      ]
    },
    {
      "cell_type": "code",
      "source": [],
      "metadata": {
        "id": "AvDwq_j0gaaZ"
      },
      "execution_count": null,
      "outputs": []
    },
    {
      "cell_type": "markdown",
      "source": [
        "# Quick sort"
      ],
      "metadata": {
        "id": "jZ8z0-51o5OT"
      }
    },
    {
      "cell_type": "code",
      "source": [
        "# prompt GPT-40:\n",
        "# Write a function with documentation for the quick sort with example run\n",
        "\n",
        "def quick_sort(input_list):\n",
        "    \"\"\"\n",
        "    Sorts an array using the quicksort algorithm.\n",
        "\n",
        "    The process is recursively applied to the sub-arrays until the entire array is sorted.\n",
        "\n",
        "    Parameters:\n",
        "    arr (list): The list of elements to be sorted.\n",
        "\n",
        "    Returns:\n",
        "    list: A new list containing the sorted elements.\n",
        "    \"\"\"\n",
        "    if len(input_list) <= 1:\n",
        "        # print(f\"Debug log: Base case reached: {input_list}\")\n",
        "        return input_list  # Base case: A list of zero or one elements\n",
        "\n",
        "    # Choose the pivot\n",
        "    # It can be optimized further by selecting a random element or using the median\n",
        "    pivot = input_list[len(input_list) // 2]\n",
        "    # print(f\"Debug log: Pivot selected: {' '*3}{pivot}\")\n",
        "\n",
        "    # Partition the array into three parts\n",
        "    left = [x for x in input_list if x < pivot]\n",
        "    middle = [x for x in input_list if x == pivot]\n",
        "    right = [x for x in input_list if x > pivot]\n",
        "\n",
        "    # Recursively sort the left and right parts, and combine them with the middle part\n",
        "    left = quick_sort(left)\n",
        "    right = quick_sort(right)\n",
        "    order_list = left + middle + right\n",
        "\n",
        "    # print(f\"Debug log: Left half: {' '*8}{left}\")\n",
        "    # print(f\"Debug log: Right half: {' '*7}{right}\")\n",
        "    # print(f\"Debug log: Order list: {' '*7}{order_list}\")\n",
        "    return order_list\n"
      ],
      "metadata": {
        "id": "Qwne6lzSb9io"
      },
      "execution_count": 30,
      "outputs": []
    },
    {
      "cell_type": "code",
      "source": [
        "# Example run of quick short\n",
        "\n",
        "unorder_list = [5, 3, 8, 6, 2]\n",
        "print(f\"Input unordered list: {' '*8}{unorder_list}\")\n",
        "sorted_list = quick_sort(unorder_list)\n",
        "print(f\"Output ordered list: {' '*9}{sorted_list}\")"
      ],
      "metadata": {
        "colab": {
          "base_uri": "https://localhost:8080/"
        },
        "id": "u03-lSlub-hq",
        "outputId": "21366cb2-2cb1-48c5-cdaf-2384a7523665"
      },
      "execution_count": 31,
      "outputs": [
        {
          "output_type": "stream",
          "name": "stdout",
          "text": [
            "Input unordered list:         [5, 3, 8, 6, 2]\n",
            "Output ordered list:          [2, 3, 5, 6, 8]\n"
          ]
        }
      ]
    },
    {
      "cell_type": "markdown",
      "source": [
        "# O(n) speed test"
      ],
      "metadata": {
        "id": "etC71HbHio8p"
      }
    },
    {
      "cell_type": "code",
      "source": [
        "# prompt GTP-4o: c\n",
        "# Create an random integer list of 18000 range from 0 to 1000000\n",
        "\n",
        "import random\n",
        "\n",
        "unorder_list = random.sample(range(0, 1000000), 18000)"
      ],
      "metadata": {
        "id": "n-kVMxyQhirG"
      },
      "execution_count": 32,
      "outputs": []
    },
    {
      "cell_type": "code",
      "source": [
        "%%time\n",
        "order_list = bubble_sort(unorder_list, is_debug=False)"
      ],
      "metadata": {
        "colab": {
          "base_uri": "https://localhost:8080/"
        },
        "id": "4ECAeww8hiuv",
        "outputId": "81e7b410-bcdd-4280-ee7e-0f227eb61f80"
      },
      "execution_count": 33,
      "outputs": [
        {
          "output_type": "stream",
          "name": "stdout",
          "text": [
            "CPU times: user 18.9 s, sys: 0 ns, total: 18.9 s\n",
            "Wall time: 18.9 s\n"
          ]
        }
      ]
    },
    {
      "cell_type": "code",
      "source": [
        "%%time\n",
        "order_list = selection_sort(unorder_list, is_debug=False)"
      ],
      "metadata": {
        "colab": {
          "base_uri": "https://localhost:8080/"
        },
        "id": "5X9JOg1AhizQ",
        "outputId": "4bd395a5-e038-4e2d-98d6-9ac396ed89e4"
      },
      "execution_count": null,
      "outputs": [
        {
          "output_type": "stream",
          "name": "stdout",
          "text": [
            "CPU times: user 8.53 s, sys: 23.9 ms, total: 8.56 s\n",
            "Wall time: 8.59 s\n"
          ]
        }
      ]
    },
    {
      "cell_type": "code",
      "source": [
        "# version 2\n",
        "%%time\n",
        "order_list = insertion_sort(unorder_list)"
      ],
      "metadata": {
        "colab": {
          "base_uri": "https://localhost:8080/"
        },
        "id": "1H7axs8eRgi3",
        "outputId": "7f0c5fde-e06f-4b46-fa30-bfaa8ccad957"
      },
      "execution_count": null,
      "outputs": [
        {
          "output_type": "stream",
          "name": "stdout",
          "text": [
            "CPU times: user 3.94 ms, sys: 0 ns, total: 3.94 ms\n",
            "Wall time: 3.95 ms\n"
          ]
        }
      ]
    },
    {
      "cell_type": "code",
      "source": [
        "%%time\n",
        "order_list = merge_sort(unorder_list)"
      ],
      "metadata": {
        "colab": {
          "base_uri": "https://localhost:8080/"
        },
        "id": "9d_gZgVssgE3",
        "outputId": "92733d34-252c-4a6e-a72d-a930b0433336"
      },
      "execution_count": null,
      "outputs": [
        {
          "output_type": "stream",
          "name": "stdout",
          "text": [
            "CPU times: user 42.9 ms, sys: 0 ns, total: 42.9 ms\n",
            "Wall time: 45.6 ms\n"
          ]
        }
      ]
    },
    {
      "cell_type": "code",
      "source": [
        "%%time\n",
        "order_list = quick_sort(unorder_list)"
      ],
      "metadata": {
        "colab": {
          "base_uri": "https://localhost:8080/"
        },
        "id": "n99KxJBKsgM-",
        "outputId": "4dc666fc-3b3e-4521-d094-5f9dc3bc6a8e"
      },
      "execution_count": null,
      "outputs": [
        {
          "output_type": "stream",
          "name": "stdout",
          "text": [
            "CPU times: user 32.8 ms, sys: 0 ns, total: 32.8 ms\n",
            "Wall time: 36.4 ms\n"
          ]
        }
      ]
    },
    {
      "cell_type": "code",
      "source": [],
      "metadata": {
        "id": "7JFZ--ih25-Q"
      },
      "execution_count": null,
      "outputs": []
    },
    {
      "cell_type": "code",
      "source": [
        "# prompt: write python code to draw a color bar chart for the following values [19.9, 8.59, 0.0041, 0.046, 0.036] with label [Bubble, Selection, Insertion, Merge, Quick] and show the value on the bar\n",
        "\n",
        "import matplotlib.pyplot as plt\n",
        "\n",
        "def create_color_bar_chart(values, labels):\n",
        "    \"\"\"\n",
        "    Creates a color bar chart with values displayed on the bars.\n",
        "\n",
        "    Args:\n",
        "        values: A list of numerical values for the bars.\n",
        "        labels: A list of labels corresponding to the bars.\n",
        "    \"\"\"\n",
        "    plt.figure(figsize=(8, 6))  # Adjust figure size if needed\n",
        "    bars = plt.bar(labels, values, color=['skyblue', 'lightcoral', 'lightgreen', 'gold', 'lightblue'])\n",
        "\n",
        "    # Add value labels on top of each bar\n",
        "    for bar, value in zip(bars, values):\n",
        "        yval = bar.get_height()\n",
        "        plt.text(bar.get_x() + bar.get_width()/2, yval, round(value, 4), ha='center', va='bottom')\n",
        "\n",
        "    plt.xlabel(\"Algorithms\")\n",
        "    plt.ylabel(\"Time Complexity\")\n",
        "    plt.title(\"Algorithm Performance Comparison\")\n",
        "    plt.show()\n",
        "\n",
        "# Example usage\n",
        "values = [19.9, 8.59, 0.0041, 0.046, 0.036]\n",
        "labels = ['Bubble', 'Selection', 'Insertion', 'Merge', 'Quick']\n",
        "\n",
        "create_color_bar_chart(values, labels)"
      ],
      "metadata": {
        "id": "LCbRffHbsgkK",
        "colab": {
          "base_uri": "https://localhost:8080/",
          "height": 564
        },
        "outputId": "2e1051b7-7f09-44b2-df70-3dfd26378ec2"
      },
      "execution_count": null,
      "outputs": [
        {
          "output_type": "display_data",
          "data": {
            "text/plain": [
              "<Figure size 800x600 with 1 Axes>"
            ],
            "image/png": "[encoded data removed]"
          },
          "metadata": {}
        }
      ]
    },
    {
      "cell_type": "code",
      "source": [
        "print(\"End chapter 4.\")"
      ],
      "metadata": {
        "id": "oynbbaAQ0JLS",
        "colab": {
          "base_uri": "https://localhost:8080/"
        },
        "outputId": "e10f9653-2609-47fa-94b9-5e119bf907dd"
      },
      "execution_count": 34,
      "outputs": [
        {
          "output_type": "stream",
          "name": "stdout",
          "text": [
            "End chapter 4.\n"
          ]
        }
      ]
    }
  ]
}