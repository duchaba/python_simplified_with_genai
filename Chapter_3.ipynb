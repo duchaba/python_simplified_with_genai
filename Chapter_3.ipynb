{
  "nbformat": 4,
  "nbformat_minor": 0,
  "metadata": {
    "colab": {
      "provenance": [],
      "machine_shape": "hm",
      "toc_visible": true,
      "collapsed_sections": [
        "5lsvqIKsWblI",
        "d4hkpXXXMuvn",
        "HBbzbhJCM-z8",
        "W6AB8Aj2M_4W",
        "lgCNT7GwNBOr"
      ],
      "authorship_tag": "ABX9TyOttr+uw9xTIliI1aZmik4p",
      "include_colab_link": true
    },
    "kernelspec": {
      "name": "python3",
      "display_name": "Python 3"
    },
    "language_info": {
      "name": "python"
    }
  },
  "cells": [
    {
      "cell_type": "markdown",
      "metadata": {
        "id": "view-in-github",
        "colab_type": "text"
      },
      "source": [
        "<a href=\"https://colab.research.google.com/github/duchaba/python_simplified_with_genai/blob/master/Chapter_3.ipynb\" target=\"_parent\"><img src=\"https://colab.research.google.com/assets/colab-badge.svg\" alt=\"Open In Colab\"/></a>"
      ]
    },
    {
      "cell_type": "markdown",
      "source": [
        "# 🌻 Welcome Reader and Coder\n",
        "---\n",
        "\n",
        "- Let's Rock and Roll"
      ],
      "metadata": {
        "id": "3WnEac7Fwdgw"
      }
    },
    {
      "cell_type": "code",
      "source": [
        "fname = 'Pluto'\n",
        "print(f'Welcome reader and coder: {fname}.')"
      ],
      "metadata": {
        "colab": {
          "base_uri": "https://localhost:8080/"
        },
        "id": "IJVD8p_vPR7D",
        "outputId": "b1a3d49c-4e0e-4508-b5e7-077adc3ec521"
      },
      "execution_count": 1,
      "outputs": [
        {
          "output_type": "stream",
          "name": "stdout",
          "text": [
            "Welcome reader and coder: Pluto.\n"
          ]
        }
      ]
    },
    {
      "cell_type": "markdown",
      "source": [
        "## Variables:\n",
        "\n",
        "Variables are used to store data that can be used and manipulated throughout your program. In Python, you don't need to declare the type of a variable explicitly; the type is inferred based on the value assigned to it. For example:\n",
        "\n",
        "Here, dog_name is a string variable, and dog_age is an integer variable."
      ],
      "metadata": {
        "id": "VQmt0P7jBOvr"
      }
    },
    {
      "cell_type": "code",
      "source": [
        "# prompt: create Python variable\n",
        "\n",
        "dog_name = \"Pluto\"\n",
        "dog_age = 5\n",
        "#\n",
        "print(f'Dog name: {dog_name}, Dog age: {dog_age}')"
      ],
      "metadata": {
        "colab": {
          "base_uri": "https://localhost:8080/"
        },
        "id": "yljvSa8-BOJU",
        "outputId": "b02749f9-034f-423b-f19b-ea13c48b68a8"
      },
      "execution_count": 2,
      "outputs": [
        {
          "output_type": "stream",
          "name": "stdout",
          "text": [
            "Dog name: Pluto, Dog age: 5\n"
          ]
        }
      ]
    },
    {
      "cell_type": "markdown",
      "source": [
        "## If-Else Decisions\n",
        "\n",
        "Decision-making is a crucial part of programming. The if-else statements in Python allow you to execute certain pieces of code based on conditions. Here's an example:"
      ],
      "metadata": {
        "id": "KLtMxS2_CCgy"
      }
    },
    {
      "cell_type": "code",
      "source": [
        "# prompt: write sample if-else decision\n",
        "\n",
        "if dog_age < 3:\n",
        "  print(\"Pluto is a young dog.\")\n",
        "else:\n",
        "  print(\"Pluto is an adult dog.\")"
      ],
      "metadata": {
        "id": "QOW1B1euMrPr",
        "colab": {
          "base_uri": "https://localhost:8080/"
        },
        "outputId": "17ecf898-ce52-44cc-c3df-81d0be9299b7"
      },
      "execution_count": 3,
      "outputs": [
        {
          "output_type": "stream",
          "name": "stdout",
          "text": [
            "Pluto is an adult dog.\n"
          ]
        }
      ]
    },
    {
      "cell_type": "markdown",
      "source": [
        "## Functions\n",
        "\n",
        "Functions are blocks of reusable code that perform a specific task. They help to make your code modular and easier to understand. You can define a function using the def keyword:"
      ],
      "metadata": {
        "id": "KI6Am9O9CV1K"
      }
    },
    {
      "cell_type": "code",
      "source": [
        "# prompt: write a simple function\n",
        "def greet(name):\n",
        "  print(f\"Hello, {name}!\")\n",
        "  return None\n",
        "#\n",
        "# example use\n",
        "greet(dog_name)"
      ],
      "metadata": {
        "id": "Q5OLAafaMrS_",
        "colab": {
          "base_uri": "https://localhost:8080/"
        },
        "outputId": "3927b91a-3744-4054-c40d-6ba46fb4ef2d"
      },
      "execution_count": null,
      "outputs": [
        {
          "output_type": "stream",
          "name": "stdout",
          "text": [
            "Hello, Pluto!\n"
          ]
        }
      ]
    },
    {
      "cell_type": "markdown",
      "source": [
        "## Looping\n",
        "\n",
        "Loops are used to repeat a block of code multiple times. Python provides several types of loops, with for and while being the most common. For instance, if you want to print a message five times, you can use a for loop:"
      ],
      "metadata": {
        "id": "iOQXBn6KDHuC"
      }
    },
    {
      "cell_type": "code",
      "source": [
        "# prompt: write a simple loop\n",
        "for i in range(5):\n",
        "  print(f\"{i}: Woof! Woof!\")"
      ],
      "metadata": {
        "id": "9-XTQ7rIMrXZ",
        "colab": {
          "base_uri": "https://localhost:8080/"
        },
        "outputId": "7d764238-607d-4c5d-b2aa-d0af86e730c3"
      },
      "execution_count": null,
      "outputs": [
        {
          "output_type": "stream",
          "name": "stdout",
          "text": [
            "0: Woof! Woof!\n",
            "1: Woof! Woof!\n",
            "2: Woof! Woof!\n",
            "3: Woof! Woof!\n",
            "4: Woof! Woof!\n"
          ]
        }
      ]
    },
    {
      "cell_type": "markdown",
      "source": [
        "## Creating a Class\n",
        "\n",
        "In Python, a class is a blueprint for creating objects. It defines a set of attributes and methods that the objects created from the class will have. Here's how you can create a simple Dog class:"
      ],
      "metadata": {
        "id": "0VximB2nDr_8"
      }
    },
    {
      "cell_type": "code",
      "source": [
        "# prompt: add create a class dog and instant Pluto\n",
        "class Dog:\n",
        "  def __init__(self, name, breed, age):\n",
        "    self.name = name\n",
        "    self.breed = breed\n",
        "    self.age = age\n",
        "\n",
        "  def bark(self):\n",
        "    return \"Woof! Woof!\"\n",
        "\n",
        "  def fetch(self):\n",
        "    return f\"{self.name} is fetching the ball.\"\n",
        "\n",
        "  def __str__(self):\n",
        "    return f\"{self.name} is a {self.age}-year-old {self.breed}.\""
      ],
      "metadata": {
        "id": "PsYrOUm4DhPn"
      },
      "execution_count": null,
      "outputs": []
    },
    {
      "cell_type": "markdown",
      "source": [
        "## Creating an Instance of the Dog Class\n",
        "\n",
        "Now that we have our Dog class, let's create an instance for Pluto:"
      ],
      "metadata": {
        "id": "cXaGj4KiEyTW"
      }
    },
    {
      "cell_type": "code",
      "source": [
        "# prompt:\n",
        "pluto = Dog(\"Pluto\", \"Labrador Retriever\", 5)\n",
        "\n",
        "# Accessing attributes and methods of the instance\n",
        "print(pluto)          # Output: Pluto is a 5-year-old Mixed.\n",
        "print(pluto.bark())   # Output: Woof! Woof!\n",
        "print(pluto.fetch())  # Output: Pluto is fetching the ball."
      ],
      "metadata": {
        "colab": {
          "base_uri": "https://localhost:8080/"
        },
        "id": "3igr9TAPEhav",
        "outputId": "34f5a872-6a74-4699-ad8f-bd127217d2d4"
      },
      "execution_count": null,
      "outputs": [
        {
          "output_type": "stream",
          "name": "stdout",
          "text": [
            "Pluto is a 5-year-old Labrador Retriever.\n",
            "Woof! Woof!\n",
            "Pluto is fetching the ball.\n"
          ]
        }
      ]
    },
    {
      "cell_type": "markdown",
      "source": [
        "## prompt:\n",
        "  - explain the code line: for i in range(5)\n",
        "\n",
        "---\n",
        "\n",
        "Certainly! Let's break down the code line for i in range(5) and explain what it does:\n",
        "\n",
        "- for i in range(5)\n",
        "This line is part of a for loop in Python, which is used to repeat a block of code a specific number of times. Here's a detailed explanation of each part:\n",
        "\n",
        "1. for:\n",
        "\n",
        "  - The for keyword is used to start a for loop in Python. A for loop allows you to iterate over a sequence (like a list, tuple, string, or range) and execute a block of code for each item in the sequence.\n",
        "\n",
        "2. i:\n",
        "\n",
        "  - i is the loop variable. It's a placeholder name and can be replaced with any valid variable name. During each iteration of the loop, i will take on the value of the current item in the sequence generated by range(5).\n",
        "\n",
        "3. in:\n",
        "\n",
        "  - The in keyword is used to specify the sequence that the for loop will iterate over. In this case, the sequence is generated by the range(5) function.\n",
        "\n",
        "4. range(5):\n",
        "\n",
        "  - range(5) is a function that generates a sequence of numbers, starting from 0 and ending at 4. The range function can take one, two, or three arguments:\n",
        "\n",
        "  - With one argument (range(5)): It generates numbers from 0 up to, but not including, 5 (i.e., 0, 1, 2, 3, 4).\n",
        "\n",
        " - With two arguments (range(start, stop)): It generates numbers from start up to, but not including, stop.\n",
        "\n",
        " - With three arguments (range(start, stop, step)): It generates numbers from start up to, but not including, stop, incrementing by step.\n",
        "\n",
        "---\n",
        "\n",
        "- Putting It All Together\n",
        "\n",
        "When you use for i in range(5), the for loop will iterate five times. During each iteration, the variable i will take on the next value in the sequence generated by range(5). So, i will be 0 in the first iteration, 1 in the second iteration, 2 in the third iteration, 3 in the fourth iteration, and 4 in the fifth (and final) iteration.\n",
        "\n",
        "---\n",
        "\n",
        "Here's an example of how this loop can be used:"
      ],
      "metadata": {
        "id": "ZzaAdLlJJWI0"
      }
    },
    {
      "cell_type": "code",
      "source": [
        "for i in range(5):\n",
        "  print(f\"Iteration {i}: Woof! Woof!\")"
      ],
      "metadata": {
        "colab": {
          "base_uri": "https://localhost:8080/"
        },
        "id": "gD1aPAY7KHxw",
        "outputId": "7917bdc5-c390-41db-aa77-7654c49c0748"
      },
      "execution_count": null,
      "outputs": [
        {
          "output_type": "stream",
          "name": "stdout",
          "text": [
            "Iteration 0: Woof! Woof!\n",
            "Iteration 1: Woof! Woof!\n",
            "Iteration 2: Woof! Woof!\n",
            "Iteration 3: Woof! Woof!\n",
            "Iteration 4: Woof! Woof!\n"
          ]
        }
      ]
    },
    {
      "cell_type": "markdown",
      "source": [
        "## prompt:\n",
        "  - explain code line: def init(self, name, breed, age):\n",
        "\n",
        "---\n",
        "\n",
        "Certainly! Let's break down the code line def __init__(self, name, breed, age): and explain what it does in the context of a Python class.\n",
        "\n",
        "1. def __init__(self, name, breed, age):\n",
        "This line defines a special method called the initializer or constructor for a class. Here’s a detailed explanation of each part:\n",
        "\n",
        "  - def:\n",
        "\n",
        "  - The def keyword is used to define a function or method in Python. In this case, it is used to define the __init__ method.\n",
        "\n",
        "2. __init__:\n",
        "\n",
        "  - __init__ is a special method name in Python, also known as a dunder method (short for double underscore). This method is called automatically when a new instance of the class is created.\n",
        "\n",
        "  - The purpose of __init__ is to initialize the new object's attributes and set up any initial state.\n",
        "\n",
        "3. self:\n",
        "\n",
        "  - self is a reference to the current instance of the class. It is the first parameter of any method in a class and is used to access attributes and methods of the class.\n",
        "\n",
        "  - When you create an instance of the class, self refers to that instance. Using self, you can store values in the object's attributes and call other methods defined in the class.\n",
        "\n",
        "4. name, breed, age:\n",
        "\n",
        "  - These are additional parameters passed to the __init__ method. When you create a new instance of the class, you provide values for these parameters, which are then used to initialize the object's attributes.\n",
        "\n",
        "  - In this example, name, breed, and age are attributes that will be assigned to the new instance of the Dog class.\n",
        "\n",
        "---\n",
        "\n",
        "Putting It All Together\n",
        "The __init__ method is used to initialize an instance of a class with specific attributes. Here’s how it fits into a class definition:"
      ],
      "metadata": {
        "id": "GTS0bwOmKRhx"
      }
    },
    {
      "cell_type": "code",
      "source": [
        "class Dog:\n",
        "    def __init__(self, name, breed, age):\n",
        "        self.name = name\n",
        "        self.breed = breed\n",
        "        self.age = age\n",
        "\n",
        "    def bark(self):\n",
        "        return \"Woof! Woof!\"\n",
        "\n",
        "    def fetch(self):\n",
        "        return f\"{self.name} is fetching the ball.\"\n",
        "\n",
        "    def __str__(self):\n",
        "        return f\"{self.name} is a {self.age}-year-old {self.breed}.\"\n"
      ],
      "metadata": {
        "id": "XU91WFLDUHfa"
      },
      "execution_count": null,
      "outputs": []
    },
    {
      "cell_type": "markdown",
      "source": [
        "Example of Creating an Instance\n",
        "\n",
        "---\n",
        "\n",
        "Here’s how you use the Dog class to create an instance:\n",
        "\n",
        "- pluto = Dog(name=\"Pluto\", breed=\"Mixed\", age=5):\n",
        "\n",
        "- This line creates a new instance of the Dog class.\n",
        "\n",
        "- The __init__ method is automatically called with the arguments \"Pluto\", \"Mixed\", and 5.\n",
        "\n",
        "- Inside the __init__ method, these arguments are used to initialize the new instance's attributes:"
      ],
      "metadata": {
        "id": "pagkX0fXUY6l"
      }
    },
    {
      "cell_type": "code",
      "source": [
        "pluto = Dog(name=\"Pluto\", breed=\"Mixed\", age=5)"
      ],
      "metadata": {
        "id": "ke-DXLhHUjTY"
      },
      "execution_count": null,
      "outputs": []
    },
    {
      "cell_type": "markdown",
      "source": [
        "## Prompt:\n",
        "  - Using Homer Simpson voice, explain code line: def str(self):\n",
        "\n",
        "---\n",
        "\n",
        "Alright, imagine Homer Simpson explaining this in his iconic voice:\n",
        "\n",
        "\"Mmm, okay, so, uh, this line def __str__(self): is like when you want your object to say 'D'oh!' or, uh, something else when you try to print it out. Hehe, donuts.\n",
        "\n",
        "Anyway, this __str__ thingy is a special method, like a secret code, ya know? When you ask Python to print an object, it goes, 'Hey, does this object have a __str__ method?' If it does, it uses it to get a nice string that tells you what the object is all about.\n",
        "\n",
        "So, when you write def __str__(self):, you're basically saying, 'Here's how I want my object to introduce itself.' Like if I were an object, mine would probably say, 'Mmm, donuts.' Hehe.\n",
        "\n",
        "Here's a quick example, mmm, code:\n",
        "\n",
        "----\n",
        "\n",
        "This way, when you print your dog object, it’ll say something like, 'Pluto is a 5-year-old Mixed.' Much better than just showing some boring object address, right? Mmm, addresses... wait, where was I? Oh yeah, hope that helps! Hehe.\""
      ],
      "metadata": {
        "id": "qAJj_OYCUy5N"
      }
    },
    {
      "cell_type": "code",
      "source": [
        "def __str__(self):\n",
        "    return f\"{self.name} is a {self.age}-year-old {self.breed}.\""
      ],
      "metadata": {
        "id": "31SrddMLUzDl"
      },
      "execution_count": null,
      "outputs": []
    },
    {
      "cell_type": "markdown",
      "source": [
        "## Many more prompt:/question from you!"
      ],
      "metadata": {
        "id": "eWmyS4YbW2GK"
      }
    },
    {
      "cell_type": "markdown",
      "source": [
        "# 🤖 Topic #2: The Calculator Code Reveal"
      ],
      "metadata": {
        "id": "d4hkpXXXMuvn"
      }
    },
    {
      "cell_type": "markdown",
      "source": [
        "## Prompt:\n",
        "  - write a basic calculator app in Python with inline documentation.\n",
        "\n",
        "---\n",
        "\n",
        "Sure! Below is a simple calculator app in Python with inline documentation to help explain each part of the code.\n",
        "\n",
        "---\n",
        "\n",
        "Explanation of the Code:\n",
        "Function Definitions:\n",
        "\n",
        "add(x, y): Adds two numbers and returns the result.\n",
        "subtract(x, y): Subtracts the second number from the first and returns the result.\n",
        "multiply(x, y): Multiplies two numbers and returns the result.\n",
        "divide(x, y): Divides the first number by the second and returns the result. Raises a ValueError if the second number is zero.\n",
        "Main Calculator Function (calculator):\n",
        "\n",
        "Prints a welcome message and operation choices.\n",
        "Uses a while loop to repeatedly ask the user for an operation and numbers to perform the calculation until the user decides to exit.\n",
        "Checks if the user's choice is valid.\n",
        "Handles invalid inputs and division by zero.\n",
        "Asks if the user wants to perform another calculation after each operation.\n",
        "Entry Point:\n",
        "\n",
        "if __name__ == \"__main__\": ensures that the calculator function runs only if the script is executed directly, not if it is imported as a module.\n"
      ],
      "metadata": {
        "id": "bvobDFIoHw-1"
      }
    },
    {
      "cell_type": "code",
      "source": [
        "# Simple Calculator App in Python\n",
        "\n",
        "def add(x, y):\n",
        "    \"\"\"\n",
        "    This function adds two numbers.\n",
        "\n",
        "    :param x: First number\n",
        "    :param y: Second number\n",
        "    :return: Sum of x and y\n",
        "    \"\"\"\n",
        "    return x + y\n",
        "\n",
        "def subtract(x, y):\n",
        "    \"\"\"\n",
        "    This function subtracts one number from another.\n",
        "\n",
        "    :param x: First number\n",
        "    :param y: Second number\n",
        "    :return: Difference between x and y\n",
        "    \"\"\"\n",
        "    return x - y\n",
        "\n",
        "def multiply(x, y):\n",
        "    \"\"\"\n",
        "    This function multiplies two numbers.\n",
        "\n",
        "    :param x: First number\n",
        "    :param y: Second number\n",
        "    :return: Product of x and y\n",
        "    \"\"\"\n",
        "    return x * y\n",
        "\n",
        "def divide(x, y):\n",
        "    \"\"\"\n",
        "    This function divides one number by another.\n",
        "\n",
        "    :param x: First number\n",
        "    :param y: Second number\n",
        "    :return: Quotient of x divided by y\n",
        "    :raises ValueError: If y is zero\n",
        "    \"\"\"\n",
        "    if y == 0:\n",
        "        raise ValueError(\"Cannot divide by zero.\")\n",
        "    return x / y\n",
        "\n",
        "def calculator():\n",
        "    \"\"\"\n",
        "    This function provides a simple calculator interface.\n",
        "    It allows the user to perform basic arithmetic operations.\n",
        "\n",
        "    Args: None\n",
        "    Returns: None\n",
        "    \"\"\"\n",
        "    print(\"Welcome to the Simple Calculator App!\")\n",
        "    print(\"Select an operation:\")\n",
        "    print(\"1. Add\")\n",
        "    print(\"2. Subtract\")\n",
        "    print(\"3. Multiply\")\n",
        "    print(\"4. Divide\")\n",
        "\n",
        "    while True:\n",
        "        # Get user input for the operation\n",
        "        choice = input(\"Enter choice (1/2/3/4): \")\n",
        "\n",
        "        # Check if the choice is one of the four options\n",
        "        if choice in ['1', '2', '3', '4']:\n",
        "            try:\n",
        "                # Get user input for the numbers\n",
        "                num1 = float(input(\"Enter first number: \"))\n",
        "                num2 = float(input(\"Enter second number: \"))\n",
        "            except ValueError:\n",
        "                print(\"Invalid input. Please enter numeric values.\")\n",
        "                continue\n",
        "\n",
        "            # Perform the operation\n",
        "            if choice == '1':\n",
        "                print(f\"The result of addition is: {add(num1, num2)}\")\n",
        "            elif choice == '2':\n",
        "                print(f\"The result of subtraction is: {subtract(num1, num2)}\")\n",
        "            elif choice == '3':\n",
        "                print(f\"The result of multiplication is: {multiply(num1, num2)}\")\n",
        "            elif choice == '4':\n",
        "                try:\n",
        "                    print(f\"The result of division is: {divide(num1, num2)}\")\n",
        "                except ValueError as e:\n",
        "                    print(e)\n",
        "        else:\n",
        "            print(\"Invalid choice. Please select a valid operation.\")\n",
        "\n",
        "        # Ask if the user wants to perform another calculation\n",
        "        next_calculation = input(\"Do you want to perform another calculation? (yes/no): \")\n",
        "        if next_calculation.lower() != 'yes':\n",
        "            break\n",
        "\n",
        "    print(\"Thank you for using the Simple Calculator App! Goodbye.\")"
      ],
      "metadata": {
        "id": "aM8rJK0RMuv1"
      },
      "execution_count": null,
      "outputs": []
    },
    {
      "cell_type": "code",
      "source": [
        "# Run the calculator app\n",
        "if __name__ == \"__main__\":\n",
        "    calculator()"
      ],
      "metadata": {
        "id": "PBGyo7HRMuv2",
        "colab": {
          "base_uri": "https://localhost:8080/"
        },
        "outputId": "8b1361d4-848e-4b7d-99e4-d377bfaddd74"
      },
      "execution_count": null,
      "outputs": [
        {
          "output_type": "stream",
          "name": "stdout",
          "text": [
            "Welcome to the Simple Calculator App!\n",
            "Select an operation:\n",
            "1. Add\n",
            "2. Subtract\n",
            "3. Multiply\n",
            "4. Divide\n",
            "Enter choice (1/2/3/4): 1\n",
            "Enter first number: 4\n",
            "Enter second number: 5\n",
            "The result of addition is: 9.0\n",
            "Do you want to perform another calculation? (yes/no): yes\n",
            "Enter choice (1/2/3/4): 2\n",
            "Enter first number: 4\n",
            "Enter second number: 8\n",
            "The result of subtraction is: -4.0\n",
            "Do you want to perform another calculation? (yes/no): yes\n",
            "Enter choice (1/2/3/4): 3\n",
            "Enter first number: 35\n",
            "Enter second number: 210\n",
            "The result of multiplication is: 7350.0\n",
            "Do you want to perform another calculation? (yes/no): yes\n",
            "Enter choice (1/2/3/4): 4\n",
            "Enter first number: 1\n",
            "Enter second number: 4\n",
            "The result of division is: 0.25\n",
            "Do you want to perform another calculation? (yes/no): no\n",
            "Thank you for using the Simple Calculator App! Goodbye.\n"
          ]
        }
      ]
    },
    {
      "cell_type": "markdown",
      "source": [
        "# 🤖 Topic #3: GenAI To The Rescue!\n",
        "\n",
        "  - Use GPT-4o to explain any line of code in the calculator.\n",
        "  "
      ],
      "metadata": {
        "id": "HBbzbhJCM-z8"
      }
    },
    {
      "cell_type": "markdown",
      "source": [
        "## Prompt:\n",
        "  - explain Python code statement: while True:\n",
        "\n",
        "---\n",
        "while True:\n",
        "\n",
        "- The while loop in Python allows you to execute a block of code repeatedly as long as a given condition is true. The general syntax for a while loop is:"
      ],
      "metadata": {
        "id": "lVrnTbsoVyTq"
      }
    },
    {
      "cell_type": "code",
      "source": [
        "while condition:\n",
        "    # Code block to be executed\n",
        "    break"
      ],
      "metadata": {
        "id": "0dSvqMO4M-0E"
      },
      "execution_count": null,
      "outputs": []
    },
    {
      "cell_type": "markdown",
      "source": [
        "- Here, condition is a Boolean expression that evaluates to either True or False. As long as condition is True, the code block inside the loop will keep running.\n",
        "\n",
        "- **True**\n",
        "\n",
        "  - In the statement while True:, the condition is simply True. In Python, True is a constant that represents the Boolean value true.\n",
        "\n",
        "---\n",
        "\n",
        "- **Infinite Loop**\n",
        "\n",
        "- Since True is always true, while True: creates an infinite loop. An infinite loop will keep executing the code block inside the loop endlessly, until it is explicitly stopped by some control statement, such as break, or an external action, such as terminating the program.\n",
        "\n",
        "---\n",
        "\n",
        "- Example\n",
        "  - Here is an example to illustrate how while True: can be used in a program:"
      ],
      "metadata": {
        "id": "5z8dNaWUWHYD"
      }
    },
    {
      "cell_type": "code",
      "source": [
        "while True:\n",
        "    user_input = input(\"Enter something (type 'exit' to quit): \")\n",
        "    if user_input.lower() == 'exit':\n",
        "        print(\"Exiting the loop. Goodbye!\")\n",
        "        break\n",
        "    else:\n",
        "        print(f\"You entered: {user_input}\")"
      ],
      "metadata": {
        "colab": {
          "base_uri": "https://localhost:8080/"
        },
        "id": "rbdF7VDOVxa2",
        "outputId": "02739749-1512-4e50-94d0-b126323f9b08"
      },
      "execution_count": null,
      "outputs": [
        {
          "output_type": "stream",
          "name": "stdout",
          "text": [
            "Enter something (type 'exit' to quit): hello\n",
            "You entered: hello\n",
            "Enter something (type 'exit' to quit): world\n",
            "You entered: world\n",
            "Enter something (type 'exit' to quit): exit\n",
            "Exiting the loop. Goodbye!\n"
          ]
        }
      ]
    },
    {
      "cell_type": "markdown",
      "source": [
        "## Explanation of the Example\n",
        "\n",
        "1. while True::\n",
        "\n",
        "  - This starts an infinite loop, which means the following code block will keep running repeatedly.\n",
        "\n",
        "2. user_input = input(\"Enter something (type 'exit' to quit): \"):\n",
        "\n",
        "  - The program prompts the user to enter something. The entered value is stored in the variable user_input.\n",
        "\n",
        "3. if user_input.lower() == 'exit'::\n",
        "\n",
        "  - The code checks if the user has entered the word \"exit\" (case-insensitive).\n",
        "\n",
        "4. break:\n",
        "\n",
        "  - If the user input is \"exit\", the break statement is executed. break exits the loop immediately, stopping the infinite loop.\n",
        "\n",
        "5. else::\n",
        "\n",
        "  - If the user input is not \"exit\", the code in the else block is executed.\n",
        "\n",
        "6. print(f\"You entered: {user_input}\"):\n",
        "\n",
        "  - The program prints what the user entered, and then the loop starts again, prompting the user to enter something.\n",
        "\n",
        "---\n",
        "\n",
        "## Use Cases\n",
        "\n",
        "Infinite loops with while True: are useful in situations where you want your program to keep running until a specific condition or user action occurs. Some common use cases include:\n",
        "\n",
        "- Interactive programs: Like command-line interfaces or menu-driven applications.\n",
        "- Servers: To keep listening for incoming requests.\n",
        "\n",
        "- Event-driven programs: Where you wait for an event or a signal to proceed.\n",
        "\n",
        "\n",
        "Using while True: is a powerful tool, but it's important to ensure there is a mechanism, such as a break statement, to exit the loop to avoid creating an unintentional infinite loop that can cause your program to hang or crash."
      ],
      "metadata": {
        "id": "hPHWUJHUXCJW"
      }
    },
    {
      "cell_type": "markdown",
      "source": [
        "## Many more prompt:/questions from you."
      ],
      "metadata": {
        "id": "GfUoTEGrXv2f"
      }
    },
    {
      "cell_type": "code",
      "source": [
        "print(\"End chapter 3.\")"
      ],
      "metadata": {
        "id": "xv8t_x2MNBOs",
        "colab": {
          "base_uri": "https://localhost:8080/"
        },
        "outputId": "826a8400-526a-443f-f304-5244b7d996b3"
      },
      "execution_count": 4,
      "outputs": [
        {
          "output_type": "stream",
          "name": "stdout",
          "text": [
            "End chapter 3.\n"
          ]
        }
      ]
    }
  ]
}