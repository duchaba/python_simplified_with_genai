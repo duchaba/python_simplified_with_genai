{
  "nbformat": 4,
  "nbformat_minor": 0,
  "metadata": {
    "colab": {
      "provenance": [],
      "authorship_tag": "ABX9TyMWl7aeAxPJu8f0ZpXDSmI9",
      "include_colab_link": true
    },
    "kernelspec": {
      "name": "python3",
      "display_name": "Python 3"
    },
    "language_info": {
      "name": "python"
    }
  },
  "cells": [
    {
      "cell_type": "markdown",
      "metadata": {
        "id": "view-in-github",
        "colab_type": "text"
      },
      "source": [
        "<a href=\"https://colab.research.google.com/github/duchaba/python_simplified_with_genai/blob/master/Chapter_3.ipynb\" target=\"_parent\"><img src=\"https://colab.research.google.com/assets/colab-badge.svg\" alt=\"Open In Colab\"/></a>"
      ]
    },
    {
      "cell_type": "code",
      "source": [
        "# prompt GPT-4o:\n",
        "# In Python, create a varible for my dog Pluto and his age and print out the result\n",
        "\n",
        "dog_name = \"Pluto\"\n",
        "dog_age = 5\n",
        "print(f\"{dog_name} is {dog_age} years old.\")"
      ],
      "metadata": {
        "id": "xbfzuoaOcscm",
        "colab": {
          "base_uri": "https://localhost:8080/"
        },
        "outputId": "6a36e673-3e33-4aba-a797-a3977c290a7e"
      },
      "execution_count": 1,
      "outputs": [
        {
          "output_type": "stream",
          "name": "stdout",
          "text": [
            "Pluto is 5 years old.\n"
          ]
        }
      ]
    },
    {
      "cell_type": "code",
      "source": [
        "# GPT-4o prompt:\n",
        "# Write Python code to demonstrate the if-else condition using Pluto information\n",
        "\n",
        "# Define Pluto's details\n",
        "is_trained = True\n",
        "\n",
        "# Check if Pluto is a trained dog\n",
        "if is_trained:\n",
        "    print(f\"{dog_name} is a trained dog and ready to perform tricks!\")\n",
        "else:\n",
        "    print(f\"{dog_name} is still learning and needs more training.\")\n",
        "\n",
        "# Check if Pluto is a senior dog, middle-aged, or young\n",
        "if dog_age > 10:\n",
        "    print(f\"{dog_name} is a senior dog and may need extra care.\")\n",
        "elif 5 < dog_age <= 10:\n",
        "    print(f\"{dog_name} is in his prime years and full of energy!\")\n",
        "else:\n",
        "    print(f\"{dog_name} is still a young pup, curious about the world!\")"
      ],
      "metadata": {
        "colab": {
          "base_uri": "https://localhost:8080/"
        },
        "id": "ywZKkDa4UJjB",
        "outputId": "3806f448-5fbe-4660-adf1-1029707650eb"
      },
      "execution_count": 2,
      "outputs": [
        {
          "output_type": "stream",
          "name": "stdout",
          "text": [
            "Pluto is a trained dog and ready to perform tricks!\n",
            "Pluto is still a young pup, curious about the world!\n"
          ]
        }
      ]
    },
    {
      "cell_type": "code",
      "source": [
        "# GPT-4o prompt\n",
        "# Write a simple Python for greeting with documentation with example usage\n",
        "\n",
        "def greet(name):\n",
        "    \"\"\"\n",
        "    Generate a greeting message for the given name.\n",
        "\n",
        "    Parameters:\n",
        "        name (str): The name of the person to greet.\n",
        "\n",
        "    Returns:\n",
        "        str: A personalized greeting message.\n",
        "\n",
        "    Example Usage:\n",
        "        >>> greet(\"Mickey\")\n",
        "        Hello, Mickey! Welcome home.\n",
        "    \"\"\"\n",
        "    print (f\"Hello, {name}! Welcome home.\")\n",
        "    return\n",
        "#\n",
        "# Example usage\n",
        "greet(dog_name)"
      ],
      "metadata": {
        "colab": {
          "base_uri": "https://localhost:8080/"
        },
        "id": "h5MBkQCoUJng",
        "outputId": "58211e86-bc32-49ed-beea-d97fd57fa5e1"
      },
      "execution_count": 3,
      "outputs": [
        {
          "output_type": "stream",
          "name": "stdout",
          "text": [
            "Hello, Pluto! Welcome home.\n"
          ]
        }
      ]
    },
    {
      "cell_type": "code",
      "source": [
        "# prompt GPT4o\n",
        "# Write a simple loop code\n",
        "\n",
        "for i in range(5):\n",
        "    print(f\"{i}: Woof! Woof!\")"
      ],
      "metadata": {
        "id": "lG6iwFolVnJE",
        "colab": {
          "base_uri": "https://localhost:8080/"
        },
        "outputId": "2b773379-ad5f-4c8c-ccea-493586a26c9c"
      },
      "execution_count": null,
      "outputs": [
        {
          "output_type": "stream",
          "name": "stdout",
          "text": [
            "0: Woof! Woof!\n",
            "1: Woof! Woof!\n",
            "2: Woof! Woof!\n",
            "3: Woof! Woof!\n",
            "4: Woof! Woof!\n"
          ]
        }
      ]
    },
    {
      "cell_type": "code",
      "source": [
        "# prompt GPT4:\n",
        "# Write a function with documentation to print the first 20 fibonacci sequence number\n",
        "\n",
        "def get_fibonacci(n=20):\n",
        "    \"\"\"\n",
        "    Generate the first n Fibonacci numbers.\n",
        "\n",
        "    Parameters:\n",
        "        n (int): The number of Fibonacci numbers to generate (default is 20).\n",
        "\n",
        "    Returns:\n",
        "        list: A list containing the first n Fibonacci numbers.\n",
        "\n",
        "    Example Usage:\n",
        "        >>> print(get_fibonacci(10))\n",
        "        [0, 1, 1, 2, 3, 5, 8, 13, 21, 34]\n",
        "    \"\"\"\n",
        "    if n <= 0:\n",
        "        return []\n",
        "\n",
        "    # Initialize the first two Fibonacci numbers\n",
        "    fibonacci_numbers = [0, 1]\n",
        "\n",
        "    # Generate the remaining Fibonacci numbers up to n\n",
        "    while len(fibonacci_numbers) < n:\n",
        "        fibonacci_numbers.append(fibonacci_numbers[-1] + fibonacci_numbers[-2])\n",
        "\n",
        "    return fibonacci_numbers\n",
        "\n",
        "# Example usage\n",
        "nth = 20\n",
        "print(f\"The first {nth} Fibonacci numbers are:\\n {get_fibonacci(nth)}\")"
      ],
      "metadata": {
        "id": "2HaSpSO_zzO3",
        "colab": {
          "base_uri": "https://localhost:8080/"
        },
        "outputId": "fc31a3b7-3be9-4d1a-deb7-942f674be897"
      },
      "execution_count": 4,
      "outputs": [
        {
          "output_type": "stream",
          "name": "stdout",
          "text": [
            "The first 20 Fibonacci numbers are:\n",
            " [0, 1, 1, 2, 3, 5, 8, 13, 21, 34, 55, 89, 144, 233, 377, 610, 987, 1597, 2584, 4181]\n"
          ]
        }
      ]
    },
    {
      "cell_type": "markdown",
      "source": [
        "# Generate the First 20 Fibonacci Numbers\n",
        "\n",
        "This script defines a Python function to generate the first 20 Fibonacci numbers, with clear documentation and an example usage.\n",
        "\n",
        "## Function Definition\n",
        "\n",
        "The `generate_fibonacci` function calculates and returns a list of Fibonacci numbers up to a specified count. By default, it generates the first 20 numbers.\n",
        "\n",
        "### Key Points:\n",
        "- **Fibonacci Sequence:** Starts with `0` and `1`, and each subsequent number is the sum of the two preceding ones.\n",
        "- **Default Parameter:** The function defaults to generating 20 numbers if no value is provided for `n`.\n",
        "\n",
        "## Docstring\n",
        "\n",
        "The function includes an inline docstring for clarity:\n",
        "\n",
        "```python\n",
        "\"\"\"\n",
        "Generate the first n Fibonacci numbers.\n",
        "\n",
        "Parameters:\n",
        "    n (int): The number of Fibonacci numbers to generate (default is 20).\n",
        "\n",
        "Returns:\n",
        "    list: A list containing the first n Fibonacci numbers.\n",
        "\n",
        "Example Usage:\n",
        "    >>> print(generate_fibonacci(10))\n",
        "    [0, 1, 1, 2, 3, 5, 8, 13, 21, 34]\n",
        "\"\"\"\n"
      ],
      "metadata": {
        "id": "h1Ng6TckbVci"
      }
    },
    {
      "cell_type": "code",
      "source": [
        "# prompt GPT-4o:\n",
        "# write a simple loop to print five Woof! Woof!\n",
        "\n",
        "for i in range(5):\n",
        "    print(f\"{i}: Woof! Woof!\")"
      ],
      "metadata": {
        "colab": {
          "base_uri": "https://localhost:8080/"
        },
        "id": "xmgqMkNyRSH7",
        "outputId": "caa06844-08b3-4218-c00c-509ba80eed7f"
      },
      "execution_count": null,
      "outputs": [
        {
          "output_type": "stream",
          "name": "stdout",
          "text": [
            "0: Woof! Woof!\n",
            "1: Woof! Woof!\n",
            "2: Woof! Woof!\n",
            "3: Woof! Woof!\n",
            "4: Woof! Woof!\n"
          ]
        }
      ]
    },
    {
      "cell_type": "code",
      "source": [
        "# prompt GPT-4o:\n",
        "# rewrite the Woof looping using while loop\n",
        "\n",
        "i = 0\n",
        "while i < 5:\n",
        "    print(f\"{i}: Woof! Woof!\")\n",
        "    i += 1"
      ],
      "metadata": {
        "colab": {
          "base_uri": "https://localhost:8080/"
        },
        "id": "uqwJz-QWRSMF",
        "outputId": "2ace57f3-25aa-40b9-fbac-4dd736f342ca"
      },
      "execution_count": null,
      "outputs": [
        {
          "output_type": "stream",
          "name": "stdout",
          "text": [
            "0: Woof! Woof!\n",
            "1: Woof! Woof!\n",
            "2: Woof! Woof!\n",
            "3: Woof! Woof!\n",
            "4: Woof! Woof!\n"
          ]
        }
      ]
    },
    {
      "cell_type": "code",
      "source": [
        "# prompt GPT-4o\n",
        "# Create a class name dog with bark and fetch function\n",
        "\n",
        "class Dog:\n",
        "    \"\"\"\n",
        "    A class representing a dog with basic actions: bark and fetch.\n",
        "    \"\"\"\n",
        "\n",
        "    def __init__(self, name, breed, age):\n",
        "        \"\"\"\n",
        "        Initialize the dog with a name and breed.\n",
        "\n",
        "        Parameters:\n",
        "            name (str): The name of the dog.\n",
        "            breed (str): The breed of the dog.\n",
        "        \"\"\"\n",
        "        self.name = name\n",
        "        self.breed = breed\n",
        "        self.age = age\n",
        "\n",
        "    def bark(self):\n",
        "        \"\"\"\n",
        "        Make the dog bark.\n",
        "\n",
        "        Returns:\n",
        "            str: A barking message.\n",
        "        \"\"\"\n",
        "        return f\"{self.name} says: Woof! Woof!\"\n",
        "\n",
        "    def fetch(self, item):\n",
        "        \"\"\"\n",
        "        Make the dog fetch an item.\n",
        "\n",
        "        Parameters:\n",
        "            item (str): The item to fetch.\n",
        "\n",
        "        Returns:\n",
        "            str: A message indicating the fetched item.\n",
        "        \"\"\"\n",
        "        return f\"{self.name} fetched the {item}!\"\n",
        "\n",
        "    def __str__(self):\n",
        "        \"\"\"\n",
        "        Return a string representation of the dog.\n",
        "\n",
        "        Returns:\n",
        "            str: A string describing the dog.\n",
        "        \"\"\"\n",
        "        return f\"{self.name} is a {self.breed} and is {self.age} years old.\""
      ],
      "metadata": {
        "id": "Xw7hAGSaRSRj"
      },
      "execution_count": null,
      "outputs": []
    },
    {
      "cell_type": "code",
      "source": [
        "# Prompt GPT-4o\n",
        "# Create an instant Dog name Pluto and invoke its function\n",
        "\n",
        "pluto = Dog(name=\"Pluto\", breed=\"Labrador Retriever\", age=5)\n",
        "\n",
        "# Accessing attributes and methods of the Dog class\n",
        "print(pluto)                # Output: Pluto is a Labrador Retriever and is 5 years old.\n",
        "print(pluto.bark())         # Output: Pluto says: Woof! Woof!\n",
        "print(pluto.fetch(\"ball\"))  # Output: Pluto fetched the ball!"
      ],
      "metadata": {
        "colab": {
          "base_uri": "https://localhost:8080/"
        },
        "id": "1QZSP433a8Rf",
        "outputId": "1caa460b-a9bd-4fc5-e062-0a747dad84f5"
      },
      "execution_count": null,
      "outputs": [
        {
          "output_type": "stream",
          "name": "stdout",
          "text": [
            "Pluto is a Labrador Retriever and is 5 years old.\n",
            "Pluto says: Woof! Woof!\n",
            "Pluto fetched the ball!\n"
          ]
        }
      ]
    },
    {
      "cell_type": "code",
      "source": [
        "# prompt GPT-4o\n",
        "# Write the simple calculator app with inline documentation\n",
        "\n",
        "def add(a, b):\n",
        "    \"\"\"\n",
        "    Perform addition of two numbers.\n",
        "\n",
        "    Parameters:\n",
        "        a (float): The first number.\n",
        "        b (float): The second number.\n",
        "\n",
        "    Returns:\n",
        "        float: The sum of a and b.\n",
        "\n",
        "    Raises:\n",
        "        TypeError: If inputs are not numbers.\n",
        "    \"\"\"\n",
        "    if not isinstance(a, (int, float)) or not isinstance(b, (int, float)):\n",
        "        raise TypeError(\"Both inputs must be numbers.\")\n",
        "    return a + b\n",
        "\n",
        "\n",
        "def subtract(a, b):\n",
        "    \"\"\"\n",
        "    Perform subtraction of two numbers.\n",
        "\n",
        "    Parameters:\n",
        "        a (float): The first number.\n",
        "        b (float): The second number.\n",
        "\n",
        "    Returns:\n",
        "        float: The result of a - b.\n",
        "\n",
        "    Raises:\n",
        "        TypeError: If inputs are not numbers.\n",
        "    \"\"\"\n",
        "    if not isinstance(a, (int, float)) or not isinstance(b, (int, float)):\n",
        "        raise TypeError(\"Both inputs must be numbers.\")\n",
        "    return a - b\n",
        "\n",
        "\n",
        "def multiply(a, b):\n",
        "    \"\"\"\n",
        "    Perform multiplication of two numbers.\n",
        "\n",
        "    Parameters:\n",
        "        a (float): The first number.\n",
        "        b (float): The second number.\n",
        "\n",
        "    Returns:\n",
        "        float: The product of a and b.\n",
        "\n",
        "    Raises:\n",
        "        TypeError: If inputs are not numbers.\n",
        "    \"\"\"\n",
        "    if not isinstance(a, (int, float)) or not isinstance(b, (int, float)):\n",
        "        raise TypeError(\"Both inputs must be numbers.\")\n",
        "    return a * b\n",
        "\n",
        "\n",
        "def divide(a, b):\n",
        "    \"\"\"\n",
        "    Perform division of two numbers.\n",
        "\n",
        "    Parameters:\n",
        "        a (float): The numerator.\n",
        "        b (float): The denominator.\n",
        "\n",
        "    Returns:\n",
        "        float: The result of a / b.\n",
        "\n",
        "    Raises:\n",
        "        TypeError: If inputs are not numbers.\n",
        "        ValueError: If the denominator is zero.\n",
        "    \"\"\"\n",
        "    if not isinstance(a, (int, float)) or not isinstance(b, (int, float)):\n",
        "        raise TypeError(\"Both inputs must be numbers.\")\n",
        "    if b == 0:\n",
        "        raise ValueError(\"Division by zero is not allowed.\")\n",
        "    return a / b\n",
        "\n",
        "\n",
        "def calculator():\n",
        "    \"\"\"\n",
        "    A simple calculator app that performs basic arithmetic operations.\n",
        "    \"\"\"\n",
        "    print(\"Welcome to the Simple Calculator!\")\n",
        "    print(\"Available operations: add, subtract, multiply, divide\")\n",
        "\n",
        "    while True:\n",
        "        try:\n",
        "            # Get user input for the operation\n",
        "            operation = input(\"\\nEnter operation (add, subtract, multiply, divide or 'exit' to quit): \").strip().lower()\n",
        "            if operation == \"exit\":\n",
        "                print(\"Exiting the calculator. Goodbye!\")\n",
        "                break\n",
        "\n",
        "            # Ensure the operation is valid\n",
        "            if operation not in [\"add\", \"subtract\", \"multiply\", \"divide\"]:\n",
        "                print(\"Invalid operation. Please try again.\")\n",
        "                continue\n",
        "\n",
        "            # Get user input for numbers\n",
        "            num1 = float(input(\"Enter the first number: \"))\n",
        "            num2 = float(input(\"Enter the second number: \"))\n",
        "\n",
        "            # Perform the selected operation\n",
        "            if operation == \"add\":\n",
        "                result = add(num1, num2)\n",
        "            elif operation == \"subtract\":\n",
        "                result = subtract(num1, num2)\n",
        "            elif operation == \"multiply\":\n",
        "                result = multiply(num1, num2)\n",
        "            elif operation == \"divide\":\n",
        "                result = divide(num1, num2)\n",
        "\n",
        "            # Display the result\n",
        "            print(f\"The result of {operation} is: {result}\")\n",
        "\n",
        "        except Exception as e:\n",
        "            print(f\"An unexpected error occurred: {e}\")\n",
        "    return\n",
        "\n",
        "# Run the calculator app\n",
        "if __name__ == \"__main__\":\n",
        "    calculator()\n"
      ],
      "metadata": {
        "colab": {
          "base_uri": "https://localhost:8080/"
        },
        "id": "D7EJRnt9Rw9U",
        "outputId": "f030dcce-1b97-46cf-864d-c0ca9521983d"
      },
      "execution_count": 5,
      "outputs": [
        {
          "output_type": "stream",
          "name": "stdout",
          "text": [
            "Welcome to the Simple Calculator!\n",
            "Available operations: add, subtract, multiply, divide\n",
            "\n",
            "Enter operation (add, subtract, multiply, divide or 'exit' to quit): add\n",
            "Enter the first number: 3\n",
            "Enter the second number: 5\n",
            "The result of add is: 8.0\n",
            "\n",
            "Enter operation (add, subtract, multiply, divide or 'exit' to quit): exit\n",
            "Exiting the calculator. Goodbye!\n"
          ]
        }
      ]
    },
    {
      "cell_type": "markdown",
      "source": [
        "# Explain Python raise statement\n",
        "\n",
        "The `raise` statement in Python is a mechanism for explicitly triggering exceptions in your code when an error or invalid condition occurs. In the statement `raise ValueError(\"Division by zero is not allowed.\")`, the `raise` keyword generates a `ValueError` exception, which is a built-in Python error used to indicate that a function or operation has received an argument with an inappropriate value. The accompanying message `\"Division by zero is not allowed.\"` provides additional context about the specific error, making it easier for developers or users to understand what went wrong. This ensures that the program halts at the point of error and does not proceed with invalid or undefined behavior.\n",
        "\n",
        "When the `raise` statement is executed, Python immediately stops the normal flow of the program and begins searching for an exception handler, such as a `try` and `except` block, to address the error. If no handler is found, the program terminates, and Python provides a traceback showing where the error occurred, along with the custom error message. Using the `raise` statement in this way allows developers to enforce proper input validation, handle edge cases gracefully, and provide meaningful feedback to users, thereby making programs more robust and easier to debug.\n",
        "\n",
        "## Key Points\n",
        "\n",
        "- **Immediate Error Handling:**\n",
        "  - The `raise` statement ensures that invalid conditions are addressed as soon as they are detected.\n",
        "\n",
        "- **Custom Error Messages:**\n",
        "  - Provides specific feedback about the nature of the issue, making debugging and user interaction easier.\n",
        "\n",
        "- **Integration with `try` and `except`:**\n",
        "  - Works seamlessly with Python's exception-handling mechanism to handle errors gracefully.\n",
        "\n",
        "By using the `raise` statement, you can create more robust and user-friendly Python programs, ensuring that errors are properly detected and managed.\n",
        "\n",
        "## Error Message\n",
        "\n",
        "The custom error message `\"Division by zero is not allowed.\"` is:\n",
        "\n",
        "- **Passed as an argument** to the `ValueError` exception.\n",
        "- **Designed to provide context and clarity** about the specific error.\n",
        "- **Helpful for debugging** or informing users of the issue.\n",
        "\n",
        "\n"
      ],
      "metadata": {
        "id": "eXwX3rgoG4z-"
      }
    },
    {
      "cell_type": "code",
      "source": [],
      "metadata": {
        "id": "JSRQuO_3ubv6"
      },
      "execution_count": null,
      "outputs": []
    },
    {
      "cell_type": "markdown",
      "source": [
        "# While True\n",
        "\n",
        "The Python code while True: is a construct for creating an infinite loop. Here's an explanation of its components and behavior:\n",
        "\n",
        "## Explanation:\n",
        "- while Loop:\n",
        "\n",
        "  - A while loop repeatedly executes a block of code as long as its condition evaluates to True.\n",
        "- Condition True:\n",
        "\n",
        "  - In this case, the condition is the literal True, which is always true. As a result, the loop will continue to execute indefinitely unless explicitly stopped.\n",
        "- Purpose:\n",
        "\n",
        "  - Infinite loops are often used for tasks where the program needs to keep running until a specific condition or event occurs (e.g., waiting for user input, monitoring a system, or managing a server).\n",
        "- Exiting the Loop:\n",
        "\n",
        "  - To prevent the loop from running forever, you typically include a mechanism to break out of it, such as the break statement.\n",
        "\n",
        "## Behavior:\n",
        "In the example above, the loop will continuously prompt the user for input until they type \"exit\". When this happens, the break statement terminates the loop.\n",
        "\n",
        "## Risks:\n",
        "If no break statement or other exit mechanism (like an exception) is provided, the loop will run indefinitely and may consume system resources, potentially causing the program to hang or crash. Always ensure you have a clear way to stop infinite loops when implementing them."
      ],
      "metadata": {
        "id": "48_ot6g0R27y"
      }
    },
    {
      "cell_type": "code",
      "source": [],
      "metadata": {
        "id": "pLSD5PUyvBQb"
      },
      "execution_count": null,
      "outputs": []
    },
    {
      "cell_type": "markdown",
      "source": [
        "# Use Cases for while True:\n",
        "\n",
        "- Waiting for User Input:\n",
        "\n",
        "  - Use an infinite loop to repeatedly prompt the user until they provide valid input or request to exit.\n",
        "\n",
        "- Server or Service Monitoring:\n",
        "  - Continuous loops are often used in servers or background processes that need to run indefinitely until stopped manually or by an event.\n",
        "\n",
        "- Game Loops:\n",
        "  - In games, an infinite loop manages the game state, player input, rendering, and updates until the player exits.\n",
        "\n",
        "\n",
        "- Polling Systems:\n",
        "  - Infinite loops can be used for periodically checking for updates, like monitoring a file, database, or external service.\n",
        "\n",
        "## Cautions with while True:\n",
        "- Risk of Infinite Execution:\n",
        "  - Without a proper exit mechanism (e.g., break or exception handling), the loop will run indefinitely, consuming system resources and potentially causing the program to hang or crash.\n",
        "\n",
        "- High CPU Usage:\n",
        "  - A while True loop without any delays (e.g., time.sleep()) can cause high CPU usage, impacting system performance. Always include a small delay if the loop does not require continuous high-speed execution.\n",
        "\n",
        "- Difficult Debugging:\n",
        "  - An infinite loop without clear conditions or exit points can make debugging challenging, especially if it locks up the program. Always document the exit conditions and test thoroughly.\n",
        "\n",
        "- Mismanagement of Resources:\n",
        "  - If the loop involves resources like file handles, database connections, or network sockets, failing to manage these resources (e.g., not closing them) can lead to memory leaks or system instability.\n",
        "\n",
        "- User Experience:\n",
        "  - In user-facing programs, infinite loops can frustrate users if there's no clear way to terminate the loop (e.g., pressing Ctrl+C or providing an \"exit\" option).\n",
        "\n",
        "## Best Practices:\n",
        "\n",
        "- Include an Exit Condition: Always ensure the loop has a clear and reachable exit point.\n",
        "\n",
        "- Use Delays for Non-Critical Loops: Add time.sleep() for loops that do not require continuous execution.\n",
        "- Test Exit Scenarios: Verify that the loop exits correctly under all expected conditions.\n",
        "- Log Progress: In complex loops, log progress or states for debugging and monitoring purposes.\n",
        "\n",
        "By using while True responsibly, you can harness its flexibility for various scenarios while avoiding potential pitfalls.\n"
      ],
      "metadata": {
        "id": "_2dlQsaGvB9y"
      }
    },
    {
      "cell_type": "code",
      "source": [
        "# prompt ChatGPT-4o:\n",
        "# Create an object name Accountant with documentation with functions for calculating meal tips, monthly  car payment, and yearly compound interest for savings.\n",
        "\n",
        "class Accountant:\n",
        "    \"\"\"\n",
        "    A class for performing financial calculations.\n",
        "\n",
        "    This class provides methods for calculating meal tips, monthly car payments, and yearly compound interest for savings.\n",
        "    \"\"\"\n",
        "\n",
        "    def __init__(self, food=\"lasagna\", favorite=\"sleeping all day\", mood=\"grumpy\"):\n",
        "        \"\"\"\n",
        "        Initialize the dog with a name and breed.\n",
        "\n",
        "        Parameters:\n",
        "            food (str): The accountant preferred food.\n",
        "            favorite (str): The favorite activity.\n",
        "            mood (str): The mood.\n",
        "        \"\"\"\n",
        "        self.food = food\n",
        "        self.favorite = favorite\n",
        "        self.mood = mood\n",
        "\n",
        "    def calculate_meal_tip(self, meal_cost, tip_percentage=0.15):\n",
        "        \"\"\"\n",
        "        Calculates the tip amount for a meal.\n",
        "\n",
        "        Args:\n",
        "            meal_cost (float): The cost of the meal.\n",
        "            tip_percentage (float, optional): The tip percentage (default is 15%).\n",
        "\n",
        "        Returns:\n",
        "            float: The calculated tip amount.\n",
        "\n",
        "        Raises:\n",
        "            ValueError: If meal_cost is negative or tip_percentage is not within the range [0, 1].\n",
        "        \"\"\"\n",
        "        if meal_cost < 0:\n",
        "            raise ValueError(\"Meal cost cannot be negative.\")\n",
        "        if not 0 <= tip_percentage <= 1:\n",
        "            raise ValueError(\"Tip percentage must be between 0 and 1.\")\n",
        "        return meal_cost * tip_percentage\n",
        "\n",
        "    def calculate_car_payment(self, loan_amount, interest_rate, loan_term):\n",
        "      \"\"\"\n",
        "      Calculates the monthly car payment using the formula:\n",
        "      M = P [ i(1 + i)^n ] / [ (1 + i)^n – 1]\n",
        "      Where:\n",
        "      M = Monthly Payment\n",
        "      P = Principal Loan Amount\n",
        "      i = Monthly Interest Rate (Annual Interest Rate / 12)\n",
        "      n = Number of Payments (Loan Term in Years * 12)\n",
        "\n",
        "      Args:\n",
        "        loan_amount (float): The principal loan amount.\n",
        "        interest_rate (float): The annual interest rate (as a decimal, e.g., 0.05 for 5%).\n",
        "        loan_term (int): The loan term in years.\n",
        "\n",
        "      Returns:\n",
        "        float: The calculated monthly car payment.\n",
        "\n",
        "      Raises:\n",
        "        ValueError: If loan_amount, interest_rate, or loan_term are invalid.\n",
        "      \"\"\"\n",
        "\n",
        "      if loan_amount <= 0 or interest_rate <= 0 or loan_term <= 0:\n",
        "          raise ValueError(\"Loan amount, interest rate, and loan term must be positive values.\")\n",
        "\n",
        "      monthly_interest_rate = interest_rate / 12\n",
        "      number_of_payments = loan_term * 12\n",
        "\n",
        "      monthly_payment = loan_amount * (monthly_interest_rate * (1 + monthly_interest_rate) ** number_of_payments) / ((1 + monthly_interest_rate) ** number_of_payments - 1)\n",
        "\n",
        "      return monthly_payment\n",
        "\n",
        "    def calculate_compound_interest(self, principal, interest_rate, time):\n",
        "        \"\"\"\n",
        "        Calculates the compound interest for savings.\n",
        "\n",
        "        Args:\n",
        "            principal (float): The initial principal balance.\n",
        "            interest_rate (float): The annual interest rate (as a decimal).\n",
        "            time (int): The number of years the money is invested or borrowed for.\n",
        "\n",
        "        Returns:\n",
        "            float: The future value of the investment/loan, including interest.\n",
        "        \"\"\"\n",
        "        amount = principal * (pow((1 + interest_rate), time))\n",
        "        return amount\n",
        "\n",
        "    def __str__(self):\n",
        "        \"\"\"\n",
        "        Return a string representation of the accountant.\n",
        "\n",
        "        Returns:\n",
        "            str: A string describing the accountant.\n",
        "        \"\"\"\n",
        "        return f\"I am an accountant with {self.food} is my favorite food.\\nIn most day I like to {self.favorite}, and I am in a {self.mood} mood in the morning.\""
      ],
      "metadata": {
        "id": "8ngKH917R3UQ"
      },
      "execution_count": 6,
      "outputs": []
    },
    {
      "cell_type": "code",
      "source": [
        "# Create Garfield\n",
        "garfield = Accountant()\n",
        "print(garfield)"
      ],
      "metadata": {
        "colab": {
          "base_uri": "https://localhost:8080/"
        },
        "id": "2koKY6JoR3XI",
        "outputId": "9fa6597d-6c1a-4e9f-8619-f2e5853f0225"
      },
      "execution_count": 7,
      "outputs": [
        {
          "output_type": "stream",
          "name": "stdout",
          "text": [
            "I am an accountant with lasagna is my favorite food.\n",
            "In most day I like to sleeping all day, and I am in a grumpy mood in the morning.\n"
          ]
        }
      ]
    },
    {
      "cell_type": "code",
      "source": [
        "# prompt to ChatGPT-4o:\n",
        "# write example of garfield using its function\n",
        "\n",
        "# Example usage of Garfield's methods\n",
        "meal_price = 85\n",
        "tip_percent = 0.20\n",
        "\n",
        "tip_amount = garfield.calculate_meal_tip(meal_price, 0.2)  # Calculate a 20% tip\n",
        "\n",
        "print(f\"For your meal of ${meal_price}, You want to tip at {tip_percent*100:.2f}%.\\nSo the tip amount is: ${tip_amount:.2f}\\nMaking the total for the meal is ${meal_price + tip_amount:.2f}\")"
      ],
      "metadata": {
        "colab": {
          "base_uri": "https://localhost:8080/"
        },
        "id": "hDmXGFqczBwE",
        "outputId": "b9e383d3-0d82-4485-d10d-ff1fda2a3020"
      },
      "execution_count": 8,
      "outputs": [
        {
          "output_type": "stream",
          "name": "stdout",
          "text": [
            "For your meal of $85, You want to tip at 20.00%.\n",
            "So the tip amount is: $17.00\n",
            "Making the total for the meal is $102.00\n"
          ]
        }
      ]
    },
    {
      "cell_type": "code",
      "source": [
        "# ask Garfield for car loan payment\n",
        "\n",
        "car_loan = 25000\n",
        "annual_rate = 0.045  # 4.5% interest\n",
        "loan_years = 5\n",
        "\n",
        "monthly_payment = garfield.calculate_car_payment(car_loan, annual_rate, loan_years)\n",
        "\n",
        "print(f\"You bought a new car at ${car_loan}, with annual rate from the bank at {annual_rate*100:.2f}% for {loan_years} year.\\nSo your monthly car payment is: ${monthly_payment:.2f}\")"
      ],
      "metadata": {
        "colab": {
          "base_uri": "https://localhost:8080/"
        },
        "id": "ConPmbndzB0R",
        "outputId": "1a0203da-2337-4c4d-ff43-b08a242cd237"
      },
      "execution_count": 9,
      "outputs": [
        {
          "output_type": "stream",
          "name": "stdout",
          "text": [
            "You bought a new car at $25000, with annual rate from the bank at 4.50% for 5 year.\n",
            "So your monthly car payment is: $466.08\n"
          ]
        }
      ]
    },
    {
      "cell_type": "code",
      "source": [
        "# ask Garfield for earning interest in your saving acount\n",
        "\n",
        "principal = 8500\n",
        "rate = 0.035  # 3.5% interest rate\n",
        "years = 10\n",
        "\n",
        "compound_interest_amount = garfield.calculate_compound_interest(principal, rate, years)\n",
        "\n",
        "print(f\"In your bank, you have saving of ${principal} with {rate*100:.2f}% interest rate.\\nSo you will earn the compound interest after {years} years is: ${compound_interest_amount:.2f}\\nAnd the total in the bank will be ${principal+compound_interest_amount:.2f}\")"
      ],
      "metadata": {
        "colab": {
          "base_uri": "https://localhost:8080/"
        },
        "id": "N69J7OqizB3p",
        "outputId": "b70af5ac-4d98-42e6-bb91-b40486ffa70e"
      },
      "execution_count": 10,
      "outputs": [
        {
          "output_type": "stream",
          "name": "stdout",
          "text": [
            "In your bank, you have saving of $8500 with 3.50% interest rate.\n",
            "So you will earn the compound interest after 10 years is: $11990.09\n",
            "And the total in the bank will be $20490.09\n"
          ]
        }
      ]
    },
    {
      "cell_type": "markdown",
      "source": [
        "Monthly car payment:\n",
        "$$M = P \\frac{i(1 + i)^n}{(1 + i)^n - 1}$$"
      ],
      "metadata": {
        "id": "J173vegs434d"
      }
    },
    {
      "cell_type": "code",
      "source": [
        "print(\"End chapter 3.\")"
      ],
      "metadata": {
        "id": "lq2z3mVEgaXE",
        "colab": {
          "base_uri": "https://localhost:8080/"
        },
        "outputId": "ad8d2934-6395-4642-e67f-a6424a4d6f95"
      },
      "execution_count": 11,
      "outputs": [
        {
          "output_type": "stream",
          "name": "stdout",
          "text": [
            "End chapter 3.\n"
          ]
        }
      ]
    }
  ]
}