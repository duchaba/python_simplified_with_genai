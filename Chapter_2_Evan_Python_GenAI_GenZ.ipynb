{
  "nbformat": 4,
  "nbformat_minor": 0,
  "metadata": {
    "colab": {
      "provenance": [],
      "machine_shape": "hm",
      "toc_visible": true,
      "authorship_tag": "ABX9TyNAu59UlxXyHtZcPu/u+bVl",
      "include_colab_link": true
    },
    "kernelspec": {
      "name": "python3",
      "display_name": "Python 3"
    },
    "language_info": {
      "name": "python"
    }
  },
  "cells": [
    {
      "cell_type": "markdown",
      "metadata": {
        "id": "view-in-github",
        "colab_type": "text"
      },
      "source": [
        "<a href=\"https://colab.research.google.com/github/duchaba/python_simplified_with_genai/blob/master/Chapter_2_Evan_Python_GenAI_GenZ.ipynb\" target=\"_parent\"><img src=\"https://colab.research.google.com/assets/colab-badge.svg\" alt=\"Open In Colab\"/></a>"
      ]
    },
    {
      "cell_type": "markdown",
      "source": [
        "# 🌻 Welcome Reader and Coder\n",
        "---\n",
        "\n",
        "- Let's Rock and Roll"
      ],
      "metadata": {
        "id": "3WnEac7Fwdgw"
      }
    },
    {
      "cell_type": "code",
      "source": [
        "print(f'Hello World.')"
      ],
      "metadata": {
        "colab": {
          "base_uri": "https://localhost:8080/"
        },
        "id": "IJVD8p_vPR7D",
        "outputId": "40c7e8fe-ef8c-43cf-b435-52c7e2d91c24"
      },
      "execution_count": 1,
      "outputs": [
        {
          "output_type": "stream",
          "name": "stdout",
          "text": [
            "Hello World.\n"
          ]
        }
      ]
    },
    {
      "cell_type": "markdown",
      "source": [
        "# 📗 Book Title – Python Simplified with Generative AI\n",
        "\n",
        "\n",
        "---\n",
        "\n",
        "## Introduction:\n",
        "\n",
        "In the bustling corridors of the university, amidst the chatter of new ideas and the rustle of\n",
        "textbooks, there is a common thread of a challenge looming before us. As college students, we\n",
        "faced the daunting task of navigating the digital landscape, such as learning about complex\n",
        "programming code, internalizing AI paradigms, and expanding our personal growth.\n",
        "\n",
        "However, most existing books fail to connect with us. The books seem distant because they\n",
        "were authored by academics and industry professionals who disconnected from the\n",
        "challenges of the new Generative Artificial Intelligence (GenAI) era in education. Hence, we\n",
        "propose to craft this book, written by college students for college students, with a coauthor\n",
        "who is a renowned AI leader and an author of the book “Data Augmentation with Python.”\n",
        "\n",
        "We are a generation that thrives on immediacy and experiential learning. The GenZ, our lot,\n",
        "don’t just learn; we ‘do,’ we ‘experience.’ And that’s where GenAI, such as GPT-4’s Copilot,\n",
        "Meta Code Llama, or Google Gemini, emerges as a beacon. Drawing inspiration from the\n",
        "growth of AI in modern learning, GenAI is your personalized coach or a teaching assistant\n",
        "always by your side.\n",
        "\n",
        "The proposed book's core learning experience will be a narrative of a human and an AI\n",
        "working together to learn from a series of short, interactive projects on Python Jupyter\n",
        "Notebooks (Notebooks). Along the way, the reader will learn how to write code in Python and\n",
        "practice it on a copy of the Notebook. The lessons are functional projects recognizable to\n",
        "GenZ as everyday activities.\n",
        "\n",
        "In contrast, many Python books prioritize comprehending data structures, algorithms, and\n",
        "complex syntax before implementing them. Furthermore, the outdated teaching approach\n",
        "relies solely on one narrative and doesn't allow students to independently investigate and\n",
        "challenge the lessons.\n",
        "\n",
        "The play-first method increases confidence and connects theory, GenAI, and real-world\n",
        "application. It aligns with GenZ's preference for experiential learning, i.e., learning by doing.\n",
        "The readers will remember that this isn’t just another Python book. Instead, it is a unique\n",
        "journey where a fellow human and digital GenAI will accompany you every step. They will\n",
        "teach, demonstrate, guide, assist, and motivate as you learn Python coding. Furthermore, the\n",
        "readers can adapt the learning journey to various other college topics, including but not\n",
        "limited to science, history, art, and communication. Welcome to a learning experience\n",
        "tailored for our generation by one of our own."
      ],
      "metadata": {
        "id": "PW2-o66xPSlN"
      }
    },
    {
      "cell_type": "markdown",
      "source": [
        "# 🍎 Welcome to Chapter 2: Jupyter Notebook and Google Colab\n",
        "---\n"
      ],
      "metadata": {
        "id": "xmcx9tkOSqK3"
      }
    },
    {
      "cell_type": "markdown",
      "source": [
        "## 🦛 Author: Evan\n",
        "---\n",
        "## Description:\n",
        "\n",
        "Welcome to a journey through the versatile world of Python Jupyter Notebooks! This chapter\n",
        "is designed to be your friendly guide, unveiling the powerful features of one of the most\n",
        "popular tools in data science, programming, and education. Jupyter Notebooks, with their\n",
        "unique blend of code, visuals, and narrative, offer an interactive canvas for beginners and\n",
        "seasoned professionals.\n",
        "\n",
        "As we delve into this chapter, we'll explore how Jupyter Notebooks elevate Python\n",
        "programming to a new level of efficiency and clarity. You'll learn to blend live code\n",
        "seamlessly with rich text, equations, and visualizations, turning your code into an engaging\n",
        "story. We'll uncover the magic of interactive widgets that bring your data to life, making\n",
        "analysis not just informative but also interactive and fun.\n",
        "\n",
        "Whether you're analyzing data, teaching complex concepts, or just experimenting with\n",
        "Python, Jupyter Notebooks provides a flexible and user-friendly environment in which to do\n",
        "so. So, buckle up and get ready to unlock the full potential of Python Jupyter Notebooks,\n",
        "where coding meets creativity in the most inspiring way!\n",
        "\n",
        "## Introduction:\n",
        "Chapter 2 aims to introduce and explain the usage of Jupyter Notebook, with a focus on\n",
        "using the Google Collab environment. I will describe my personal process of learning about\n",
        "Jupyter Notebook using GenAI. It is important to note that the list of features I present is not\n",
        "exhaustive, but it covers a significant portion of the tool. Additionally, I will describe how to\n",
        "continue learning about other features not covered in my explanation.\n",
        "\n",
        "I will encourage readers to explore features independently and deeply dive into them. To use\n",
        "a fishing analogy, I will teach them how to fish, and it will be up to the reader to decide\n",
        "when, where, and how much fish they want to catch.\n",
        "Our objective is to hold off on teaching Python coding until later chapters. Furthermore, I\n",
        "plan to copy the code generated by GenAI - specifically, Gemini and GPT-4/Copilot - to\n",
        "Jupyter Notebook to observe its functionality and then use that experience to draw\n",
        "connections and explain in this chapter.\n",
        "\n",
        "If I use a response generated by GenAI, I will clearly indicate that it is not my own and\n",
        "attribute it accordingly. However, I will read and edit the response to my interpretation.\n",
        "\n",
        "##Topics to be covered:\n",
        "---\n",
        "\n",
        "1. What is Python Jupyter Notebook?\n",
        "\n",
        "2. Access and Setup Jupyter Notebook\n",
        "3. Introduce The “code” and “text” Cell\n",
        "4. Special Google Colab Features"
      ],
      "metadata": {
        "id": "DHGKa52qwsp7"
      }
    },
    {
      "cell_type": "markdown",
      "source": [
        "# 🤖 Topic #1: What is Python Jupyter Notebook?\n",
        "\n",
        "---\n",
        "\n",
        "- Login GPT-4, https://chat.openai.com/\n",
        "\n",
        "- Open a \"new chat\" session\n",
        "\n",
        "- Start by asking \"What is Python Jupyter Notebook\" from GPT-4. Here are some sample prompts to help you get started, but **highly encourage** you to write your prompts to express your idea of fun.\n",
        "\n",
        "  1. What is Python Jupyter Notebook?\n",
        "    - Tell the readers to review chapter 1 if they do not how to access or use GPT-4.\n",
        "      - Note: You can ast GPT-4 to write it. Duc to demo: \"write a paragraph for a book about the following topic: If the readers do not know how to use or access GPT-4, please read the step by step process from Chapter 1.\"\n",
        "\n",
        "  2. Explain the history of Python Jupyter Notebook using an online RGP game.\n",
        "\n",
        "  3. Give top five reason why programmer should use Python Jupyter Notebook.\n",
        "\n",
        "  4. Compare Python Jupyter Notebook with other Python IDE, and show why Jupyter Notebook is better.\n",
        "\n",
        "    - Explain \"Interactivity and Exploratory Analysis\" in detail using a kid tone and give examples.\n",
        "\n",
        "  5. Give me 10 funny slogun about using Jupyter notebook is good choice.\n",
        "\n",
        "  6. *(Your fun prompts goes here.)*"
      ],
      "metadata": {
        "id": "5lsvqIKsWblI"
      }
    },
    {
      "cell_type": "code",
      "source": [
        "# prompt: What is GenAI?"
      ],
      "metadata": {
        "id": "155VNcb7bhSX"
      },
      "execution_count": null,
      "outputs": []
    },
    {
      "cell_type": "markdown",
      "source": [
        "## Suggestion on the writing process\n",
        "\n",
        "---\n",
        "\n",
        "- After you read all the answer from GPT-4 above:\n",
        "\n",
        "  - write about why you ask this question,\n",
        "\n",
        "  - what you exspect to read,\n",
        "  - how you feel about the answer\n",
        "  - summarize GPT-4 highlight/good point\n",
        "    - quote GPT-4 if you want to\n",
        "  - what surprise you about the answer."
      ],
      "metadata": {
        "id": "xBtA6EHofCid"
      }
    },
    {
      "cell_type": "markdown",
      "source": [
        "# 🤖 Topic #2: Access and Setup Jupyter Notebook\n",
        "\n",
        "---\n",
        "\n",
        "- Write about step-by-step on how do you access Jupyter Notebook using Google Colab.\n",
        "  - Note: ask GPT-4: What are the top five online Python Jupyter Notebook?\n",
        "    - Follow up, ask GPT-4: Give the top five free one.\n",
        "\n",
        "- Add screenshot images so to help the readers.\n",
        "\n",
        "- It is up to you to show how to sign up and access Jupyter Notebook from different to Google Colab.\n",
        "\n",
        "- It is up to you to show how to install Jupyter Notebook locally on your laptop.\n",
        "  - Note: use GPT-4: How to install Jupyter notebook locally on my Macbook laptop?"
      ],
      "metadata": {
        "id": "Dx19sFTVf-Yr"
      }
    },
    {
      "cell_type": "markdown",
      "source": [
        "# 🤖 Topic #3: Introduce The “code” and “text” Cell.\n",
        "\n",
        "---\n",
        "\n",
        "- Start by asking \"What is Python\" from GPT-4. Here are some sample prompts to help you get started, but **highly encourage** you to write your prompts to express your idea of fun.\n",
        "\n",
        "The process is using GPT-4 to ask how to code or explain this code line or coding concept. You can then copy the code to Jupyter Notebook to see it run.\n",
        "\n"
      ],
      "metadata": {
        "id": "esWyatgAgmjl"
      }
    },
    {
      "cell_type": "markdown",
      "source": [
        "##  Code cells\n",
        "---\n",
        "\n",
        "\n",
        "  1. Explain what is Jupyter Notebook code cell and show examples.\n",
        "    - expand the examples to show basic Python syntax with explaination.\n",
        "      - Explain looping concept to an old man who never use a computer before.\n",
        "\n",
        "  4. *(Your fun prompts goes here.)*"
      ],
      "metadata": {
        "id": "x4H6eWEExJIk"
      }
    },
    {
      "cell_type": "code",
      "source": [
        "# from GPT-4\n",
        "# Assigning values to variables\n",
        "name = \"Ada Lovelace\"  # A string\n",
        "age = 28               # An integer\n",
        "height = 1.7           # A floating point number\n",
        "\n",
        "# Printing variables\n",
        "print(name, \"is\", age, \"years old and\", height, \"meters tall.\")\n"
      ],
      "metadata": {
        "colab": {
          "base_uri": "https://localhost:8080/"
        },
        "id": "P1-aa94tt0Jj",
        "outputId": "57d379d5-13a7-4eb2-da41-3faf0d7805e6"
      },
      "execution_count": 2,
      "outputs": [
        {
          "output_type": "stream",
          "name": "stdout",
          "text": [
            "Ada Lovelace is 28 years old and 1.7 meters tall.\n"
          ]
        }
      ]
    },
    {
      "cell_type": "code",
      "source": [
        "# from GPT-4\n",
        "# Defining a list\n",
        "fruits = [\"apple\", \"banana\", \"cherry\"]\n",
        "\n",
        "# Accessing list elements\n",
        "print(fruits[0])  # Prints 'apple'\n",
        "print(fruits[-1]) # Prints 'cherry' (last item)\n",
        "\n",
        "# Adding an element to the list\n",
        "fruits.append(\"orange\")\n",
        "print(fruits)\n"
      ],
      "metadata": {
        "colab": {
          "base_uri": "https://localhost:8080/"
        },
        "id": "_WKrDEEMt0bj",
        "outputId": "99c8b8be-5731-4b35-bd3c-4c57e84e5637"
      },
      "execution_count": 3,
      "outputs": [
        {
          "output_type": "stream",
          "name": "stdout",
          "text": [
            "apple\n",
            "cherry\n",
            "['apple', 'banana', 'cherry', 'orange']\n"
          ]
        }
      ]
    },
    {
      "cell_type": "code",
      "source": [
        "# from GPT-4\n",
        "# Simple if-else statement\n",
        "if age > 18:\n",
        "    print(name, \"is an adult.\")\n",
        "else:\n",
        "    print(name, \"is not an adult.\")"
      ],
      "metadata": {
        "colab": {
          "base_uri": "https://localhost:8080/"
        },
        "id": "fvBGF9wVt0fZ",
        "outputId": "e13c7291-d54b-4874-8fc6-358c694e9167"
      },
      "execution_count": 4,
      "outputs": [
        {
          "output_type": "stream",
          "name": "stdout",
          "text": [
            "Ada Lovelace is an adult.\n"
          ]
        }
      ]
    },
    {
      "cell_type": "code",
      "source": [],
      "metadata": {
        "id": "zFpBTouzzLyX"
      },
      "execution_count": null,
      "outputs": []
    },
    {
      "cell_type": "code",
      "source": [
        "# from GPT-4\n",
        "# Write python code to loop through a list and print out each varible in the list.\n",
        "my_list = [10, 20, 30, 40, 50]\n",
        "\n",
        "for number in my_list:\n",
        "    print(\"Number:\", number)"
      ],
      "metadata": {
        "colab": {
          "base_uri": "https://localhost:8080/"
        },
        "id": "gthkXqN9zPXT",
        "outputId": "173812e3-3a86-4e00-eab5-e9546866a920"
      },
      "execution_count": 6,
      "outputs": [
        {
          "output_type": "stream",
          "name": "stdout",
          "text": [
            "Number: 10\n",
            "Number: 20\n",
            "Number: 30\n",
            "Number: 40\n",
            "Number: 50\n"
          ]
        }
      ]
    },
    {
      "cell_type": "markdown",
      "source": [
        "## Text cells"
      ],
      "metadata": {
        "id": "4lDdZ33u1-WN"
      }
    },
    {
      "cell_type": "markdown",
      "source": [
        "# Title Level 1\n",
        "## Title Level 2\n",
        "### Title Level 3\n",
        "\n",
        "**Bold text**\n",
        "\n",
        "*Italtic text*\n",
        "\n",
        "**_Bold and intalic text_**\n",
        "\n",
        "- Bullet item 1\n",
        "- Bullet item 2\n",
        "  - Sub-item 1\n",
        "  - Sub-item 2\n",
        "\n",
        "1. Item list number 1\n",
        "2. Item list number 2\n",
        "\n",
        "`Inline code`\n",
        "\n",
        "```python\n",
        "# Code Block\n",
        "def say_hello():\n",
        "  print(\"Hello, World!\")\n"
      ],
      "metadata": {
        "id": "rJtWPXYA2TU9"
      }
    },
    {
      "cell_type": "markdown",
      "source": [
        "The quadratic formular is:\n",
        "\n",
        "$$x = \\frac{-b \\pm \\sqrt{b^2 - 4ac}}{2a}$$"
      ],
      "metadata": {
        "id": "iwFxWauVby23"
      }
    },
    {
      "cell_type": "markdown",
      "source": [
        "Fraction: $\\frac{a}{b}$\n",
        "\n",
        "Square Root: $\\sqrt{x}$\n",
        "\n",
        "Summation: $\\sum_{n=1}^{∞} \\frac{1}{n^2}$\n",
        "\n",
        "Integral: $\\int_{a}^{∞} e^{-x} dx$"
      ],
      "metadata": {
        "id": "zDo_WOa8c7JM"
      }
    },
    {
      "cell_type": "code",
      "source": [
        "# Showcas fraction and square root:\n",
        "a = 3\n",
        "b = 5\n",
        "x = 8\n",
        "print(f\"Fraction: a/b: {a/b}\")\n",
        "print(f\"Square Root of x: {x**0.5}\")"
      ],
      "metadata": {
        "colab": {
          "base_uri": "https://localhost:8080/"
        },
        "id": "gUBvJ9Pi2DR8",
        "outputId": "a6b1b45f-6f02-4b87-f947-bd63d8722e04"
      },
      "execution_count": 9,
      "outputs": [
        {
          "output_type": "stream",
          "name": "stdout",
          "text": [
            "Fraction: a/b: 0.6\n",
            "Square Root of x: 2.8284271247461903\n"
          ]
        }
      ]
    },
    {
      "cell_type": "markdown",
      "source": [
        "### Comments"
      ],
      "metadata": {
        "id": "baRyk5_3fmp9"
      }
    },
    {
      "cell_type": "code",
      "source": [
        "# This is a single line comment as you see throughout previous example\n",
        "\n",
        "\"\"\"\n",
        "This is a multiline comment.\n",
        "Using inline comment with the text cell with markeup lauguage and LaTex\n",
        "notation is the best way to document your code.\n",
        "\n",
        "These comments are ignored by Pyton interpreter, but they wil be exported\n",
        "witht the pure Python .py files.\n",
        "\"\"\"\n",
        "def are_you_happy():\n",
        "  print(\"I am tickled pink.\")\n",
        "  return True                # always return happy == True\n"
      ],
      "metadata": {
        "id": "cNTbQUv42DVb"
      },
      "execution_count": null,
      "outputs": []
    },
    {
      "cell_type": "markdown",
      "source": [
        "# Google Drive"
      ],
      "metadata": {
        "id": "SNqDTF4FhrIx"
      }
    },
    {
      "cell_type": "code",
      "source": [
        "# from GPT-4\n",
        "from google.colab import drive\n",
        "drive.mount('/content/drive')\n"
      ],
      "metadata": {
        "colab": {
          "base_uri": "https://localhost:8080/"
        },
        "id": "0uYcS9OwAb7J",
        "outputId": "c7f28c11-3107-4b5f-d170-d6dd710e2d31"
      },
      "execution_count": 10,
      "outputs": [
        {
          "output_type": "stream",
          "name": "stdout",
          "text": [
            "Mounted at /content/drive\n"
          ]
        }
      ]
    },
    {
      "cell_type": "code",
      "source": [
        "# Prompt-GPT4:\n",
        "# List the directory of Google drive content in Python code\n",
        "\n",
        "import os\n",
        "os.listdir('/content/drive/MyDrive/Colab Notebooks')"
      ],
      "metadata": {
        "colab": {
          "base_uri": "https://localhost:8080/"
        },
        "id": "Nr5qfHoUiEsr",
        "outputId": "d1783fe8-5953-47a4-a995-7569792b23fd"
      },
      "execution_count": 11,
      "outputs": [
        {
          "output_type": "execute_result",
          "data": {
            "text/plain": [
              "['fastai_colab_lesson_1_course3_inference_only.ipynb',\n",
              " '00_notebook_tutorial.ipynb',\n",
              " 'fastai_colab_lesson_3_course3_camvid_tiramisu.ipynb',\n",
              " 'fastai_colab_lesson_3_course3_imdb.ipynb',\n",
              " 'fastai_colab_lesson_3_course3_camvid.ipynb',\n",
              " 'fastai_colab_lesson_3_course3_planet.ipynb',\n",
              " 'fastai_colab_lesson_2_course3_experiment.ipynb',\n",
              " 'fastai_colab_lesson_2_course3_experiment_extended.ipynb',\n",
              " 'kaggle.json',\n",
              " 'fastai_0_7_colab_lesson2-image_models.ipynb',\n",
              " 'fastai_0_7_colab_lesson1-vgg.ipynb',\n",
              " 'fastai_0_7_colab-lesson1-rxt50.ipynb',\n",
              " 'fastai_colab_lesson_2-course3_sgd.ipynb',\n",
              " 'fastai_0_7_colab_lesson1_first.ipynb',\n",
              " 'fastai_0_7_colab_lesson3-rossman.ipynb',\n",
              " 'lesson4_imdb_learner.h5',\n",
              " 'imdb_data_bunch.zip',\n",
              " 'lesson4_imdb_encoder_10enc.h5',\n",
              " 'lesson4_imdb_learner_10enc.h5',\n",
              " 'lesson4_imdb_text.pkl',\n",
              " 'fastai_0_7_colab_lesson4-imdb.ipynb',\n",
              " 'movielens_L07747.h5',\n",
              " 'fastai_0_7_colab_lesson6-rnn.ipynb',\n",
              " 'fastai_1_0_colab_lesson2_course3.ipynb',\n",
              " 'fastai_1_0_colab_lesson2_course3_sgd.ipynb',\n",
              " 'fastai_0_7_colab_lesson5_movielens.ipynb',\n",
              " 'fastai_0_7_colab_lesson6_sgd.ipynb',\n",
              " 'fastai_0_7_colab_lesson7_CAM.ipynb',\n",
              " 'fastai_0_7_colab_lesson7_cifar10.ipynb',\n",
              " 'time_tester.ipynb',\n",
              " 'monty_1_emotion_prepare_data.ipynb',\n",
              " 'old_fastai_1_0_colab_lesson1_course3.ipynb',\n",
              " 'meetup1-fastai_0_7_colab_lesson1_first.ipynb',\n",
              " 'fastai_1_0_colab_lesson1_pets_course3.ipynb',\n",
              " 'Copy of fastai_0_7_colab_lesson1_first.ipynb',\n",
              " 'fastai_1_0_colab_lesson3_imdb_course3.ipynb',\n",
              " 'fastai_1_0_colab_lesson2_sgd_course3.ipynb',\n",
              " 'fastai_1_0_colab_lesson3-imdb.ipynb',\n",
              " 'benchmark.ipynb',\n",
              " 'fastai_1_0_colab_lesson3_course3_head_pose.ipynb',\n",
              " 'fastai_1_0_colab_lesson1_mnist_course3.ipynb',\n",
              " 'fastai_0_7_colab_lesson1_and_lesson2-breeds.ipynb',\n",
              " 'fastai_1_0_lesson3_head_pose_good.ipynb',\n",
              " 'functions.ipynb',\n",
              " 'monty-handwriting-goo-colab.ipynb',\n",
              " 'srbt-lesson-1-export-jit.ipynb',\n",
              " 'srbt-00_notebook_tutorial.ipynb',\n",
              " 'srbt-lesson1-pets.ipynb',\n",
              " 'srbt-lesson2-download.ipynb',\n",
              " 'srbt-lesson2-sgd.ipynb',\n",
              " 'srbt-lesson3-camvid-tiramisu.ipynb',\n",
              " 'srbt-lesson3-camvid.ipynb',\n",
              " 'srbt-lesson3-head-pose.ipynb',\n",
              " 'srbt-lesson3-imdb.ipynb',\n",
              " 'srbt-lesson3-planet.ipynb',\n",
              " 'srbt-lesson4-collab.ipynb',\n",
              " 'srbt-lesson6-pets-more.ipynb',\n",
              " 'srbt-lesson6-rossmann.ipynb',\n",
              " 'srbt-lesson7-human-numbers.ipynb',\n",
              " 'srbt-lesson7-resnet-mnist.ipynb',\n",
              " 'srbt-lesson7-superres-gan.ipynb',\n",
              " 'srbt-lesson7-superres-imagenet.ipynb',\n",
              " 'srbt-lesson7-superres.ipynb',\n",
              " 'srbt-lesson7-wgan.ipynb',\n",
              " 'smbt-rossman_data_clean.ipynb',\n",
              " 'srbt-lesson5-sgd-mnist.ipynb',\n",
              " 'srbt-lesson4-tabular.ipynb',\n",
              " 'srbt_dl2_00_exports.ipynb',\n",
              " 'srbt_dl2_01_matmul.ipynb',\n",
              " 'srbt_dl2_02_fully_connected.ipynb',\n",
              " 'srbt_dl2_02a_why_sqrt5.ipynb',\n",
              " 'srbt_dl2_02b_initializing.ipynb',\n",
              " 'monty-forest-aerial-photo-goo-colab.ipynb',\n",
              " 'fastai_1_0_colab_lesson3_imdb_good.ipynb',\n",
              " 'monty-nlp-imdb-goo-colab.ipynb',\n",
              " 'scratch-monty-nlp-imdb-goo-colab.ipynb',\n",
              " 'monty-pets-goo-colab.ipynb',\n",
              " 'monty2-pets-goo-colab.ipynb',\n",
              " 'scratch.ipynb',\n",
              " 'monty-farm-animal-goo-colab.ipynb',\n",
              " 'goo-monty-movie-prediction.ipynb',\n",
              " 'monty-satellite-amazon-goo-colab.ipynb',\n",
              " 'goo-delta-baggage-loss.ipynb',\n",
              " 'Copy of advanced_outputs (1).ipynb',\n",
              " 'Copy of Forms',\n",
              " 'lesson1-pets.ipynb',\n",
              " 'd0hz-multilabel-satellite-goo-colab.ipynb',\n",
              " 'd0hz-segmentation-camvid-goo-colab.ipynb',\n",
              " 'd0hz-fruit-vegie-goo-colab.ipynb',\n",
              " 'Copy of Charts in Colaboratory (1)',\n",
              " 'note-to-self-Charts',\n",
              " 'note-to-self-Markdown Guide',\n",
              " 'note-to-self External data - Local Files, Drive, Sheets, and Cloud Storage',\n",
              " 'note-to-self-advanced_outputs.ipynb',\n",
              " 'Copy of Javascripts-collab.ipynb',\n",
              " 'd0hz-lesson2-sgd.ipynb',\n",
              " 'd0hz-food-101-goo-colab.ipynb',\n",
              " 'lesson3-head-pose.ipynb',\n",
              " 'd0hz-head-rgrs-goo-colab.ipynb',\n",
              " 'lesson3-imdb (1).ipynb',\n",
              " 'd0hz-sgd-deeplearning-notetoself.ipynb',\n",
              " 'lesson3-imdb.ipynb',\n",
              " 'd0hz-d4x4-driver-sf.ipynb',\n",
              " 'd0hz-c1sc-segmentation.ipynb',\n",
              " '08_data_block.ipynb',\n",
              " 'Copy of 08_data_block.ipynb',\n",
              " 'd0hz-vegie-101-goo-colab.ipynb',\n",
              " 'xkcd.ipynb',\n",
              " 'spiro-graph.ipynb',\n",
              " 'd0hz-Javascripts-collab.ipynb',\n",
              " 'd0hz-scratch',\n",
              " 'scratch-2.ipynb',\n",
              " 'artificial_nurual_network_an1n (1).ipynb',\n",
              " 'd0hz-nl4i-imdb.ipynb',\n",
              " 'notworking.ipynb',\n",
              " 'Ady-n-Duc-Javascripts (1).ipynb',\n",
              " 'Copy of Overview of Colaboratory Features',\n",
              " 'Python_3D_Graphs-p3vi.ipynb',\n",
              " 'fastbook.ipynb',\n",
              " 'bash.ipynb',\n",
              " 'Copy of Widgets.ipynb',\n",
              " 'clean-Javascripts-collab.ipynb',\n",
              " 'Copy of advanced_outputs.ipynb',\n",
              " 'Copy of Getting started with BigQuery',\n",
              " 'Untitled0.ipynb',\n",
              " 'Ady-n-Duc-Javascripts.ipynb',\n",
              " 'JSInteraction.ipynb',\n",
              " 'nodejs_pixiedust.ipynb',\n",
              " 'Ady-n-Duc-Javascripts-Version-2.ipynb',\n",
              " 'speak.ipynb',\n",
              " 'Copy of NLP-Data-Tokenizer-d3tz.ipynb',\n",
              " 'Swift_custom_differentiation.ipynb',\n",
              " 'd0hz-k2fa-goo-colab.ipynb',\n",
              " 'NLP_Data_Tokenizer_d3tz.ipynb',\n",
              " 'M4TM-image-multilabel.ipynb',\n",
              " 'overlay-highlite-graph-mpld3',\n",
              " 'network_graph.ipynb',\n",
              " 'I2TM-image-iden.ipynb',\n",
              " 'TM2L-template-image-multilabel.ipynb',\n",
              " 'TM1C-image-classification.ipynb',\n",
              " 'Python_Graphs-p2go.ipynb',\n",
              " 'TM3S-template-image-segmentation.ipynb',\n",
              " 'Copy of AUD3_augmentation_data_deep_dive.ipynb',\n",
              " 'AUD3_augmentation_data_deep_dive.ipynb',\n",
              " 'Untitled1.ipynb',\n",
              " '2021_Goals_d0hz.ipynb',\n",
              " 'fastaibook_02_production_d0hz.ipynb',\n",
              " 'scratch4.ipynb',\n",
              " 'fastaibook_01_intro_d0hz.ipynb',\n",
              " 'Copy of 05_Style_Transfer.ipynb',\n",
              " 'AI_Start_Here_A1SH.ipynb',\n",
              " 'Untitled (16)',\n",
              " 'artificial_nurual_network_an1n.ipynb',\n",
              " 'fastbook_4_mnist_basics.ipynb',\n",
              " 'fastbook_09_tabular.ipynb',\n",
              " 'Fox1 (1).ipynb',\n",
              " 'Untitled (15)',\n",
              " 'Copy of Fox1.ipynb',\n",
              " 'fastbook_46_tutorial.collab.ipynb',\n",
              " 'Fox1.ipynb',\n",
              " 'Copy of MovieTweetingRecommender.ipynb',\n",
              " 'Copy of adventure game 1',\n",
              " 'Copy of TensorflowJS Template.ipynb',\n",
              " 'fastbook_collab_filter_8.ipynb',\n",
              " 'd0hz_collab_filter_8_book.ipynb',\n",
              " 'fastbook_tabular_09.ipynb',\n",
              " 'Copy of finetune.ipynb',\n",
              " 'piggy_flight-lstm.ipynb',\n",
              " 'Untitled (14)',\n",
              " 'Copy of filter_visualizer.ipynb',\n",
              " 'lesson7-wgan.ipynb',\n",
              " 'good_piggy_flight_lstm (1).ipynb',\n",
              " 'fastai_12_nlp_dive.ipynb',\n",
              " 'rocky_tutorial_datablock_d0hz.ipynb',\n",
              " 'good_piggy_flight_lstm.ipynb',\n",
              " 'Untitled (13)',\n",
              " 'timeseries1.ipynb.txt',\n",
              " 'timeseries1',\n",
              " 'Copy of 04_Intro_to_Time_Series_Regression.ipynb',\n",
              " 'Copy of scratchpad',\n",
              " 'Copy of 00c_Time_Series_data_preparation.ipynb',\n",
              " 'Copy of Big Sleep',\n",
              " 'Piggy_Official_Time_Series.ipynb',\n",
              " 'Untitled (12)',\n",
              " 'Piggy_Offical_data_collector.ipynb',\n",
              " 'fastbook_44_tutorial_tabular.ipynb',\n",
              " 'Copy of Book_Time_Series.ipynb',\n",
              " 'piggy_series_01_Intro_to_Time_Series_Classification.ipynb',\n",
              " 'Copy of ruDALLE-example-generation.ipynb',\n",
              " 'Copy of TF-Hub: Fast Style Transfer for Arbitrary Styles.ipynb',\n",
              " 'Copy of 2020-04-21-timeseries-part1.ipynb',\n",
              " 'Copy of 2020-04-21-timeseries-part2.ipynb',\n",
              " 'Piggy_lotto_tsai_Time_Series.ipynb',\n",
              " 'Copy of Book_Time_Series_chapter_4.ipynb',\n",
              " 'Untitled2.ipynb',\n",
              " 'from_doc_02_data.load.ipynb',\n",
              " 'note to self TFJS-collab.ipynb',\n",
              " 'd0hz-js4u-beginner.ipynb',\n",
              " 'Time Series Chapter 3 Extra.ipynb',\n",
              " 'Copy of nerf',\n",
              " 'Copy of Charts in Colaboratory',\n",
              " 'Copy of big_data (1).ipynb',\n",
              " 'Copy of big_data.ipynb',\n",
              " 'chapter4_forecasting_part1_classical.ipynb',\n",
              " 'chapter_3_analysing_data.ipynb',\n",
              " 'chapter4_forecasting_part2_machine_learning.ipynb',\n",
              " 'Copy of 7_neural_networks_backpropagation.ipynb',\n",
              " 'Duchaba-ruDALLE-generation.ipynb',\n",
              " 'how-does-a-neural-net-really-work.ipynb',\n",
              " 'train.ipynb',\n",
              " 'getting-started-with-nlp-for-absolute-beginners (1).ipynb',\n",
              " 'Linear Model and Neural Network from Scratch Challenge.ipynb',\n",
              " 'big_data.ipynb',\n",
              " 'linear-model-and-neural-net-from-scratch.ipynb',\n",
              " 'why-you-should-use-a-framework.ipynb',\n",
              " 'jupyter-notebook-101.ipynb',\n",
              " 'app.ipynb',\n",
              " 'app (1).ipynb',\n",
              " 'Copy of GRADIO: Hello World.ipynb',\n",
              " '_ada4_clean_template.ipynb',\n",
              " 'Duc Haba-Linear Model and Neural Network from Scratch Challenge.ipynb',\n",
              " '_ada_image_classifier_data.ipynb',\n",
              " 'is-it-a-bird-creating-a-model-from-your-own-data (1).ipynb',\n",
              " 'which-image-models-are-best-timm.ipynb',\n",
              " 'hugging_face_app.ipynb',\n",
              " 'train (1).ipynb',\n",
              " 'ada_image_classifier.ipynb',\n",
              " 'Copy of DialoGPT Chatbot.ipynb',\n",
              " 'Copy of ada_skin_cancer_classifier.ipynb',\n",
              " 'Huggingface-transformer.ipynb',\n",
              " 'ada_skin_cancer_classifier.ipynb',\n",
              " 'facial_expression_classifier.ipynb',\n",
              " 'Untitled (11)',\n",
              " 'ada_image_xxx.ipynb',\n",
              " 'Copy of  parti-pytorch.ipynb',\n",
              " 'imagen.ipynb',\n",
              " 'Untitled3.ipynb',\n",
              " 'Copy of Imagen_pytorch_inference_new.ipynb',\n",
              " 'introduction-to-image-augmentation-using-fastai.ipynb',\n",
              " 'Copy of migrating_from_torchvision_to_albumentations.ipynb',\n",
              " 'Copy of example_kaggle_salt.ipynb',\n",
              " 'Untitled (10)',\n",
              " 'covid-19-tweets-eda-viz.ipynb',\n",
              " 'Copy of tfidf-train_model.ipynb',\n",
              " 'Copy of discojockey.ipynb',\n",
              " 'Copy of 2021-09-27-connect-to-colab-from-local-vscode.ipynb',\n",
              " 'good_textual_augmenter.ipynb',\n",
              " 'audio-data-augmentation.ipynb',\n",
              " 'Copy of AudioProcessingInPython.ipynb',\n",
              " 'Copy of AugLy_audio.ipynb',\n",
              " 'Untitled4.ipynb',\n",
              " 'Duc_DeltaPy - Tabular Augmentation.ipynb',\n",
              " 'duc_haba_Stable Diffusion Deep Dive.ipynb',\n",
              " 'Copy of Real-ESRGAN Inference Demo.ipynb',\n",
              " 'Copy of Deforum_Stable_Diffusion.ipynb',\n",
              " 'duc_haba_stable_diffusion.ipynb',\n",
              " 'Copy of stable-diffusion-seeds.ipynb',\n",
              " 'working-GPT-Neo for Beginners',\n",
              " 'Duc Haba-stable-diffusion.ipynb',\n",
              " 'v4-stable_diffusion.ipynb',\n",
              " 'Copy of fast-DreamBooth.ipynb',\n",
              " 'weston-v4-stable_diffusion.ipynb',\n",
              " 'duc-haba-stable-diffusion-v3.ipynb',\n",
              " 'Maxi-duc-haba-stable-diffusion-v3.ipynb',\n",
              " 'vinh-arch-duc-haba-stable-diffusion-v4.ipynb',\n",
              " 'colab-iwidgets.ipynb',\n",
              " 'Open AI-API.ipynb',\n",
              " 'vinh-arch-duc-haba-stable-diffusion-v3.ipynb',\n",
              " 'YML-AI-Stable-diffusion.ipynb',\n",
              " 'Copy of bert_with_fastai (1).ipynb',\n",
              " 'Untitled (9)',\n",
              " 'stable_diffusion_hugging_face.ipynb',\n",
              " 'Copy of bert_with_fastai.ipynb',\n",
              " 'Copy of sequence_classification.ipynb',\n",
              " 'Copy of Issue 9750.ipynb',\n",
              " 'Untitled (8)',\n",
              " 'getting-started-with-nlp-for-absolute-beginners.ipynb',\n",
              " 'Untitled (7)',\n",
              " 'Copy of fastai+blurr+huggingface.ipynb',\n",
              " 'data_augmentation_with_python_chapter_1 (2).ipynb',\n",
              " 'huggingchat.ipynb',\n",
              " 'data_augmentation_with_python_chapter_4 (1).ipynb',\n",
              " 'data_augmentation_with_python_chapter_5 (1).ipynb',\n",
              " 'data_augmentation_with_python_chapter_6 (1).ipynb',\n",
              " 'data_augmentation_with_python_chapter_7 (2).ipynb',\n",
              " 'data_augmentation_with_python_chapter_8 (1).ipynb',\n",
              " 'data_augmentation_with_python_chapter_9 (1).ipynb',\n",
              " 'data_augmentation_with_python_chapter_3 (1).ipynb',\n",
              " 'data_augmentation_with_python_chapter_2_with_output.ipynb',\n",
              " 'prompt-engineer-replacement.ipynb',\n",
              " 'huggingface_chat.ipynb',\n",
              " 'Copy of RealTimeVoiceCloning.ipynb',\n",
              " 'Copy of clone-your-own-voice-tortoise-tts.ipynb',\n",
              " '01_string_input_print.ipynb',\n",
              " 'Bark-audio-Transformer-LLM.ipynb',\n",
              " 'Copy of colab_inference_demo.ipynb',\n",
              " 'YML-covid-19.ipynb',\n",
              " 'Untitled5.ipynb',\n",
              " 'Copy of Chapter_2.ipynb',\n",
              " 'Copy of Chapter_3.ipynb',\n",
              " 'Copy of Chapter_9.ipynb',\n",
              " 'Copy of Chapter_11.ipynb',\n",
              " 'Copy of data_augmentation_with_python_chapter_4_with_output.ipynb',\n",
              " 'YML-Hackathon-stable-diffusion-v2.ipynb',\n",
              " 'Deploy-Gradio.ipynb',\n",
              " 'gradio-example.ipynb',\n",
              " 'clone-willy-voice-with-tortoise-tts.ipynb',\n",
              " 'YML-prompt-generator.ipynb',\n",
              " 'autoGPT.ipynb',\n",
              " 'Google-BARD-api-hack.ipynb',\n",
              " 'Perspicuous-team.ipynb',\n",
              " 'music.ipynb',\n",
              " 'humana-model.ipynb',\n",
              " 'sreekumar_special_sauce.ipynb',\n",
              " 'llama-index.ipynb',\n",
              " 'llama-index_v2.ipynb',\n",
              " 'Google-bard-api.ipynb',\n",
              " 'huggingface-model-usage-sentiment.ipynb',\n",
              " 'Emotion-Analysis-HuggingFace.ipynb',\n",
              " 'Untitled (6)',\n",
              " 'YML_hugging_face_text_model.ipynb',\n",
              " 'Untitled (5)',\n",
              " 'fastai_on_colab_ai.ipynb',\n",
              " 'chapter_2_Learing_Stable_Diffusion.ipynb',\n",
              " 'YML-AI-API-Hackathon.ipynb',\n",
              " 'data_augmentation_clean_up_v3.ipynb',\n",
              " 'data_augmentation_with_python_chapter_1 (1).ipynb',\n",
              " 'Copy of fast_stable_diffusion_AUTOMATIC1111.ipynb',\n",
              " 'book',\n",
              " 'data_augmentation_with_python_chapter_1.ipynb',\n",
              " 'stable-diffusion-xl.ipynb',\n",
              " 'Copilot-eval.ipynb',\n",
              " 'pluto_foxy_fastai_on_colab_ai_v2.ipynb',\n",
              " 'pluto_hugging_face_Llama-2.ipynb',\n",
              " 'Copy of comfyui_colab (2).ipynb',\n",
              " 'Copy of colab-notebook.ipynb',\n",
              " 'Pluto_huggingface_exploration.ipynb',\n",
              " 'data_augmentation_with_python_chapter_2.ipynb',\n",
              " 'v2_Pluto_huggingface_exploration.ipynb',\n",
              " 'data_augmentation_with_python_chapter_3.ipynb',\n",
              " 'data_augmentation_with_python_chapter_4.ipynb',\n",
              " 'pluto_hface_.ipynb',\n",
              " 'data_augmentation_with_python_chapter_5.ipynb',\n",
              " 'good_keep example.ipynb',\n",
              " 'lesson6.ipynb',\n",
              " 'pluto_hugging_face_stable_diffusion.ipynb',\n",
              " 'Untitled6.ipynb',\n",
              " 'AI QA Graph data.ipynb',\n",
              " 'data_augmentation_with_python_chapter_7 (1).ipynb',\n",
              " 'YML-AI-API-Hackathon-V2.ipynb',\n",
              " 'rahul_v2_articleToTextFile.ipynb',\n",
              " 'srijita_v2_downloadpdf.ipynb',\n",
              " 'Rahul_v3_articleToTextFile.ipynb',\n",
              " 'data_augmentation_with_python_chapter_7.ipynb',\n",
              " 'Untitled7.ipynb',\n",
              " 'duc-llama-index-v4.ipynb',\n",
              " 'Duc_clean_articles_data.ipynb',\n",
              " 'data_augmentation_with_python_chapter_8.ipynb',\n",
              " 'data_augmentation_with_python_chapter_9.ipynb',\n",
              " 'Stable Diffusion WebUi - Altryne',\n",
              " 'Copy of colab-github-demo.ipynb',\n",
              " 'notebook_ai.ipynb',\n",
              " 'engeneer-meetup-open-fun-chanlleng.ipynb',\n",
              " 'Rahul_clean_and_visualise_article_data.ipynb',\n",
              " 'data_augmentation_with_python_chapter_6.ipynb',\n",
              " 'Untitled8.ipynb',\n",
              " 'fun_with_export_code_cell.ipynb',\n",
              " 'llama_bottom_up.ipynb',\n",
              " 'Copy of Presenting Python code using RISE.ipynb',\n",
              " 'Copy of notebook-to-slides.ipynb',\n",
              " 'Kin-fun-pocs.ipynb',\n",
              " 'yml-llama-index-v3.ipynb',\n",
              " 'Copy of api_test_31_Oct.ipynb',\n",
              " 'kin_aws_data.ipynb',\n",
              " 'duc_QA_kin_llm_fine_tune_v2.ipynb',\n",
              " 'Untitled (4)',\n",
              " 'QA_kin_llm_fine_tune_v2.ipynb',\n",
              " 'kin_llm_fine_tune_v2.ipynb',\n",
              " 'kin_llm_fine_tune_v4.ipynb',\n",
              " 'bard.ipynb',\n",
              " 'Untitled9.ipynb',\n",
              " 'Untitled (3)',\n",
              " '120-dog-breeds-ada_image_classifier.ipynb',\n",
              " 'is-it-a-bird-creating-a-model-from-your-own-data.ipynb',\n",
              " 'fastai-2023-image-classification_foxy.ipynb',\n",
              " 'IPython_try11.ipynb',\n",
              " 'Game_of_greed.ipynb',\n",
              " 'Untitled10.ipynb',\n",
              " 'Untitled (2)',\n",
              " 'aisa_llm.ipynb',\n",
              " 'llm_fine_tune_v5.ipynb',\n",
              " 'llmaindex_openai.ipynb',\n",
              " 'aisa_llama_bottom_up.ipynb',\n",
              " 'Chapter_1_Ashley_Python_GenAI_GenZ.ipynb',\n",
              " 'Project 1Text Moderator Assignment 4(1).ipynb',\n",
              " 'Untitled (1)',\n",
              " 'explore nurse_data.ipynb',\n",
              " ' aisa_llama_customization.ipynb',\n",
              " 'Chapter_5_Duc_Python_GenAI_GenZ (1).ipynb',\n",
              " 'Copy of Chapter_6_Duc_Python_GenAI_GenZ.ipynb',\n",
              " 'Chapter_7_Duc_Python_GenAI_GenZ (1).ipynb',\n",
              " 'Chapter_8_Ashley_Python_GenAI_GenZ.ipynb',\n",
              " 'Chapter_9_Evan_Python_GenAI_GenZ.ipynb',\n",
              " 'Copy of LangChain Cookbook Part 2 - Use Cases.ipynb',\n",
              " 'plotting.ipynb',\n",
              " 'fractals_tree.ipynb',\n",
              " 'Copy of 04-01 Interactive Plotting with Matplotlib.ipynb',\n",
              " 'Untitled11.ipynb',\n",
              " 'Copy of Chapter_3_Ashley_Python_GenAI_GenZ.ipynb',\n",
              " 'Chapter_4_Evan_Python_GenAI_GenZ.ipynb',\n",
              " 'Copy of Chapter_4_Evan_Python_GenAI_GenZ.ipynb',\n",
              " 'LangChain Cookbook Part 1 - Fundamentals.ipynb',\n",
              " 'Untitled',\n",
              " 'Google app server deploy.ipynb',\n",
              " 'Copy of altair_interaction.ipynb',\n",
              " 'mandelbrot.ipynb',\n",
              " 'v1.2 Challenge_AISA_Text_Moderation_Optional.ipynb',\n",
              " 'Challenge_AISA Text-Moderation_Optional.ipynb',\n",
              " 'image2.ipynb',\n",
              " 'Flux1-text-to-image.ipynb',\n",
              " 'Copy of Flux1-text-to-image.ipynb',\n",
              " 'Diana-Flux1-text-to-image.ipynb',\n",
              " 'comfyui_colab.ipynb',\n",
              " 'Copy of comfyui_colab (1).ipynb',\n",
              " 'Untitled12.ipynb',\n",
              " 'Untitled13.ipynb',\n",
              " 'PandasAI',\n",
              " 'AISA Text-Moderation.ipynb',\n",
              " 'pluto_deploy_qa.ipynb',\n",
              " 'Diana-Fun-Flux1-text-to-image.ipynb',\n",
              " 'v3- Diana-Fun-Flux1-text-to-image.ipynb',\n",
              " 'odsc_data_augmentation_with_python_chapter_4.ipynb',\n",
              " 'odsc_data_augmentation_with_python_chapter_3.ipynb',\n",
              " 'Solution_arch_good_bad_2024_image_classification.ipynb',\n",
              " 'GPT4-horoscope.ipynb',\n",
              " 'chicken_warrior_2024_image_classification.ipynb',\n",
              " 'Copy of GPT4_horoscope.ipynb',\n",
              " 'amy_marc_version_GPT4_horoscope.ipynb',\n",
              " 'flexfriday-commic-art.ipynb',\n",
              " 'Copy of kohya-LoRA-dreambooth.ipynb',\n",
              " 'Stable diffusion 3.5.ipynb',\n",
              " 'Copy of Stable diffusion 3.5.ipynb',\n",
              " 'Stable diffusion 3.5 clean.ipynb',\n",
              " 'Copy of comfyui_colab.ipynb',\n",
              " 'Copy of Diana-story-9.ipynb',\n",
              " 'Diana-story-10.ipynb',\n",
              " 'Chapter2.ipynb',\n",
              " 'Chapter3.ipynb',\n",
              " 'Chapter_5_Duc_Python_GenAI_GenZ.ipynb',\n",
              " 'Chapter_6_Duc_Python_GenAI_GenZ.ipynb',\n",
              " 'Chapter_7_Duc_Python_GenAI_GenZ.ipynb',\n",
              " 'Assignment-4.ipynb',\n",
              " 'AISA_Solution_arch_butterfly_2024_image_classification.ipynb',\n",
              " 'Video Lesson 1 Using Jupyter Notebook.ipynb',\n",
              " 'Untitled14.ipynb',\n",
              " 'video lesson 1 notebook.ipynb',\n",
              " 'Chapter_3_Ashley_Python_GenAI_GenZ.ipynb',\n",
              " 'Chapter_2_Evan_Python_GenAI_GenZ.ipynb']"
            ]
          },
          "metadata": {},
          "execution_count": 11
        }
      ]
    },
    {
      "cell_type": "code",
      "source": [
        "print(\"end of chapter 2.\")"
      ],
      "metadata": {
        "id": "9VL5egEhI16n",
        "colab": {
          "base_uri": "https://localhost:8080/"
        },
        "outputId": "fd30a51d-ffff-4dbb-8902-a00578052057"
      },
      "execution_count": null,
      "outputs": [
        {
          "output_type": "stream",
          "name": "stdout",
          "text": [
            "end of chapter 2.\n"
          ]
        }
      ]
    }
  ]
}