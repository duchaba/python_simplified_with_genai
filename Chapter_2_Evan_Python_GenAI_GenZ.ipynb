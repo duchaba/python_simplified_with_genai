{
  "nbformat": 4,
  "nbformat_minor": 0,
  "metadata": {
    "colab": {
      "provenance": [],
      "machine_shape": "hm",
      "toc_visible": true,
      "authorship_tag": "ABX9TyMcbqTwidnvdyjNcoVL6MSL",
      "include_colab_link": true
    },
    "kernelspec": {
      "name": "python3",
      "display_name": "Python 3"
    },
    "language_info": {
      "name": "python"
    }
  },
  "cells": [
    {
      "cell_type": "markdown",
      "metadata": {
        "id": "view-in-github",
        "colab_type": "text"
      },
      "source": [
        "<a href=\"https://colab.research.google.com/github/duchaba/python_simplified_with_genai/blob/master/Chapter_2_Evan_Python_GenAI_GenZ.ipynb\" target=\"_parent\"><img src=\"https://colab.research.google.com/assets/colab-badge.svg\" alt=\"Open In Colab\"/></a>"
      ]
    },
    {
      "cell_type": "markdown",
      "source": [
        "# 🌻 Welcome Reader and Coder\n",
        "---\n",
        "\n",
        "- Let's Rock and Roll"
      ],
      "metadata": {
        "id": "3WnEac7Fwdgw"
      }
    },
    {
      "cell_type": "code",
      "source": [
        "print(f'Hello World.')"
      ],
      "metadata": {
        "colab": {
          "base_uri": "https://localhost:8080/"
        },
        "id": "IJVD8p_vPR7D",
        "outputId": "40c7e8fe-ef8c-43cf-b435-52c7e2d91c24"
      },
      "execution_count": 1,
      "outputs": [
        {
          "output_type": "stream",
          "name": "stdout",
          "text": [
            "Hello World.\n"
          ]
        }
      ]
    },
    {
      "cell_type": "markdown",
      "source": [
        "# 📗 Book Title – Python Simplified with Generative AI\n",
        "\n",
        "\n",
        "---\n",
        "\n",
        "## Introduction:\n",
        "\n",
        "In the bustling corridors of the university, amidst the chatter of new ideas and the rustle of\n",
        "textbooks, there is a common thread of a challenge looming before us. As college students, we\n",
        "faced the daunting task of navigating the digital landscape, such as learning about complex\n",
        "programming code, internalizing AI paradigms, and expanding our personal growth.\n",
        "\n",
        "However, most existing books fail to connect with us. The books seem distant because they\n",
        "were authored by academics and industry professionals who disconnected from the\n",
        "challenges of the new Generative Artificial Intelligence (GenAI) era in education. Hence, we\n",
        "propose to craft this book, written by college students for college students, with a coauthor\n",
        "who is a renowned AI leader and an author of the book “Data Augmentation with Python.”\n",
        "\n",
        "We are a generation that thrives on immediacy and experiential learning. The GenZ, our lot,\n",
        "don’t just learn; we ‘do,’ we ‘experience.’ And that’s where GenAI, such as GPT-4’s Copilot,\n",
        "Meta Code Llama, or Google Gemini, emerges as a beacon. Drawing inspiration from the\n",
        "growth of AI in modern learning, GenAI is your personalized coach or a teaching assistant\n",
        "always by your side.\n",
        "\n",
        "The proposed book's core learning experience will be a narrative of a human and an AI\n",
        "working together to learn from a series of short, interactive projects on Python Jupyter\n",
        "Notebooks (Notebooks). Along the way, the reader will learn how to write code in Python and\n",
        "practice it on a copy of the Notebook. The lessons are functional projects recognizable to\n",
        "GenZ as everyday activities.\n",
        "\n",
        "In contrast, many Python books prioritize comprehending data structures, algorithms, and\n",
        "complex syntax before implementing them. Furthermore, the outdated teaching approach\n",
        "relies solely on one narrative and doesn't allow students to independently investigate and\n",
        "challenge the lessons.\n",
        "\n",
        "The play-first method increases confidence and connects theory, GenAI, and real-world\n",
        "application. It aligns with GenZ's preference for experiential learning, i.e., learning by doing.\n",
        "The readers will remember that this isn’t just another Python book. Instead, it is a unique\n",
        "journey where a fellow human and digital GenAI will accompany you every step. They will\n",
        "teach, demonstrate, guide, assist, and motivate as you learn Python coding. Furthermore, the\n",
        "readers can adapt the learning journey to various other college topics, including but not\n",
        "limited to science, history, art, and communication. Welcome to a learning experience\n",
        "tailored for our generation by one of our own."
      ],
      "metadata": {
        "id": "PW2-o66xPSlN"
      }
    },
    {
      "cell_type": "markdown",
      "source": [
        "# 🍎 Welcome to Chapter 2: Jupyter Notebook and Google Colab\n",
        "---\n"
      ],
      "metadata": {
        "id": "xmcx9tkOSqK3"
      }
    },
    {
      "cell_type": "markdown",
      "source": [
        "## 🦛 Author: Evan\n",
        "---\n",
        "## Description:\n",
        "\n",
        "Welcome to a journey through the versatile world of Python Jupyter Notebooks! This chapter\n",
        "is designed to be your friendly guide, unveiling the powerful features of one of the most\n",
        "popular tools in data science, programming, and education. Jupyter Notebooks, with their\n",
        "unique blend of code, visuals, and narrative, offer an interactive canvas for beginners and\n",
        "seasoned professionals.\n",
        "\n",
        "As we delve into this chapter, we'll explore how Jupyter Notebooks elevate Python\n",
        "programming to a new level of efficiency and clarity. You'll learn to blend live code\n",
        "seamlessly with rich text, equations, and visualizations, turning your code into an engaging\n",
        "story. We'll uncover the magic of interactive widgets that bring your data to life, making\n",
        "analysis not just informative but also interactive and fun.\n",
        "\n",
        "Whether you're analyzing data, teaching complex concepts, or just experimenting with\n",
        "Python, Jupyter Notebooks provides a flexible and user-friendly environment in which to do\n",
        "so. So, buckle up and get ready to unlock the full potential of Python Jupyter Notebooks,\n",
        "where coding meets creativity in the most inspiring way!\n",
        "\n",
        "## Introduction:\n",
        "Chapter 2 aims to introduce and explain the usage of Jupyter Notebook, with a focus on\n",
        "using the Google Collab environment. I will describe my personal process of learning about\n",
        "Jupyter Notebook using GenAI. It is important to note that the list of features I present is not\n",
        "exhaustive, but it covers a significant portion of the tool. Additionally, I will describe how to\n",
        "continue learning about other features not covered in my explanation.\n",
        "\n",
        "I will encourage readers to explore features independently and deeply dive into them. To use\n",
        "a fishing analogy, I will teach them how to fish, and it will be up to the reader to decide\n",
        "when, where, and how much fish they want to catch.\n",
        "Our objective is to hold off on teaching Python coding until later chapters. Furthermore, I\n",
        "plan to copy the code generated by GenAI - specifically, Gemini and GPT-4/Copilot - to\n",
        "Jupyter Notebook to observe its functionality and then use that experience to draw\n",
        "connections and explain in this chapter.\n",
        "\n",
        "If I use a response generated by GenAI, I will clearly indicate that it is not my own and\n",
        "attribute it accordingly. However, I will read and edit the response to my interpretation.\n",
        "\n",
        "##Topics to be covered:\n",
        "---\n",
        "\n",
        "1. What is Python Jupyter Notebook?\n",
        "\n",
        "2. Access and Setup Jupyter Notebook\n",
        "3. Introduce The “code” and “text” Cell\n",
        "4. Special Google Colab Features"
      ],
      "metadata": {
        "id": "DHGKa52qwsp7"
      }
    },
    {
      "cell_type": "markdown",
      "source": [
        "# 🤖 Topic #1: What is Python Jupyter Notebook?\n",
        "\n",
        "---\n",
        "\n",
        "- Login GPT-4, https://chat.openai.com/\n",
        "\n",
        "- Open a \"new chat\" session\n",
        "\n",
        "- Start by asking \"What is Python Jupyter Notebook\" from GPT-4. Here are some sample prompts to help you get started, but **highly encourage** you to write your prompts to express your idea of fun.\n",
        "\n",
        "  1. What is Python Jupyter Notebook?\n",
        "    - Tell the readers to review chapter 1 if they do not how to access or use GPT-4.\n",
        "      - Note: You can ast GPT-4 to write it. Duc to demo: \"write a paragraph for a book about the following topic: If the readers do not know how to use or access GPT-4, please read the step by step process from Chapter 1.\"\n",
        "\n",
        "  2. Explain the history of Python Jupyter Notebook using an online RGP game.\n",
        "\n",
        "  3. Give top five reason why programmer should use Python Jupyter Notebook.\n",
        "\n",
        "  4. Compare Python Jupyter Notebook with other Python IDE, and show why Jupyter Notebook is better.\n",
        "\n",
        "    - Explain \"Interactivity and Exploratory Analysis\" in detail using a kid tone and give examples.\n",
        "\n",
        "  5. Give me 10 funny slogun about using Jupyter notebook is good choice.\n",
        "\n",
        "  6. *(Your fun prompts goes here.)*"
      ],
      "metadata": {
        "id": "5lsvqIKsWblI"
      }
    },
    {
      "cell_type": "code",
      "source": [
        "# prompt: What is GenAI?"
      ],
      "metadata": {
        "id": "155VNcb7bhSX"
      },
      "execution_count": null,
      "outputs": []
    },
    {
      "cell_type": "markdown",
      "source": [
        "## Suggestion on the writing process\n",
        "\n",
        "---\n",
        "\n",
        "- After you read all the answer from GPT-4 above:\n",
        "\n",
        "  - write about why you ask this question,\n",
        "\n",
        "  - what you exspect to read,\n",
        "  - how you feel about the answer\n",
        "  - summarize GPT-4 highlight/good point\n",
        "    - quote GPT-4 if you want to\n",
        "  - what surprise you about the answer."
      ],
      "metadata": {
        "id": "xBtA6EHofCid"
      }
    },
    {
      "cell_type": "markdown",
      "source": [
        "# 🤖 Topic #2: Access and Setup Jupyter Notebook\n",
        "\n",
        "---\n",
        "\n",
        "- Write about step-by-step on how do you access Jupyter Notebook using Google Colab.\n",
        "  - Note: ask GPT-4: What are the top five online Python Jupyter Notebook?\n",
        "    - Follow up, ask GPT-4: Give the top five free one.\n",
        "\n",
        "- Add screenshot images so to help the readers.\n",
        "\n",
        "- It is up to you to show how to sign up and access Jupyter Notebook from different to Google Colab.\n",
        "\n",
        "- It is up to you to show how to install Jupyter Notebook locally on your laptop.\n",
        "  - Note: use GPT-4: How to install Jupyter notebook locally on my Macbook laptop?"
      ],
      "metadata": {
        "id": "Dx19sFTVf-Yr"
      }
    },
    {
      "cell_type": "markdown",
      "source": [
        "# 🤖 Topic #3: Introduce The “code” and “text” Cell.\n",
        "\n",
        "---\n",
        "\n",
        "- Start by asking \"What is Python\" from GPT-4. Here are some sample prompts to help you get started, but **highly encourage** you to write your prompts to express your idea of fun.\n",
        "\n",
        "The process is using GPT-4 to ask how to code or explain this code line or coding concept. You can then copy the code to Jupyter Notebook to see it run.\n",
        "\n"
      ],
      "metadata": {
        "id": "esWyatgAgmjl"
      }
    },
    {
      "cell_type": "markdown",
      "source": [
        "##  Code cells\n",
        "---\n",
        "\n",
        "\n",
        "  1. Explain what is Jupyter Notebook code cell and show examples.\n",
        "    - expand the examples to show basic Python syntax with explaination.\n",
        "      - Explain looping concept to an old man who never use a computer before.\n",
        "\n",
        "  4. *(Your fun prompts goes here.)*"
      ],
      "metadata": {
        "id": "x4H6eWEExJIk"
      }
    },
    {
      "cell_type": "code",
      "source": [
        "# from GPT-4\n",
        "# Assigning values to variables\n",
        "name = \"Ada Lovelace\"  # A string\n",
        "age = 28               # An integer\n",
        "height = 1.7           # A floating point number\n",
        "\n",
        "# Printing variables\n",
        "print(name, \"is\", age, \"years old and\", height, \"meters tall.\")\n"
      ],
      "metadata": {
        "colab": {
          "base_uri": "https://localhost:8080/"
        },
        "id": "P1-aa94tt0Jj",
        "outputId": "57d379d5-13a7-4eb2-da41-3faf0d7805e6"
      },
      "execution_count": 2,
      "outputs": [
        {
          "output_type": "stream",
          "name": "stdout",
          "text": [
            "Ada Lovelace is 28 years old and 1.7 meters tall.\n"
          ]
        }
      ]
    },
    {
      "cell_type": "code",
      "source": [
        "# from GPT-4\n",
        "# Defining a list\n",
        "fruits = [\"apple\", \"banana\", \"cherry\"]\n",
        "\n",
        "# Accessing list elements\n",
        "print(fruits[0])  # Prints 'apple'\n",
        "print(fruits[-1]) # Prints 'cherry' (last item)\n",
        "\n",
        "# Adding an element to the list\n",
        "fruits.append(\"orange\")\n",
        "print(fruits)\n"
      ],
      "metadata": {
        "colab": {
          "base_uri": "https://localhost:8080/"
        },
        "id": "_WKrDEEMt0bj",
        "outputId": "99c8b8be-5731-4b35-bd3c-4c57e84e5637"
      },
      "execution_count": 3,
      "outputs": [
        {
          "output_type": "stream",
          "name": "stdout",
          "text": [
            "apple\n",
            "cherry\n",
            "['apple', 'banana', 'cherry', 'orange']\n"
          ]
        }
      ]
    },
    {
      "cell_type": "code",
      "source": [
        "# from GPT-4\n",
        "# Simple if-else statement\n",
        "if age > 18:\n",
        "    print(name, \"is an adult.\")\n",
        "else:\n",
        "    print(name, \"is not an adult.\")"
      ],
      "metadata": {
        "colab": {
          "base_uri": "https://localhost:8080/"
        },
        "id": "fvBGF9wVt0fZ",
        "outputId": "e13c7291-d54b-4874-8fc6-358c694e9167"
      },
      "execution_count": 4,
      "outputs": [
        {
          "output_type": "stream",
          "name": "stdout",
          "text": [
            "Ada Lovelace is an adult.\n"
          ]
        }
      ]
    },
    {
      "cell_type": "code",
      "source": [],
      "metadata": {
        "id": "zFpBTouzzLyX"
      },
      "execution_count": null,
      "outputs": []
    },
    {
      "cell_type": "code",
      "source": [
        "# from GPT-4\n",
        "# Write python code to loop through a list and print out each varible in the list.\n",
        "my_list = [10, 20, 30, 40, 50]\n",
        "\n",
        "for number in my_list:\n",
        "    print(\"Number:\", number)"
      ],
      "metadata": {
        "colab": {
          "base_uri": "https://localhost:8080/"
        },
        "id": "gthkXqN9zPXT",
        "outputId": "173812e3-3a86-4e00-eab5-e9546866a920"
      },
      "execution_count": 6,
      "outputs": [
        {
          "output_type": "stream",
          "name": "stdout",
          "text": [
            "Number: 10\n",
            "Number: 20\n",
            "Number: 30\n",
            "Number: 40\n",
            "Number: 50\n"
          ]
        }
      ]
    },
    {
      "cell_type": "markdown",
      "source": [
        "# Text cells"
      ],
      "metadata": {
        "id": "4lDdZ33u1-WN"
      }
    },
    {
      "cell_type": "markdown",
      "source": [],
      "metadata": {
        "id": "rJtWPXYA2TU9"
      }
    },
    {
      "cell_type": "code",
      "source": [],
      "metadata": {
        "id": "gUBvJ9Pi2DR8"
      },
      "execution_count": null,
      "outputs": []
    },
    {
      "cell_type": "code",
      "source": [],
      "metadata": {
        "id": "cNTbQUv42DVb"
      },
      "execution_count": null,
      "outputs": []
    },
    {
      "cell_type": "code",
      "source": [],
      "metadata": {
        "id": "q3qdhyei2DYT"
      },
      "execution_count": null,
      "outputs": []
    },
    {
      "cell_type": "code",
      "source": [],
      "metadata": {
        "id": "xKZcYwfT2Dbb"
      },
      "execution_count": null,
      "outputs": []
    },
    {
      "cell_type": "code",
      "source": [],
      "metadata": {
        "id": "0rAhtIIX2DeT"
      },
      "execution_count": null,
      "outputs": []
    },
    {
      "cell_type": "code",
      "source": [],
      "metadata": {
        "id": "m2f8TmXc2DhS"
      },
      "execution_count": null,
      "outputs": []
    },
    {
      "cell_type": "code",
      "source": [],
      "metadata": {
        "id": "FhvtMr5p2DkU"
      },
      "execution_count": null,
      "outputs": []
    },
    {
      "cell_type": "code",
      "source": [],
      "metadata": {
        "id": "69FStbRm0CGz"
      },
      "execution_count": null,
      "outputs": []
    },
    {
      "cell_type": "code",
      "source": [],
      "metadata": {
        "id": "OM-WxA4E0CKZ"
      },
      "execution_count": null,
      "outputs": []
    },
    {
      "cell_type": "code",
      "source": [
        "# from GPT-4\n",
        "# Defining a simple function\n",
        "def greet(person):\n",
        "    return \"Hello, \" + person + \"!\"\n",
        "\n",
        "# Calling the function\n",
        "message = greet(\"Alice\")\n",
        "print(message)\n"
      ],
      "metadata": {
        "colab": {
          "base_uri": "https://localhost:8080/"
        },
        "id": "8meiJjwEt0kE",
        "outputId": "b6c74a4d-a89f-4904-a387-2f72a808e7b6"
      },
      "execution_count": null,
      "outputs": [
        {
          "output_type": "stream",
          "name": "stdout",
          "text": [
            "Hello, Alice!\n"
          ]
        }
      ]
    },
    {
      "cell_type": "code",
      "source": [
        "# change age\n",
        "age = 12"
      ],
      "metadata": {
        "id": "vyQtDh0gvo4i"
      },
      "execution_count": null,
      "outputs": []
    },
    {
      "cell_type": "code",
      "source": [
        "# Printing variables\n",
        "print(name, \"is\", age, \"years old and\", height, \"meters tall.\")"
      ],
      "metadata": {
        "colab": {
          "base_uri": "https://localhost:8080/"
        },
        "id": "UtNkjiw-vVmp",
        "outputId": "92cd30c6-ec50-476b-e3dd-3516adc01676"
      },
      "execution_count": null,
      "outputs": [
        {
          "output_type": "stream",
          "name": "stdout",
          "text": [
            "Ada Lovelace is 12 years old and 1.7 meters tall.\n"
          ]
        }
      ]
    },
    {
      "cell_type": "code",
      "source": [
        "#re run-the above conditional cell to see the different"
      ],
      "metadata": {
        "id": "qsQgqO67vVp3"
      },
      "execution_count": null,
      "outputs": []
    },
    {
      "cell_type": "code",
      "source": [
        "# from gpt-4\n",
        "import matplotlib.pyplot as plt\n",
        "\n",
        "# Define data\n",
        "x = range(1, 6)           # Define x values (1 through 5)\n",
        "y = [i**2 for i in x]     # Calculate y values as squares of x values\n",
        "\n",
        "# Plot data\n",
        "plt.plot(x, y, marker='o') # Plot x and y using circle markers\n",
        "\n",
        "# Customize the plot\n",
        "plt.title(\"Square Numbers\")\n",
        "plt.xlabel(\"Value\")\n",
        "plt.ylabel(\"Square of Value\")\n",
        "\n",
        "# Show plot\n",
        "plt.show()\n"
      ],
      "metadata": {
        "colab": {
          "base_uri": "https://localhost:8080/",
          "height": 472
        },
        "id": "HF9oZONXv9eV",
        "outputId": "c24a3fb5-a251-4f31-c2f2-8ab1fdd6381d"
      },
      "execution_count": null,
      "outputs": [
        {
          "output_type": "display_data",
          "data": {
            "text/plain": [
              "<Figure size 640x480 with 1 Axes>"
            ],
            "image/png": "[encoded data removed]"
          },
          "metadata": {}
        }
      ]
    },
    {
      "cell_type": "code",
      "source": [],
      "metadata": {
        "id": "0CBWwDdqv9hq"
      },
      "execution_count": null,
      "outputs": []
    },
    {
      "cell_type": "code",
      "source": [
        "# prompt: print out the reader name\n",
        "\n",
        "fname = 'Hippo Guy'\n",
        "print(f'Welcome reader and coder: {fname}.')\n"
      ],
      "metadata": {
        "colab": {
          "base_uri": "https://localhost:8080/"
        },
        "id": "vTTfIhKZp2v3",
        "outputId": "f363bd2b-ee7b-4e7f-c9a7-6fa1aacde276"
      },
      "execution_count": null,
      "outputs": [
        {
          "output_type": "stream",
          "name": "stdout",
          "text": [
            "Welcome reader and coder: Hippo Guy.\n"
          ]
        }
      ]
    },
    {
      "cell_type": "code",
      "source": [
        "# prompt: find the square root of a number\n",
        "\n",
        "import math\n",
        "num = 100\n",
        "sqrt = math.sqrt(num)\n",
        "print(f'The square root of {num} is {sqrt}')\n"
      ],
      "metadata": {
        "colab": {
          "base_uri": "https://localhost:8080/"
        },
        "id": "B_ioOjNWp3IO",
        "outputId": "40b4b9c7-387b-4e1a-e4af-4c8a21567b34"
      },
      "execution_count": null,
      "outputs": [
        {
          "output_type": "stream",
          "name": "stdout",
          "text": [
            "The square root of 100 is 10.0\n"
          ]
        }
      ]
    },
    {
      "cell_type": "code",
      "source": [
        "# prompt: create a dictionary object for a person with name, age, address, and height.\n",
        "\n",
        "person = {\n",
        "    'name': 'Hippo Guy',\n",
        "    'age': 100,\n",
        "    'address': '123 Main Street',\n",
        "    'height': 6.0\n",
        "}\n"
      ],
      "metadata": {
        "id": "oqkGRsr1p3LV"
      },
      "execution_count": null,
      "outputs": []
    },
    {
      "cell_type": "code",
      "source": [
        "# prompt: print out the person\n",
        "\n",
        "print(person)\n"
      ],
      "metadata": {
        "colab": {
          "base_uri": "https://localhost:8080/"
        },
        "id": "epTZOoJ5p3O-",
        "outputId": "20058352-beb2-4918-9c09-cd7acb44c7f1"
      },
      "execution_count": null,
      "outputs": [
        {
          "output_type": "stream",
          "name": "stdout",
          "text": [
            "{'name': 'Hippo Guy', 'age': 100, 'address': '123 Main Street', 'height': 6.0}\n"
          ]
        }
      ]
    },
    {
      "cell_type": "code",
      "source": [
        "# prompt: print out person name\n",
        "\n",
        "print(person['name'])\n"
      ],
      "metadata": {
        "colab": {
          "base_uri": "https://localhost:8080/"
        },
        "id": "y1lX6ujJrU-3",
        "outputId": "9e64075f-ef04-4747-c393-06c3281789e1"
      },
      "execution_count": null,
      "outputs": [
        {
          "output_type": "stream",
          "name": "stdout",
          "text": [
            "Hippo Guy\n"
          ]
        }
      ]
    },
    {
      "cell_type": "markdown",
      "source": [
        "##  Text cells\n",
        "---\n",
        "\n",
        "\n",
        "  1. Explain what is Jupyter Notebook text cell and show examples.\n",
        "    - Display all the markup syntax for code cell with explaination.\n",
        "    \n",
        "  2. Explain LaTeX math and equations with examples.\n",
        "\n",
        "  4. *(Your fun prompts goes here.)*"
      ],
      "metadata": {
        "id": "uMKVGpNnxXTp"
      }
    },
    {
      "cell_type": "markdown",
      "source": [
        "Einstein's equation $E=mc^2$ expresses the relationship between energy (E), mass (m), and the speed of light (c).\n"
      ],
      "metadata": {
        "id": "TzhQ2oVZ6D9y"
      }
    },
    {
      "cell_type": "markdown",
      "source": [
        "$$\\frac{a}{b}$$\n"
      ],
      "metadata": {
        "id": "mGtFD_O66EBS"
      }
    },
    {
      "cell_type": "markdown",
      "source": [
        "$$\\sum_{i=1}^{n} i = \\frac{n(n+1)}{2}$$\n"
      ],
      "metadata": {
        "id": "Znz63b-O6EEJ"
      }
    },
    {
      "cell_type": "markdown",
      "source": [
        "$$\\int_{a}^{b} x^2 dx$$\n"
      ],
      "metadata": {
        "id": "2vgk7sPs6EJt"
      }
    },
    {
      "cell_type": "markdown",
      "source": [
        "$$\\alpha, \\beta, \\gamma, \\Delta, \\sigma, \\Theta$$\n"
      ],
      "metadata": {
        "id": "m-SqYdlt6EOs"
      }
    },
    {
      "cell_type": "code",
      "source": [],
      "metadata": {
        "id": "L-rKZ6DmxX2D"
      },
      "execution_count": null,
      "outputs": []
    },
    {
      "cell_type": "code",
      "source": [],
      "metadata": {
        "id": "HSoiT6S4gmq3"
      },
      "execution_count": null,
      "outputs": []
    },
    {
      "cell_type": "markdown",
      "source": [
        "# 🤖 Topic #4: Special Google Colab Features\n",
        "\n",
        "---\n",
        "\n",
        "- Start by asking \"What are Special Google Colab Features\" from GPT-4. Here are some sample prompts to help you get started, but **highly encourage** you to write your prompts to express your idea of fun.\n",
        "\n",
        "  1. What are Special Google Colab Features?\n",
        "    - Why access to GPU is important?\n",
        "      - Explain GPU for a student at the begining of learn about Python.\n",
        "\n",
        "  2. Explain GPU for a student at the begining of learn about Python.\n",
        "\n",
        "  3. Explain Google Colab form widgets with code example.\n",
        "\n",
        "  4. *(Your prompt goes here.)*"
      ],
      "metadata": {
        "id": "cQ9dmpSElxn_"
      }
    },
    {
      "cell_type": "code",
      "source": [
        "# from GPT-4\n",
        "from google.colab import drive\n",
        "drive.mount('/content/drive')\n"
      ],
      "metadata": {
        "colab": {
          "base_uri": "https://localhost:8080/"
        },
        "id": "0uYcS9OwAb7J",
        "outputId": "bf4625ca-b4d9-4544-dc5b-a8f30abc20d0"
      },
      "execution_count": null,
      "outputs": [
        {
          "output_type": "stream",
          "name": "stdout",
          "text": [
            "Mounted at /content/drive\n"
          ]
        }
      ]
    },
    {
      "cell_type": "code",
      "source": [
        "!ls -fa /content/drive/MyDrive/"
      ],
      "metadata": {
        "colab": {
          "base_uri": "https://localhost:8080/"
        },
        "id": "Yge6MxkeAb_a",
        "outputId": "db29af14-e008-4a4d-d563-23d287d1e4e4"
      },
      "execution_count": null,
      "outputs": [
        {
          "output_type": "stream",
          "name": "stdout",
          "text": [
            " eclipse-setup\n",
            " 2015Patent\n",
            " Private\n",
            "'Vinh House'\n",
            "'Colab Notebooks'\n",
            " nodejs-clean-speak\n",
            " Archive\n",
            " Scratch\n",
            " doc-share\n",
            " public\n",
            " fastai-video\n",
            " sandbox\n",
            "'Mini Volleyball sign up.gform'\n",
            " .ipynb_checkpoints\n",
            " MC-volleyball-openhouse.MP4\n",
            "'MC Volley - OH 06 November .gslides'\n",
            " dat_DS82_Complete.pdf\n",
            "'2022 SCHEDULE .gslides'\n",
            " PointrKit-Android.8.0.0.zip\n",
            " PointrKit-ios.8.0.0.zip\n",
            " data_augmentation_with_python_chapter_3.ipynb\n",
            " time-series\n",
            " monty.ardese.com.gsite\n",
            "'Generative AI with Python.gdoc'\n",
            " YML-AI-Strategy.gdoc\n",
            " Bactrian\n",
            " Persona.gdoc\n",
            "'Hawaii plan 2023.gdoc'\n",
            " book\n",
            "'\"Colab Notebooks\"'\n",
            "'Duc Haba CV June 2023.pdf'\n",
            "'Duc Haba.gsite'\n",
            "'Untitled document (2).gdoc'\n",
            "'Untitled document (1).gdoc'\n",
            "'Untitled document.gdoc'\n",
            " Do_it_fresh1.gdoc\n",
            "'AI QA.gdoc'\n",
            "'AI QA Taxonomy.gdoc'\n",
            "'Copy of Brief AI Solution Architect   Duc Haba.gdoc'\n",
            "'Brief AI Solution Architect   Duc Haba.gdoc'\n",
            "'AI Development Frameworks.gdoc'\n",
            "'Kin AI and Data Gantt Chart Template.gsheet'\n",
            "'duc-copy-ai-solution-arch-brief .gdoc'\n",
            "'Instructor version: Course Syllabus: Session 1 of Week 1.gdoc'\n",
            "'Course Syllabus: Session 1 of Week 1.gdoc'\n",
            " llm_response_and_accuracy.csv\n",
            "'Untitled spreadsheet (2).gsheet'\n",
            "'Selection of Customizing LLM Methodology.gdoc'\n",
            "'Untitled spreadsheet (1).gsheet'\n",
            "'QA Kinship LLM Accuracy Insight.gdoc'\n",
            " data-driven-ai-solution-arch.drawio\n",
            "'Duc AI and Heathcare.gdoc'\n",
            "'list top four benefit from using AI LlamaIndex to customize LLM..gdoc'\n",
            " distant.gsheet\n",
            " duc-macbook-jan-2024\n",
            "'Untitled presentation.gslides'\n",
            " SynthPoll-v2.key\n",
            "'StateFarm Auto Insurance Claim Form, Dat Haba and Quang Ha.gdoc'\n",
            "'AISA course Duc contacts LinkedIn.gsheet'\n",
            " python_genz\n",
            "'Quality Assurance in Generative AI.gdoc'\n",
            " aisa.gsheet\n",
            "'GenZ Learns GenAI with Python.gdoc'\n",
            "'Python Simplified with Generative AI (By GenZ for GenZ).gsheet'\n",
            "'Untitled spreadsheet.gsheet'\n",
            "'Duc Haba CV April 2024.gdoc'\n"
          ]
        }
      ]
    },
    {
      "cell_type": "code",
      "source": [
        "#@title Multiply a number using a slider for parameter adjustment\n",
        "\n",
        "number_to_multiply = 5 #@param {type:\"integer\"}\n",
        "multiplier = 54 #@param {type:\"slider\", min:1, max:100, step:1}\n",
        "\n"
      ],
      "metadata": {
        "id": "BpB62Vl6AcJN"
      },
      "execution_count": null,
      "outputs": []
    },
    {
      "cell_type": "code",
      "source": [
        "result = number_to_multiply * multiplier\n",
        "print(f\"{number_to_multiply} multiplied by {multiplier} equals {result}\")\n"
      ],
      "metadata": {
        "colab": {
          "base_uri": "https://localhost:8080/"
        },
        "id": "RKk1a5a3AcQQ",
        "outputId": "e91d5378-0427-4b1f-b5c4-8bc47b54cf88"
      },
      "execution_count": null,
      "outputs": [
        {
          "output_type": "stream",
          "name": "stdout",
          "text": [
            "5 multiplied by 54 equals 270\n"
          ]
        }
      ]
    },
    {
      "cell_type": "code",
      "source": [
        "print(\"end of chapter 2.\")"
      ],
      "metadata": {
        "id": "9VL5egEhI16n",
        "colab": {
          "base_uri": "https://localhost:8080/"
        },
        "outputId": "fd30a51d-ffff-4dbb-8902-a00578052057"
      },
      "execution_count": null,
      "outputs": [
        {
          "output_type": "stream",
          "name": "stdout",
          "text": [
            "end of chapter 2.\n"
          ]
        }
      ]
    }
  ]
}